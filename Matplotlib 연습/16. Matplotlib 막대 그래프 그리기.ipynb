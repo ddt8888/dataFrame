{
 "cells": [
  {
   "cell_type": "code",
   "execution_count": 1,
   "id": "5c2c436e",
   "metadata": {},
   "outputs": [],
   "source": [
    "import matplotlib.pyplot as plt\n",
    "import numpy as np"
   ]
  },
  {
   "cell_type": "markdown",
   "id": "eb351ea6",
   "metadata": {},
   "source": [
    "#### 막대 그래프 (Bar graph, Bar chart)는 범주가 있는 데이터 값을 막대로 표현하는 그래프\n",
    "\n",
    "\n",
    "## 기본 사용\n",
    "- bar()"
   ]
  },
  {
   "cell_type": "code",
   "execution_count": 6,
   "id": "5873b898",
   "metadata": {},
   "outputs": [
    {
     "data": {
      "image/png": "[encoded data removed]",
      "text/plain": [
       "<Figure size 432x288 with 1 Axes>"
      ]
     },
     "metadata": {
      "needs_background": "light"
     },
     "output_type": "display_data"
    }
   ],
   "source": [
    "x = np.arange(3)\n",
    "years = ['2018', '2019', '2020']\n",
    "value = [100, 400, 900]\n",
    "\n",
    "plt.bar(x, value)\n",
    "plt.xticks(x, years)\n",
    "plt.show()"
   ]
  },
  {
   "cell_type": "markdown",
   "id": "834232ea",
   "metadata": {},
   "source": [
    "## 색 입히기 & 폭 지정\n",
    "\n",
    "#### 색입히기\n",
    "1. bar()함수 안에 color 파라미터로 지정\n",
    "2. 리스트를 생성해서 color파라미터에 입력 가능\n",
    "\n",
    "#### 폭 지정\n",
    "- bar() 함수 안에 width 파라미터로 0~1사이값 지정(default=0.8)"
   ]
  },
  {
   "cell_type": "code",
   "execution_count": 13,
   "id": "0500194c",
   "metadata": {},
   "outputs": [
    {
     "data": {
      "image/png": "[encoded data removed]",
      "text/plain": [
       "<Figure size 432x288 with 1 Axes>"
      ]
     },
     "metadata": {
      "needs_background": "light"
     },
     "output_type": "display_data"
    }
   ],
   "source": [
    "# ex1 - 모든 bar가 같은 색이됨\n",
    "x = np.arange(3)\n",
    "years = ['2018', '2019', '2020']\n",
    "value = [100, 400, 900]\n",
    "\n",
    "plt.bar(x, value, color='forestgreen', width=0.2)\n",
    "plt.xticks(x, years)\n",
    "\n",
    "plt.show()"
   ]
  },
  {
   "cell_type": "code",
   "execution_count": 14,
   "id": "80edf439",
   "metadata": {},
   "outputs": [
    {
     "data": {
      "image/png": "[encoded data removed]",
      "text/plain": [
       "<Figure size 432x288 with 1 Axes>"
      ]
     },
     "metadata": {
      "needs_background": "light"
     },
     "output_type": "display_data"
    }
   ],
   "source": [
    "# ex2 - 각 막대 별로 다른 색입히기 가능\n",
    "x = np.arange(3)\n",
    "years = ['2018', '2019', '2020']\n",
    "value = [100, 400, 900]\n",
    "colors = ['yellow', 'skyblue', 'forestgreen']\n",
    "\n",
    "plt.bar(x, value, color=colors, width=0.6)\n",
    "plt.xticks(x, years)\n",
    "\n",
    "plt.show()"
   ]
  },
  {
   "cell_type": "markdown",
   "id": "887953dd",
   "metadata": {},
   "source": [
    "### 스타일 꾸미기\n",
    "\n",
    "- align은 눈금과 막대의 위치를 조절합니다. 디폴트 값은 ‘center’이며, ‘edge’로 설정하면 막대의 왼쪽 끝에 눈금이 표시\n",
    "\n",
    "- edgecolor는 막대 테두리 색, linewidth는 테두리의 두께를 지정\n",
    "\n",
    "- tick_label을 리스트 또는 어레이 형태로 지정하면, 틱에 문자열을 순서대로 나타남"
   ]
  },
  {
   "cell_type": "code",
   "execution_count": 20,
   "id": "c1313485",
   "metadata": {},
   "outputs": [
    {
     "data": {
      "image/png": "[encoded data removed]",
      "text/plain": [
       "<Figure size 432x288 with 1 Axes>"
      ]
     },
     "metadata": {
      "needs_background": "light"
     },
     "output_type": "display_data"
    }
   ],
   "source": [
    "# ex2 - 각 막대 별로 다른 색입히기 가능\n",
    "x = np.arange(3)\n",
    "years = ['2018', '2019', '2020']\n",
    "value = [100, 400, 900]\n",
    "colors = ['yellow', 'skyblue', 'forestgreen']\n",
    "plt.bar(x, value, color=colors, width=0.6, align='edge', edgecolor='lightgray', linewidth=5, tick_label=years)\n",
    "plt.xticks(x, years)\n",
    "\n",
    "plt.show()"
   ]
  },
  {
   "cell_type": "code",
   "execution_count": null,
   "id": "a0a1d137",
   "metadata": {},
   "outputs": [],
   "source": []
  }
 ],
 "metadata": {
  "kernelspec": {
   "display_name": "Python 3 (ipykernel)",
   "language": "python",
   "name": "python3"
  },
  "language_info": {
   "codemirror_mode": {
    "name": "ipython",
    "version": 3
   },
   "file_extension": ".py",
   "mimetype": "text/x-python",
   "name": "python",
   "nbconvert_exporter": "python",
   "pygments_lexer": "ipython3",
   "version": "3.9.7"
  }
 },
 "nbformat": 4,
 "nbformat_minor": 5
}
