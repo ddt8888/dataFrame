{
 "cells": [
  {
   "cell_type": "code",
   "execution_count": 1,
   "id": "20cfa762",
   "metadata": {},
   "outputs": [
    {
     "name": "stdout",
     "output_type": "stream",
     "text": [
      "Hello\n"
     ]
    }
   ],
   "source": [
    "print(\"Hello\")"
   ]
  },
  {
   "cell_type": "code",
   "execution_count": 5,
   "id": "91cd8afa",
   "metadata": {
    "scrolled": true
   },
   "outputs": [
    {
     "name": "stdout",
     "output_type": "stream",
     "text": [
      "3\n"
     ]
    },
    {
     "data": {
      "text/plain": [
       "-1"
      ]
     },
     "execution_count": 5,
     "metadata": {},
     "output_type": "execute_result"
    }
   ],
   "source": [
    "a = 1\n",
    "b = 2\n",
    "print(a + b)\n",
    "a - b"
   ]
  },
  {
   "cell_type": "code",
   "execution_count": 7,
   "id": "e96d471d",
   "metadata": {
    "scrolled": true
   },
   "outputs": [
    {
     "data": {
      "text/plain": [
       "0.5"
      ]
     },
     "execution_count": 7,
     "metadata": {},
     "output_type": "execute_result"
    }
   ],
   "source": [
    "a/b"
   ]
  },
  {
   "cell_type": "markdown",
   "id": "89e80d8e",
   "metadata": {},
   "source": [
    "제목쓰기\n",
    "    1.jupyter_prac"
   ]
  },
  {
   "cell_type": "markdown",
   "id": "ac1ea517",
   "metadata": {},
   "source": [
    "# 제목1 => \\#\n"
   ]
  },
  {
   "cell_type": "markdown",
   "id": "62d36a5e",
   "metadata": {},
   "source": [
    "## 제목2 => \\##"
   ]
  },
  {
   "cell_type": "markdown",
   "id": "d407d513",
   "metadata": {},
   "source": [
    "### 제목3 => \\###"
   ]
  },
  {
   "cell_type": "markdown",
   "id": "01d0df13",
   "metadata": {},
   "source": [
    "#### 제목4 => \\####"
   ]
  },
  {
   "cell_type": "markdown",
   "id": "1821d760",
   "metadata": {},
   "source": [
    "##### 기울어진 것 => \\#####"
   ]
  },
  {
   "cell_type": "markdown",
   "id": "64d8a322",
   "metadata": {},
   "source": [
    "# 제목 => \\# 제목\n",
    "- 내용1 => \\- 내용1\n",
    "* 내용2 => \\* 내용2"
   ]
  },
  {
   "cell_type": "markdown",
   "id": "cfd3dcf6",
   "metadata": {},
   "source": [
    "# 제목 => \\# 제목\n",
    "- 내용1 => \\- 내용1\n",
    "    - 아래 단계 내용 => \\- 아래단계내용\n",
    "* 내용2 => \\* 내용2\n",
    "    - 아래 단계 내용 => \\- 아래단계내용"
   ]
  },
  {
   "cell_type": "code",
   "execution_count": 7,
   "id": "dfdf4856",
   "metadata": {},
   "outputs": [
    {
     "name": "stdout",
     "output_type": "stream",
     "text": [
      "**로또 추첨을 시작합니다.**\n",
      "\n",
      "추첨된 로또번호==> 18 25 29 36 42 43 "
     ]
    }
   ],
   "source": [
    "#로또번호 추첨 프로그램(p37,38)\n",
    "import random\n",
    "#함수 정의 부분\n",
    "def getNum():\n",
    "    return random.randrange(1,46)\n",
    "    #1이상 45이하의 랜덤수 생성\n",
    "#변수 선언 부분\n",
    "lotto=[]\n",
    "num =0\n",
    "\n",
    "#메인(main)코드 부분\n",
    "print(\"**로또 추첨을 시작합니다.**\\n\");\n",
    "\n",
    "while True:\n",
    "    num = getNum()\n",
    "\n",
    "    if lotto.count(num)==0:\n",
    "        lotto.append(num)\n",
    "\n",
    "    if(len(lotto))>=6:\n",
    "        break\n",
    "\n",
    "print(\"추첨된 로또번호==> \", end='')\n",
    "lotto.sort()\n",
    "for i in range(0,6):\n",
    "    print(\"%d \" % lotto[i], end='')"
   ]
  },
  {
   "cell_type": "code",
   "execution_count": null,
   "id": "53018005",
   "metadata": {},
   "outputs": [],
   "source": []
  }
 ],
 "metadata": {
  "kernelspec": {
   "display_name": "Python 3 (ipykernel)",
   "language": "python",
   "name": "python3"
  },
  "language_info": {
   "codemirror_mode": {
    "name": "ipython",
    "version": 3
   },
   "file_extension": ".py",
   "mimetype": "text/x-python",
   "name": "python",
   "nbconvert_exporter": "python",
   "pygments_lexer": "ipython3",
   "version": "3.9.6"
  }
 },
 "nbformat": 4,
 "nbformat_minor": 5
}
