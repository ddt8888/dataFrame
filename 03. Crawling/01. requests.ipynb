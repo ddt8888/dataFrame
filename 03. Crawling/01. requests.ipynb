{
 "cells": [
  {
   "cell_type": "markdown",
   "id": "e8a6c12e",
   "metadata": {},
   "source": [
    "라이브러리 : requests"
   ]
  },
  {
   "cell_type": "markdown",
   "id": "e9b00f58",
   "metadata": {},
   "source": [
    "http request -> 웹을 통해 request 요청"
   ]
  },
  {
   "cell_type": "code",
   "execution_count": 1,
   "id": "099d0b1b",
   "metadata": {},
   "outputs": [],
   "source": [
    "import requests"
   ]
  },
  {
   "cell_type": "code",
   "execution_count": 2,
   "id": "ce841504",
   "metadata": {},
   "outputs": [
    {
     "data": {
      "text/plain": [
       "<Response [200]>"
      ]
     },
     "execution_count": 2,
     "metadata": {},
     "output_type": "execute_result"
    }
   ],
   "source": [
    "req = requests.get('http://pythonscraping.com/pages/page1.html')\n",
    "req"
   ]
  },
  {
   "cell_type": "code",
   "execution_count": 3,
   "id": "021982f8",
   "metadata": {},
   "outputs": [
    {
     "data": {
      "text/plain": [
       "requests.models.Response"
      ]
     },
     "execution_count": 3,
     "metadata": {},
     "output_type": "execute_result"
    }
   ],
   "source": [
    "type(req)"
   ]
  },
  {
   "cell_type": "code",
   "execution_count": 4,
   "id": "efd28abf",
   "metadata": {},
   "outputs": [
    {
     "data": {
      "text/plain": [
       "'<html>\\n<head>\\n<title>A Useful Page</title>\\n</head>\\n<body>\\n<h1>An Interesting Title</h1>\\n<div>\\nLorem ipsum dolor sit amet, consectetur adipisicing elit, sed do eiusmod tempor incididunt ut labore et dolore magna aliqua. Ut enim ad minim veniam, quis nostrud exercitation ullamco laboris nisi ut aliquip ex ea commodo consequat. Duis aute irure dolor in reprehenderit in voluptate velit esse cillum dolore eu fugiat nulla pariatur. Excepteur sint occaecat cupidatat non proident, sunt in culpa qui officia deserunt mollit anim id est laborum.\\n</div>\\n</body>\\n</html>\\n'"
      ]
     },
     "execution_count": 4,
     "metadata": {},
     "output_type": "execute_result"
    }
   ],
   "source": [
    "req_html_text = req.text\n",
    "req_html_text"
   ]
  },
  {
   "cell_type": "code",
   "execution_count": 6,
   "id": "8b48a1cb",
   "metadata": {},
   "outputs": [
    {
     "name": "stdout",
     "output_type": "stream",
     "text": [
      "{'Date': 'Fri, 15 Oct 2021 05:18:05 GMT', 'Server': 'Apache', 'Last-Modified': 'Sat, 09 Jun 2018 19:15:58 GMT', 'ETag': '\"4121bc8-234-56e3a58b39172\"', 'Accept-Ranges': 'bytes', 'Content-Length': '564', 'Keep-Alive': 'timeout=5, max=100', 'Connection': 'Keep-Alive', 'Content-Type': 'text/html'}\n",
      "<class 'requests.structures.CaseInsensitiveDict'>\n"
     ]
    }
   ],
   "source": [
    "req_header = req.headers\n",
    "print(req_header)\n",
    "print(type(req_header))"
   ]
  },
  {
   "cell_type": "code",
   "execution_count": 7,
   "id": "44ab7713",
   "metadata": {},
   "outputs": [
    {
     "data": {
      "text/plain": [
       "'text/html'"
      ]
     },
     "execution_count": 7,
     "metadata": {},
     "output_type": "execute_result"
    }
   ],
   "source": [
    "req_header['content-type']"
   ]
  },
  {
   "cell_type": "code",
   "execution_count": 8,
   "id": "2d7e3663",
   "metadata": {},
   "outputs": [
    {
     "data": {
      "text/plain": [
       "200"
      ]
     },
     "execution_count": 8,
     "metadata": {},
     "output_type": "execute_result"
    }
   ],
   "source": [
    "req_status = req.status_code\n",
    "req_status"
   ]
  },
  {
   "cell_type": "code",
   "execution_count": 18,
   "id": "04dafe4c",
   "metadata": {
    "scrolled": false
   },
   "outputs": [
    {
     "name": "stdout",
     "output_type": "stream",
     "text": [
      "200\n",
      "<class 'requests.structures.CaseInsensitiveDict'>\n",
      "{'Server': 'GitHub.com', 'Date': 'Fri, 15 Oct 2021 05:56:27 GMT', 'Content-Type': 'application/json; charset=utf-8', 'Cache-Control': 'public, max-age=60, s-maxage=60', 'Vary': 'Accept, Accept-Encoding, Accept, X-Requested-With', 'ETag': 'W/\"4f825cc84e1c733059d46e76e6df9db557ae5254f9625dfe8e1b09499c449438\"', 'X-GitHub-Media-Type': 'github.v3; format=json', 'Access-Control-Expose-Headers': 'ETag, Link, Location, Retry-After, X-GitHub-OTP, X-RateLimit-Limit, X-RateLimit-Remaining, X-RateLimit-Used, X-RateLimit-Resource, X-RateLimit-Reset, X-OAuth-Scopes, X-Accepted-OAuth-Scopes, X-Poll-Interval, X-GitHub-Media-Type, Deprecation, Sunset', 'Access-Control-Allow-Origin': '*', 'Strict-Transport-Security': 'max-age=31536000; includeSubdomains; preload', 'X-Frame-Options': 'deny', 'X-Content-Type-Options': 'nosniff', 'X-XSS-Protection': '0', 'Referrer-Policy': 'origin-when-cross-origin, strict-origin-when-cross-origin', 'Content-Security-Policy': \"default-src 'none'\", 'Content-Encoding': 'gzip', 'X-RateLimit-Limit': '60', 'X-RateLimit-Remaining': '49', 'X-RateLimit-Reset': '1634280171', 'X-RateLimit-Resource': 'core', 'X-RateLimit-Used': '11', 'Accept-Ranges': 'bytes', 'Content-Length': '530', 'X-GitHub-Request-Id': 'C174:4783:370B40:3EF942:6169181E'}\n",
      "application/json; charset=utf-8\n",
      "utf-8\n",
      "{\n",
      "  \"current_user_url\": \"https://api.github.com/user\",\n",
      "  \"current_user_authorizations_html_url\": \"https://github.com/settings/connections/applications{/client_id}\",\n",
      "  \"authorizations_url\": \"https://api.github.com/authorizations\",\n",
      "  \"code_search_url\": \"https://api.github.com/search/code?q={query}{&page,per_page,sort,order}\",\n",
      "  \"commit_search_url\": \"https://api.github.com/search/commits?q={query}{&page,per_page,sort,order}\",\n",
      "  \"emails_url\": \"https://api.github.com/user/emails\",\n",
      "  \"emojis_url\": \"https://api.github.com/emojis\",\n",
      "  \"events_url\": \"https://api.github.com/events\",\n",
      "  \"feeds_url\": \"https://api.github.com/feeds\",\n",
      "  \"followers_url\": \"https://api.github.com/user/followers\",\n",
      "  \"following_url\": \"https://api.github.com/user/following{/target}\",\n",
      "  \"gists_url\": \"https://api.github.com/gists{/gist_id}\",\n",
      "  \"hub_url\": \"https://api.github.com/hub\",\n",
      "  \"issue_search_url\": \"https://api.github.com/search/issues?q={query}{&page,per_page,sort,order}\",\n",
      "  \"issues_url\": \"https://api.github.com/issues\",\n",
      "  \"keys_url\": \"https://api.github.com/user/keys\",\n",
      "  \"label_search_url\": \"https://api.github.com/search/labels?q={query}&repository_id={repository_id}{&page,per_page}\",\n",
      "  \"notifications_url\": \"https://api.github.com/notifications\",\n",
      "  \"organization_url\": \"https://api.github.com/orgs/{org}\",\n",
      "  \"organization_repositories_url\": \"https://api.github.com/orgs/{org}/repos{?type,page,per_page,sort}\",\n",
      "  \"organization_teams_url\": \"https://api.github.com/orgs/{org}/teams\",\n",
      "  \"public_gists_url\": \"https://api.github.com/gists/public\",\n",
      "  \"rate_limit_url\": \"https://api.github.com/rate_limit\",\n",
      "  \"repository_url\": \"https://api.github.com/repos/{owner}/{repo}\",\n",
      "  \"repository_search_url\": \"https://api.github.com/search/repositories?q={query}{&page,per_page,sort,order}\",\n",
      "  \"current_user_repositories_url\": \"https://api.github.com/user/repos{?type,page,per_page,sort}\",\n",
      "  \"starred_url\": \"https://api.github.com/user/starred{/owner}{/repo}\",\n",
      "  \"starred_gists_url\": \"https://api.github.com/gists/starred\",\n",
      "  \"topic_search_url\": \"https://api.github.com/search/topics?q={query}{&page,per_page}\",\n",
      "  \"user_url\": \"https://api.github.com/users/{user}\",\n",
      "  \"user_organizations_url\": \"https://api.github.com/user/orgs\",\n",
      "  \"user_repositories_url\": \"https://api.github.com/users/{user}/repos{?type,page,per_page,sort}\",\n",
      "  \"user_search_url\": \"https://api.github.com/search/users?q={query}{&page,per_page,sort,order}\"\n",
      "}\n",
      "\n",
      "{'current_user_url': 'https://api.github.com/user', 'current_user_authorizations_html_url': 'https://github.com/settings/connections/applications{/client_id}', 'authorizations_url': 'https://api.github.com/authorizations', 'code_search_url': 'https://api.github.com/search/code?q={query}{&page,per_page,sort,order}', 'commit_search_url': 'https://api.github.com/search/commits?q={query}{&page,per_page,sort,order}', 'emails_url': 'https://api.github.com/user/emails', 'emojis_url': 'https://api.github.com/emojis', 'events_url': 'https://api.github.com/events', 'feeds_url': 'https://api.github.com/feeds', 'followers_url': 'https://api.github.com/user/followers', 'following_url': 'https://api.github.com/user/following{/target}', 'gists_url': 'https://api.github.com/gists{/gist_id}', 'hub_url': 'https://api.github.com/hub', 'issue_search_url': 'https://api.github.com/search/issues?q={query}{&page,per_page,sort,order}', 'issues_url': 'https://api.github.com/issues', 'keys_url': 'https://api.github.com/user/keys', 'label_search_url': 'https://api.github.com/search/labels?q={query}&repository_id={repository_id}{&page,per_page}', 'notifications_url': 'https://api.github.com/notifications', 'organization_url': 'https://api.github.com/orgs/{org}', 'organization_repositories_url': 'https://api.github.com/orgs/{org}/repos{?type,page,per_page,sort}', 'organization_teams_url': 'https://api.github.com/orgs/{org}/teams', 'public_gists_url': 'https://api.github.com/gists/public', 'rate_limit_url': 'https://api.github.com/rate_limit', 'repository_url': 'https://api.github.com/repos/{owner}/{repo}', 'repository_search_url': 'https://api.github.com/search/repositories?q={query}{&page,per_page,sort,order}', 'current_user_repositories_url': 'https://api.github.com/user/repos{?type,page,per_page,sort}', 'starred_url': 'https://api.github.com/user/starred{/owner}{/repo}', 'starred_gists_url': 'https://api.github.com/gists/starred', 'topic_search_url': 'https://api.github.com/search/topics?q={query}{&page,per_page}', 'user_url': 'https://api.github.com/users/{user}', 'user_organizations_url': 'https://api.github.com/user/orgs', 'user_repositories_url': 'https://api.github.com/users/{user}/repos{?type,page,per_page,sort}', 'user_search_url': 'https://api.github.com/search/users?q={query}{&page,per_page,sort,order}'}\n"
     ]
    }
   ],
   "source": [
    "r = requests.get('http://api.github.com')\n",
    "\n",
    "print(r.status_code)\n",
    "print(type(r.headers))\n",
    "print(r.headers)\n",
    "print(r.headers['content-type'])\n",
    "print(r.encoding)\n",
    "print(r.text)\n",
    "print(r.json())"
   ]
  },
  {
   "cell_type": "markdown",
   "id": "c67400c7",
   "metadata": {},
   "source": [
    "## get"
   ]
  },
  {
   "cell_type": "markdown",
   "id": "d5ee4e26",
   "metadata": {},
   "source": [
    "- http://httpbin.org\n",
    "- http://httpbin.org/get?key1=val1&key2=val2"
   ]
  },
  {
   "cell_type": "code",
   "execution_count": 26,
   "id": "6c8c76a7",
   "metadata": {},
   "outputs": [
    {
     "data": {
      "text/plain": [
       "'{\\n  \"args\": {\\n    \"key1\": \"val1\", \\n    \"key2\": \"val2\"\\n  }, \\n  \"headers\": {\\n    \"Accept\": \"*/*\", \\n    \"Accept-Encoding\": \"gzip, deflate\", \\n    \"Host\": \"httpbin.org\", \\n    \"User-Agent\": \"python-requests/2.26.0\", \\n    \"X-Amzn-Trace-Id\": \"Root=1-6169193f-7bd88b16266b7e9246b24ec1\"\\n  }, \\n  \"origin\": \"1.220.249.83\", \\n  \"url\": \"http://httpbin.org/get?key1=val1&key2=val2\"\\n}\\n'"
      ]
     },
     "execution_count": 26,
     "metadata": {},
     "output_type": "execute_result"
    }
   ],
   "source": [
    "param_data = {'key1':'val1', 'key2':'val2'}\n",
    "r = requests.get('http://httpbin.org/get', params = param_data)\n",
    "r.text"
   ]
  },
  {
   "cell_type": "code",
   "execution_count": 25,
   "id": "5ffbbec9",
   "metadata": {},
   "outputs": [
    {
     "data": {
      "text/plain": [
       "'https://api.github.com/'"
      ]
     },
     "execution_count": 25,
     "metadata": {},
     "output_type": "execute_result"
    }
   ],
   "source": [
    "r.url"
   ]
  },
  {
   "cell_type": "code",
   "execution_count": 27,
   "id": "bc029ee6",
   "metadata": {},
   "outputs": [
    {
     "data": {
      "text/plain": [
       "{'args': {'key1': 'val1', 'key2': 'val2'},\n",
       " 'headers': {'Accept': '*/*',\n",
       "  'Accept-Encoding': 'gzip, deflate',\n",
       "  'Host': 'httpbin.org',\n",
       "  'User-Agent': 'python-requests/2.26.0',\n",
       "  'X-Amzn-Trace-Id': 'Root=1-6169193f-7bd88b16266b7e9246b24ec1'},\n",
       " 'origin': '1.220.249.83',\n",
       " 'url': 'http://httpbin.org/get?key1=val1&key2=val2'}"
      ]
     },
     "execution_count": 27,
     "metadata": {},
     "output_type": "execute_result"
    }
   ],
   "source": [
    "import json\n",
    "json_obj = json.loads(r.text)\n",
    "json_obj"
   ]
  },
  {
   "cell_type": "markdown",
   "id": "971bf65e",
   "metadata": {},
   "source": [
    "## post"
   ]
  },
  {
   "cell_type": "code",
   "execution_count": 28,
   "id": "4797bfc6",
   "metadata": {},
   "outputs": [
    {
     "data": {
      "text/plain": [
       "'{\\n  \"args\": {}, \\n  \"data\": \"\", \\n  \"files\": {}, \\n  \"form\": {\\n    \"key\": \"value\"\\n  }, \\n  \"headers\": {\\n    \"Accept\": \"*/*\", \\n    \"Accept-Encoding\": \"gzip, deflate\", \\n    \"Content-Length\": \"9\", \\n    \"Content-Type\": \"application/x-www-form-urlencoded\", \\n    \"Host\": \"httpbin.org\", \\n    \"User-Agent\": \"python-requests/2.26.0\", \\n    \"X-Amzn-Trace-Id\": \"Root=1-61691981-3cf48d6c730a49365e31396f\"\\n  }, \\n  \"json\": null, \\n  \"origin\": \"1.220.249.83\", \\n  \"url\": \"https://httpbin.org/post\"\\n}\\n'"
      ]
     },
     "execution_count": 28,
     "metadata": {},
     "output_type": "execute_result"
    }
   ],
   "source": [
    "r = requests.post('https://httpbin.org/post', data={'key': 'value'})\n",
    "r.text"
   ]
  },
  {
   "cell_type": "code",
   "execution_count": 29,
   "id": "504445e1",
   "metadata": {},
   "outputs": [
    {
     "data": {
      "text/plain": [
       "{'args': {},\n",
       " 'data': '',\n",
       " 'files': {},\n",
       " 'form': {'key': 'value'},\n",
       " 'headers': {'Accept': '*/*',\n",
       "  'Accept-Encoding': 'gzip, deflate',\n",
       "  'Content-Length': '9',\n",
       "  'Content-Type': 'application/x-www-form-urlencoded',\n",
       "  'Host': 'httpbin.org',\n",
       "  'User-Agent': 'python-requests/2.26.0',\n",
       "  'X-Amzn-Trace-Id': 'Root=1-61691981-3cf48d6c730a49365e31396f'},\n",
       " 'json': None,\n",
       " 'origin': '1.220.249.83',\n",
       " 'url': 'https://httpbin.org/post'}"
      ]
     },
     "execution_count": 29,
     "metadata": {},
     "output_type": "execute_result"
    }
   ],
   "source": [
    "json_obj = json.loads(r.text)\n",
    "json_obj"
   ]
  },
  {
   "cell_type": "code",
   "execution_count": 31,
   "id": "822c0e99",
   "metadata": {},
   "outputs": [
    {
     "data": {
      "text/plain": [
       "'key1=val1&key2=val2&key2=val3'"
      ]
     },
     "execution_count": 31,
     "metadata": {},
     "output_type": "execute_result"
    }
   ],
   "source": [
    "param_data = {'key1':'val1', 'key2':['val2', 'val3']}\n",
    "r = requests.get('http://httpbin.org/post', data = param_data)\n",
    "r.request.body"
   ]
  },
  {
   "cell_type": "code",
   "execution_count": 37,
   "id": "5816cc13",
   "metadata": {},
   "outputs": [
    {
     "data": {
      "text/plain": [
       "'https://httpbin.org/get?key1=%ED%95%9C%EA%B8%80&key2=%ED%95%9C%EA%B8%802'"
      ]
     },
     "execution_count": 37,
     "metadata": {},
     "output_type": "execute_result"
    }
   ],
   "source": [
    "param_data = {'key1': '한글', 'key2': '한글2'}\n",
    "r = requests.get('https://httpbin.org/get', params = param_data)\n",
    "r.url"
   ]
  },
  {
   "cell_type": "code",
   "execution_count": null,
   "id": "a1f3af91",
   "metadata": {},
   "outputs": [],
   "source": []
  }
 ],
 "metadata": {
  "kernelspec": {
   "display_name": "Python 3 (ipykernel)",
   "language": "python",
   "name": "python3"
  },
  "language_info": {
   "codemirror_mode": {
    "name": "ipython",
    "version": 3
   },
   "file_extension": ".py",
   "mimetype": "text/x-python",
   "name": "python",
   "nbconvert_exporter": "python",
   "pygments_lexer": "ipython3",
   "version": "3.9.6"
  }
 },
 "nbformat": 4,
 "nbformat_minor": 5
}
