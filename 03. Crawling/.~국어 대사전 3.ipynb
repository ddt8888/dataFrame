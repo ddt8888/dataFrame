{
 "cells": [
  {
   "cell_type": "code",
   "execution_count": 179,
   "id": "99c86213",
   "metadata": {},
   "outputs": [],
   "source": [
    "import requests\n",
    "from bs4 import BeautifulSoup"
   ]
  },
  {
   "cell_type": "code",
   "execution_count": 180,
   "id": "54f7bb9b",
   "metadata": {},
   "outputs": [],
   "source": [
    "# with~ 자동으로 closed 시켜준다\n",
    "word_list= []\n",
    "with open('./word.txt','r', encoding='UTF-8') as file_data:\n",
    "    for line in file_data:\n",
    "        word_list.append(line.strip())"
   ]
  },
  {
   "cell_type": "code",
   "execution_count": 181,
   "id": "b524a81c",
   "metadata": {},
   "outputs": [
    {
     "name": "stdout",
     "output_type": "stream",
     "text": [
      "학원\n",
      "학교\n",
      "역사\n",
      "수학\n",
      "소설\n"
     ]
    }
   ],
   "source": [
    "for word in word_list:\n",
    "    print(word)"
   ]
  },
  {
   "cell_type": "code",
   "execution_count": 182,
   "id": "ac3e8c8b",
   "metadata": {},
   "outputs": [],
   "source": [
    "def get_word_dic(lis, s_print=False):\n",
    "    res = requests.get(url)\n",
    "    soup = BeautifulSoup(res.content, 'html.parser')\n",
    "    lis = soup.find('ul','result').find_all('li')\n",
    "\n",
    "    result_list = []\n",
    "\n",
    "     #링크 찾기\n",
    "    for li in lis:\n",
    "        result_dic = {}\n",
    "        li_a =li.find('a','t_blue1')\n",
    "        if li_a.find('sup') != None:\n",
    "            r_seq= li_a.find('sup').text.strip()\n",
    "            result_dic['r_seq'] = r_seq\n",
    "            li_a.find('sup').decompose()\n",
    "\n",
    "        r_word = li_a.text.strip()\n",
    "        result_dic['r_word'] = r_word\n",
    "        r_link ='https://stdict.korean.go.kr' + li.find('a','t_blue1')['href']\n",
    "        result_dic['r_link'] = r_link\n",
    "\n",
    "        #한자 찾기\n",
    "        r_chi = li.find('span','t_gray hanja_font').text.strip()\n",
    "        result_dic['r_chi'] = r_chi\n",
    "        r_des = li.find('font','dataLine').text.strip() \n",
    "        result_dic['r_des'] = r_des\n",
    "\n",
    "        #품사 찾기\n",
    "        li_dt = li.find('dt')\n",
    "        li_dt.find('a','t_blue1').decompose()\n",
    "        li_dt.find('span').decompose()\n",
    "        li_dt.find('span').decompose()\n",
    "        r_pos = li_dt.text.strip()\n",
    "        result_dic['r_pos'] = r_pos\n",
    "\n",
    "        result_list.append(result_dic)\n",
    "\n",
    "    if s_print:   \n",
    "            for result in result_list:\n",
    "                print(result['r_word'], end='')\n",
    "                if 'r_seq' in result.keys():\n",
    "                    print(result['r_seq'], end='')\n",
    "                print(result['r_chi'], end='')\n",
    "                print(result['r_des'], end='')\n",
    "                print(result['r_pos'])\n",
    "                print(result['r_link'])\n",
    "                print('---------------')\n",
    "\n",
    "    return result_list"
   ]
  },
  {
   "cell_type": "code",
   "execution_count": 183,
   "id": "7fa7e9dd",
   "metadata": {
    "scrolled": true
   },
   "outputs": [
    {
     "name": "stdout",
     "output_type": "stream",
     "text": [
      "학원1(學員)공부하는 인원.「명사」\n",
      "https://stdict.korean.go.kr/search/searchView.do?word_no=362856&searchKeywordTo=3\n",
      "---------------\n",
      "학원2(學院)『교육』 일정한 목적ㆍ교과 과정ㆍ설비ㆍ제도 및 법규에 의하여 계속적으로 학생에게 교육을 실시하는 기관.=학교.「명사」\n",
      "https://stdict.korean.go.kr/search/searchView.do?word_no=503671&searchKeywordTo=3\n",
      "---------------\n",
      "학원3(學園)『교육』 학교 및 기타 교육 기관을 통틀어 이르는 말.「명사」\n",
      "https://stdict.korean.go.kr/search/searchView.do?word_no=362857&searchKeywordTo=3\n",
      "---------------\n",
      "학원4(學園)『문학』 1919년에 발간된 최초의 학생 잡지. 창가, 소설 따위가 발표되어 소년ㆍ소녀들에게 처음으로 문학적인 분위기에 접하는 계기를 만들어 주었다.「명사」\n",
      "https://stdict.korean.go.kr/search/searchView.do?word_no=362858&searchKeywordTo=3\n",
      "---------------\n",
      "학교(學校)『교육』 일정한 목적ㆍ교과 과정ㆍ설비ㆍ제도 및 법규에 의하여 계속적으로 학생에게 교육을 실시하는 기관.≒학원.「명사」\n",
      "https://stdict.korean.go.kr/search/searchView.do?word_no=361333&searchKeywordTo=3\n",
      "---------------\n",
      "역사1(力士)뛰어나게 힘이 센 사람.「명사」\n",
      "https://stdict.korean.go.kr/search/searchView.do?word_no=458481&searchKeywordTo=3\n",
      "---------------\n",
      "역사2(役事)『건설』 토목이나 건축 따위의 공사.「명사」\n",
      "https://stdict.korean.go.kr/search/searchView.do?word_no=230121&searchKeywordTo=3\n",
      "---------------\n",
      "역사3(歷史)인류 사회의 변천과 흥망의 과정. 또는 그 기록.≒사, 춘추.「명사」\n",
      "https://stdict.korean.go.kr/search/searchView.do?word_no=458484&searchKeywordTo=3\n",
      "---------------\n",
      "역사4(歷事/歷仕)여러 대의 임금을 내리 섬김.「명사」\n",
      "https://stdict.korean.go.kr/search/searchView.do?word_no=230139&searchKeywordTo=3\n",
      "---------------\n",
      "역사5(歷辭)『역사』 조선 시대에, 새로 임명된 벼슬아치가 감독 관아를 돌아다니며 인사하던 일. 그 벼슬에 임명된 지 10일 이내에, 의정부ㆍ전조(銓曹) 등에 인사를 다녔다.=참알.「명사」\n",
      "https://stdict.korean.go.kr/search/searchView.do?word_no=230141&searchKeywordTo=3\n",
      "---------------\n",
      "역사6(繹史)『책명』 중국 청나라 때 마숙(馬驌)이 지은 역사책. 태고로부터 진(秦)나라 말기까지의 고서를 섭렵하여 뽑아낸 사료를 유형별로 모아 논단(論斷)을 붙인 것으로, 청나라 때의 경사(經史) 고정학(考訂學)에 많은 영향을 끼쳤다. 160권.「명사」\n",
      "https://stdict.korean.go.kr/search/searchView.do?word_no=230143&searchKeywordTo=3\n",
      "---------------\n",
      "역사7(譯史)『역사』 고려 시대에, 중서문하성에 속한 구실아치.「명사」\n",
      "https://stdict.korean.go.kr/search/searchView.do?word_no=458483&searchKeywordTo=3\n",
      "---------------\n",
      "역사8(譯使)통역을 맡은 사신.「명사」\n",
      "https://stdict.korean.go.kr/search/searchView.do?word_no=230707&searchKeywordTo=3\n",
      "---------------\n",
      "역사9(譯詞)외국 노래의 가사를 번역하는 일. 또는 그 가사.「명사」\n",
      "https://stdict.korean.go.kr/search/searchView.do?word_no=230708&searchKeywordTo=3\n",
      "---------------\n",
      "역사10(轢死)차에 치여 죽음.「명사」\n",
      "https://stdict.korean.go.kr/search/searchView.do?word_no=230709&searchKeywordTo=3\n",
      "---------------\n",
      "수학1(水學)물의 현상에 관하여 연구하는 학문.「명사」\n",
      "https://stdict.korean.go.kr/search/searchView.do?word_no=198681&searchKeywordTo=3\n",
      "---------------\n",
      "수학2(受學)학문을 배우거나 수업을 받음.「명사」\n",
      "https://stdict.korean.go.kr/search/searchView.do?word_no=198682&searchKeywordTo=3\n",
      "---------------\n",
      "수학3(修學)학문을 닦음.「명사」\n",
      "https://stdict.korean.go.kr/search/searchView.do?word_no=198683&searchKeywordTo=3\n",
      "---------------\n",
      "수학4(粹學)순수한 학문.「명사」\n",
      "https://stdict.korean.go.kr/search/searchView.do?word_no=198685&searchKeywordTo=3\n",
      "---------------\n",
      "수학5(數學)『수학』 수량 및 공간의 성질에 관하여 연구하는 학문. 대수학, 기하학, 해석학 및 이를 응용하는 학문을 통틀어 이르는 말이다.「명사」\n",
      "https://stdict.korean.go.kr/search/searchView.do?word_no=452991&searchKeywordTo=3\n",
      "---------------\n",
      "수학6(瘦鶴)여윈 학.「명사」\n",
      "https://stdict.korean.go.kr/search/searchView.do?word_no=198961&searchKeywordTo=3\n",
      "---------------\n",
      "소설1(小舌)하찮거나 쓸모없는 변설(辯舌).「명사」\n",
      "https://stdict.korean.go.kr/search/searchView.do?word_no=190897&searchKeywordTo=3\n",
      "---------------\n",
      "소설2(小雪)이십사절기의 하나. 입동과 대설 사이에 들며, 이때 태양의 황경(黃經)은 240도가 된다. 11월 22일이나 23일경이다.「명사」\n",
      "https://stdict.korean.go.kr/search/searchView.do?word_no=443956&searchKeywordTo=3\n",
      "---------------\n",
      "소설3(小說)『문학』 사실 또는 작가의 상상력에 바탕을 두고 허구적으로 이야기를 꾸며 나간 산문체의 문학 양식. 일정한 구조 속에서 배경과 등장인물의 행동, 사상, 심리 따위를 통하여 인간의 모습이나 사회상을 드러낸다. 분량에 따라 장편ㆍ중편ㆍ단편으로, 내용에 따라 과학 소설ㆍ역사 소설ㆍ추리 소설 따위로 구분할 수 있으며, 옛날의 설화나 서사시 따위의 전통을 이어받아 근대에 와서 발달한 문학 양식이다.≒이야기.「명사」\n",
      "https://stdict.korean.go.kr/search/searchView.do?word_no=184185&searchKeywordTo=3\n",
      "---------------\n",
      "소설4(所說)설명하는 바.「명사」\n",
      "https://stdict.korean.go.kr/search/searchView.do?word_no=443957&searchKeywordTo=3\n",
      "---------------\n",
      "소설5(昭雪)원통한 죄나 억울한 누명 따위를 밝혀 씻음.≒소석.「명사」\n",
      "https://stdict.korean.go.kr/search/searchView.do?word_no=184186&searchKeywordTo=3\n",
      "---------------\n",
      "소설6(素雪)하얀 눈.=백설.「명사」\n",
      "https://stdict.korean.go.kr/search/searchView.do?word_no=443958&searchKeywordTo=3\n",
      "---------------\n",
      "소설7(掃雪)쌓인 눈을 치움. 또는 그런 일.=제설.「명사」\n",
      "https://stdict.korean.go.kr/search/searchView.do?word_no=190900&searchKeywordTo=3\n",
      "---------------\n",
      "소설8(疏泄)『한의』 뭉쳐 있는 기운을 풀어서 소통시키는 기능.「명사」\n",
      "https://stdict.korean.go.kr/search/searchView.do?word_no=443959&searchKeywordTo=3\n",
      "---------------\n",
      "소설9(騷說)시끄럽게 떠도는 소문.「명사」\n",
      "https://stdict.korean.go.kr/search/searchView.do?word_no=190902&searchKeywordTo=3\n",
      "---------------\n"
     ]
    }
   ],
   "source": [
    "r_list = []\n",
    "\n",
    "for word in word_list:\n",
    "\n",
    "    url = 'https://stdict.korean.go.kr/search/searchResult.do?\\\n",
    "    pageSize=10&searchKeyword={}'.format(word)\n",
    "    res = requests.get(url)\n",
    "    soup = BeautifulSoup(res.content, 'html.parser')\n",
    "\n",
    "    ul = soup.find('ul', 'result')\n",
    "    # print(ul)\n",
    "\n",
    "    if ul != None:\n",
    "        lis = soup.find_all('li')\n",
    "        r_list = r_list + get_word_dic(lis, True)\n",
    "    else:\n",
    "        print('검색결과를 못찾았습니다.')"
   ]
  },
  {
   "cell_type": "markdown",
   "id": "8c78ca0e",
   "metadata": {},
   "source": [
    "# MongoDB 접속"
   ]
  },
  {
   "cell_type": "code",
   "execution_count": 184,
   "id": "725cb5af",
   "metadata": {},
   "outputs": [],
   "source": [
    "from pymongo import MongoClient"
   ]
  },
  {
   "cell_type": "code",
   "execution_count": 185,
   "id": "101316c8",
   "metadata": {},
   "outputs": [],
   "source": [
    "client = MongoClient('localhost', 27017)"
   ]
  },
  {
   "cell_type": "code",
   "execution_count": 186,
   "id": "9ca1935b",
   "metadata": {},
   "outputs": [
    {
     "data": {
      "text/plain": [
       "Database(MongoClient(host=['localhost:27017'], document_class=dict, tz_aware=False, connect=True), 'kor_dic_db')"
      ]
     },
     "execution_count": 186,
     "metadata": {},
     "output_type": "execute_result"
    }
   ],
   "source": [
    "db = client['kor_dic_db']\n",
    "db"
   ]
  },
  {
   "cell_type": "code",
   "execution_count": 187,
   "id": "5b0e75a2",
   "metadata": {},
   "outputs": [],
   "source": [
    "kor_dic_coll = db['kor_dic_coll']"
   ]
  },
  {
   "cell_type": "code",
   "execution_count": 188,
   "id": "b300c139",
   "metadata": {},
   "outputs": [
    {
     "data": {
      "text/plain": [
       "<pymongo.results.InsertManyResult at 0x199c73d3500>"
      ]
     },
     "execution_count": 188,
     "metadata": {},
     "output_type": "execute_result"
    }
   ],
   "source": [
    "kor_dic_coll.insert_many(r_list)"
   ]
  },
  {
   "cell_type": "code",
   "execution_count": null,
   "id": "2f93b67e",
   "metadata": {},
   "outputs": [],
   "source": []
  }
 ],
 "metadata": {
  "kernelspec": {
   "display_name": "Python 3 (ipykernel)",
   "language": "python",
   "name": "python3"
  },
  "language_info": {
   "codemirror_mode": {
    "name": "ipython",
    "version": 3
   },
   "file_extension": ".py",
   "mimetype": "text/x-python",
   "name": "python",
   "nbconvert_exporter": "python",
   "pygments_lexer": "ipython3",
   "version": "3.9.6"
  }
 },
 "nbformat": 4,
 "nbformat_minor": 5
}
