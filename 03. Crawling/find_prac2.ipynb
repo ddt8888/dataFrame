{
 "cells": [
  {
   "cell_type": "code",
   "execution_count": 1,
   "id": "e5ff1ce7",
   "metadata": {},
   "outputs": [],
   "source": [
    "from bs4 import BeautifulSoup\n",
    "import requests\n",
    "\n",
    "url = 'https://pythonscraping.com/pages/page3.html'\n",
    "\n",
    "res = requests.get(url)\n",
    "soup = BeautifulSoup(res.content, 'html.parser')"
   ]
  },
  {
   "cell_type": "code",
   "execution_count": 15,
   "id": "2fd4804d",
   "metadata": {},
   "outputs": [
    {
     "name": "stdout",
     "output_type": "stream",
     "text": [
      "\n",
      "Vegetable Basket\n",
      "\n",
      "\n",
      "This vegetable basket is the perfect gift for your health conscious (or overweight) friends!\n",
      "Now with super-colorful bell peppers!\n",
      "\n",
      "<class 'bs4.element.Tag'>\n",
      "\n",
      "$15.00\n",
      "\n",
      "<class 'str'>\n",
      "../img/gifts/img1.jpg\n",
      "../img/gifts/img1.jpg\n",
      "\n",
      "Russian Nesting Dolls\n",
      "\n",
      "\n",
      "Hand-painted by trained monkeys, these exquisite dolls are priceless! And by \"priceless,\" we mean \"extremely expensive\"! 8 entire dolls per set! Octuple the presents!\n",
      "\n",
      "<class 'bs4.element.Tag'>\n",
      "\n",
      "$10,000.52\n",
      "\n",
      "<class 'str'>\n",
      "../img/gifts/img2.jpg\n",
      "../img/gifts/img2.jpg\n",
      "\n",
      "Fish Painting\n",
      "\n",
      "\n",
      "If something seems fishy about this painting, it's because it's a fish! Also hand-painted by trained monkeys!\n",
      "\n",
      "<class 'bs4.element.Tag'>\n",
      "\n",
      "$10,005.00\n",
      "\n",
      "<class 'str'>\n",
      "../img/gifts/img3.jpg\n",
      "../img/gifts/img3.jpg\n",
      "\n",
      "Dead Parrot\n",
      "\n",
      "\n",
      "This is an ex-parrot! Or maybe he's only resting?\n",
      "\n",
      "<class 'bs4.element.Tag'>\n",
      "\n",
      "$0.50\n",
      "\n",
      "<class 'str'>\n",
      "../img/gifts/img4.jpg\n",
      "../img/gifts/img4.jpg\n",
      "\n",
      "Mystery Box\n",
      "\n",
      "\n",
      "If you love suprises, this mystery box is for you! Do not place on light-colored surfaces. May cause oil staining. Keep your friends guessing!\n",
      "\n",
      "<class 'bs4.element.Tag'>\n",
      "\n",
      "$1.50\n",
      "\n",
      "<class 'str'>\n",
      "../img/gifts/img6.jpg\n",
      "../img/gifts/img6.jpg\n"
     ]
    }
   ],
   "source": [
    "#trs = soup.find_all('tr', 'gift')\n",
    "trs = soup.select('tr.gift')\n",
    "for tr in trs:\n",
    "    tds = tr.find_all('td')\n",
    "    print(tds[0].text)\n",
    "    print(tds[1].text)\n",
    "    print(type(tds[2]))\n",
    "    print(tds[2].text)\n",
    "    print(type(tds[3].select_one('img')['src']))\n",
    "    print(tds[3].select_one('img')['src'])\n",
    "    print(tds[3].select_one('img')['src'].strip())"
   ]
  },
  {
   "cell_type": "code",
   "execution_count": 23,
   "id": "a32e7beb",
   "metadata": {
    "scrolled": true
   },
   "outputs": [
    {
     "name": "stdout",
     "output_type": "stream",
     "text": [
      "[<td>\n",
      "Vegetable Basket\n",
      "</td>, <td>\n",
      "This vegetable basket is the perfect gift for your health conscious (or overweight) friends!\n",
      "<span class=\"excitingNote\">Now with super-colorful bell peppers!</span>\n",
      "</td>, <td>\n",
      "$15.00\n",
      "</td>, <td>\n",
      "<img src=\"../img/gifts/img1.jpg\"/>\n",
      "</td>, <td>\n",
      "Russian Nesting Dolls\n",
      "</td>, <td>\n",
      "Hand-painted by trained monkeys, these exquisite dolls are priceless! And by \"priceless,\" we mean \"extremely expensive\"! <span class=\"excitingNote\">8 entire dolls per set! Octuple the presents!</span>\n",
      "</td>, <td>\n",
      "$10,000.52\n",
      "</td>, <td>\n",
      "<img src=\"../img/gifts/img2.jpg\"/>\n",
      "</td>, <td>\n",
      "Fish Painting\n",
      "</td>, <td>\n",
      "If something seems fishy about this painting, it's because it's a fish! <span class=\"excitingNote\">Also hand-painted by trained monkeys!</span>\n",
      "</td>, <td>\n",
      "$10,005.00\n",
      "</td>, <td>\n",
      "<img src=\"../img/gifts/img3.jpg\"/>\n",
      "</td>, <td>\n",
      "Dead Parrot\n",
      "</td>, <td>\n",
      "This is an ex-parrot! <span class=\"excitingNote\">Or maybe he's only resting?</span>\n",
      "</td>, <td>\n",
      "$0.50\n",
      "</td>, <td>\n",
      "<img src=\"../img/gifts/img4.jpg\"/>\n",
      "</td>, <td>\n",
      "Mystery Box\n",
      "</td>, <td>\n",
      "If you love suprises, this mystery box is for you! Do not place on light-colored surfaces. May cause oil staining. <span class=\"excitingNote\">Keep your friends guessing!</span>\n",
      "</td>, <td>\n",
      "$1.50\n",
      "</td>, <td>\n",
      "<img src=\"../img/gifts/img6.jpg\"/>\n",
      "</td>]\n"
     ]
    }
   ],
   "source": [
    "tds = soup.select('tr.gift > td')\n",
    "print(tds)"
   ]
  },
  {
   "cell_type": "code",
   "execution_count": 26,
   "id": "70d52d9f",
   "metadata": {
    "scrolled": true
   },
   "outputs": [
    {
     "name": "stdout",
     "output_type": "stream",
     "text": [
      "<td>\n",
      "Vegetable Basket\n",
      "</td>\n",
      "------------\n",
      "<td>\n",
      "This vegetable basket is the perfect gift for your health conscious (or overweight) friends!\n",
      "<span class=\"excitingNote\">Now with super-colorful bell peppers!</span>\n",
      "</td>\n",
      "------------\n",
      "<td>\n",
      "$15.00\n",
      "</td>\n",
      "------------\n",
      "<td>\n",
      "<img src=\"../img/gifts/img1.jpg\"/>\n",
      "</td>\n",
      "------------\n",
      "<td>\n",
      "Russian Nesting Dolls\n",
      "</td>\n",
      "------------\n",
      "<td>\n",
      "Hand-painted by trained monkeys, these exquisite dolls are priceless! And by \"priceless,\" we mean \"extremely expensive\"! <span class=\"excitingNote\">8 entire dolls per set! Octuple the presents!</span>\n",
      "</td>\n",
      "------------\n",
      "<td>\n",
      "$10,000.52\n",
      "</td>\n",
      "------------\n",
      "<td>\n",
      "<img src=\"../img/gifts/img2.jpg\"/>\n",
      "</td>\n",
      "------------\n",
      "<td>\n",
      "Fish Painting\n",
      "</td>\n",
      "------------\n",
      "<td>\n",
      "If something seems fishy about this painting, it's because it's a fish! <span class=\"excitingNote\">Also hand-painted by trained monkeys!</span>\n",
      "</td>\n",
      "------------\n",
      "<td>\n",
      "$10,005.00\n",
      "</td>\n",
      "------------\n",
      "<td>\n",
      "<img src=\"../img/gifts/img3.jpg\"/>\n",
      "</td>\n",
      "------------\n",
      "<td>\n",
      "Dead Parrot\n",
      "</td>\n",
      "------------\n",
      "<td>\n",
      "This is an ex-parrot! <span class=\"excitingNote\">Or maybe he's only resting?</span>\n",
      "</td>\n",
      "------------\n",
      "<td>\n",
      "$0.50\n",
      "</td>\n",
      "------------\n",
      "<td>\n",
      "<img src=\"../img/gifts/img4.jpg\"/>\n",
      "</td>\n",
      "------------\n",
      "<td>\n",
      "Mystery Box\n",
      "</td>\n",
      "------------\n",
      "<td>\n",
      "If you love suprises, this mystery box is for you! Do not place on light-colored surfaces. May cause oil staining. <span class=\"excitingNote\">Keep your friends guessing!</span>\n",
      "</td>\n",
      "------------\n",
      "<td>\n",
      "$1.50\n",
      "</td>\n",
      "------------\n",
      "<td>\n",
      "<img src=\"../img/gifts/img6.jpg\"/>\n",
      "</td>\n",
      "------------\n"
     ]
    }
   ],
   "source": [
    "for td in tds:\n",
    "    print(td)\n",
    "    print('------------')"
   ]
  },
  {
   "cell_type": "code",
   "execution_count": 27,
   "id": "689035a1",
   "metadata": {},
   "outputs": [
    {
     "name": "stdout",
     "output_type": "stream",
     "text": [
      "a\n",
      "b\n",
      "c\n"
     ]
    }
   ],
   "source": [
    "#enumerate함수를 사용하면 td에 반복되서 저장이 되고\n",
    "#행이 채워질때마다 i에 순차적으로 번호가 생성\n",
    "#오라클에서 sequence같은 개념(?)\n",
    "#for i, td in enumerate(tds):\n",
    "for item in ['a', 'b', 'c']:\n",
    "    #첫번째 아이템은 출력하고 싶지 않다.\n",
    "    print(item)"
   ]
  },
  {
   "cell_type": "code",
   "execution_count": 31,
   "id": "9a9a1b35",
   "metadata": {},
   "outputs": [
    {
     "name": "stdout",
     "output_type": "stream",
     "text": [
      "1번째 아이템은 b \n",
      "2번째 아이템은 c \n"
     ]
    }
   ],
   "source": [
    "for i, item in enumerate(['a', 'b', 'c']):\n",
    "    #첫번째 아이템은 출력하고 싶지 않다.\n",
    "    if i != 0:\n",
    "        print('{}번째 아이템은 {} '.format(i, item))"
   ]
  },
  {
   "cell_type": "code",
   "execution_count": 40,
   "id": "9f6abbea",
   "metadata": {},
   "outputs": [
    {
     "name": "stdout",
     "output_type": "stream",
     "text": [
      "제목 : Vegetable Basket\n",
      "----------\n",
      "설명 : This vegetable basket is the perfect gift for your health conscious (or overweight) friends!\n",
      "Now with super-colorful bell peppers!\n",
      "----------\n",
      "가격 : $15.00\n",
      "----------\n",
      "이미지 경로 : ../img/gifts/img1.jpg\n",
      "----------\n",
      "제목 : Russian Nesting Dolls\n",
      "----------\n",
      "설명 : Hand-painted by trained monkeys, these exquisite dolls are priceless! And by \"priceless,\" we mean \"extremely expensive\"! 8 entire dolls per set! Octuple the presents!\n",
      "----------\n",
      "가격 : $10,000.52\n",
      "----------\n",
      "이미지 경로 : ../img/gifts/img2.jpg\n",
      "----------\n",
      "제목 : Fish Painting\n",
      "----------\n",
      "설명 : If something seems fishy about this painting, it's because it's a fish! Also hand-painted by trained monkeys!\n",
      "----------\n",
      "가격 : $10,005.00\n",
      "----------\n",
      "이미지 경로 : ../img/gifts/img3.jpg\n",
      "----------\n",
      "제목 : Dead Parrot\n",
      "----------\n",
      "설명 : This is an ex-parrot! Or maybe he's only resting?\n",
      "----------\n",
      "가격 : $0.50\n",
      "----------\n",
      "이미지 경로 : ../img/gifts/img4.jpg\n",
      "----------\n",
      "제목 : Mystery Box\n",
      "----------\n",
      "설명 : If you love suprises, this mystery box is for you! Do not place on light-colored surfaces. May cause oil staining. Keep your friends guessing!\n",
      "----------\n",
      "가격 : $1.50\n",
      "----------\n",
      "이미지 경로 : ../img/gifts/img6.jpg\n",
      "----------\n"
     ]
    }
   ],
   "source": [
    "#제목만 출력되게 하기\n",
    "for i, td in enumerate(tds):\n",
    "    if i%4==0 : \n",
    "        print('제목 : '+td.text.strip())\n",
    "    if i%4==1 : \n",
    "        print('설명 : '+td.text.strip())\n",
    "    if i%4==2 : \n",
    "        print('가격 : '+td.text.strip())\n",
    "    if i%4==3:\n",
    "        print('이미지 경로 : '+td.find('img')['src'].strip())\n",
    "    print('----------')"
   ]
  },
  {
   "cell_type": "code",
   "execution_count": 67,
   "id": "d75558fb",
   "metadata": {},
   "outputs": [],
   "source": [
    "list_all = []\n",
    "list_row = []"
   ]
  },
  {
   "cell_type": "code",
   "execution_count": 68,
   "id": "2be2c153",
   "metadata": {},
   "outputs": [],
   "source": [
    "for i, td in enumerate(tds):\n",
    "    if i%4==0 : \n",
    "        list_row.append('제목 : ' + td.text.strip())\n",
    "    if i%4==1 : \n",
    "        list_row.append('설명 : ' + td.text.strip())\n",
    "    if i%4==2 : \n",
    "        list_row.append('가격 : ' + td.text.strip())\n",
    "    if i%4==3:\n",
    "        list_row.append('이미지 경로 : ' + td.find('img')['src'].strip())\n",
    "    \n",
    "    list_all.append(list_row)\n",
    "    list_row = []"
   ]
  },
  {
   "cell_type": "code",
   "execution_count": 72,
   "id": "9094c2c8",
   "metadata": {
    "scrolled": false
   },
   "outputs": [
    {
     "name": "stdout",
     "output_type": "stream",
     "text": [
      "['제목 : Vegetable Basket']\n",
      "['설명 : This vegetable basket is the perfect gift for your health conscious (or overweight) friends!\\nNow with super-colorful bell peppers!']\n",
      "['가격 : $15.00']\n",
      "['이미지 경로 : ../img/gifts/img1.jpg']\n",
      "['제목 : Russian Nesting Dolls']\n",
      "['설명 : Hand-painted by trained monkeys, these exquisite dolls are priceless! And by \"priceless,\" we mean \"extremely expensive\"! 8 entire dolls per set! Octuple the presents!']\n",
      "['가격 : $10,000.52']\n",
      "['이미지 경로 : ../img/gifts/img2.jpg']\n",
      "['제목 : Fish Painting']\n",
      "[\"설명 : If something seems fishy about this painting, it's because it's a fish! Also hand-painted by trained monkeys!\"]\n",
      "['가격 : $10,005.00']\n",
      "['이미지 경로 : ../img/gifts/img3.jpg']\n",
      "['제목 : Dead Parrot']\n",
      "[\"설명 : This is an ex-parrot! Or maybe he's only resting?\"]\n",
      "['가격 : $0.50']\n",
      "['이미지 경로 : ../img/gifts/img4.jpg']\n",
      "['제목 : Mystery Box']\n",
      "['설명 : If you love suprises, this mystery box is for you! Do not place on light-colored surfaces. May cause oil staining. Keep your friends guessing!']\n",
      "['가격 : $1.50']\n",
      "['이미지 경로 : ../img/gifts/img6.jpg']\n"
     ]
    }
   ],
   "source": [
    "for lis in list_all:\n",
    "    print(lis)"
   ]
  },
  {
   "cell_type": "code",
   "execution_count": null,
   "id": "a5805782",
   "metadata": {},
   "outputs": [],
   "source": []
  }
 ],
 "metadata": {
  "kernelspec": {
   "display_name": "Python 3 (ipykernel)",
   "language": "python",
   "name": "python3"
  },
  "language_info": {
   "codemirror_mode": {
    "name": "ipython",
    "version": 3
   },
   "file_extension": ".py",
   "mimetype": "text/x-python",
   "name": "python",
   "nbconvert_exporter": "python",
   "pygments_lexer": "ipython3",
   "version": "3.9.6"
  }
 },
 "nbformat": 4,
 "nbformat_minor": 5
}
