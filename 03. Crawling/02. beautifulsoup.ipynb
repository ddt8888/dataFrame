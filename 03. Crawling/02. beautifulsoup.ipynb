{
 "cells": [
  {
   "cell_type": "markdown",
   "id": "c1516b0a",
   "metadata": {},
   "source": [
    "## Beautifulsoup"
   ]
  },
  {
   "cell_type": "code",
   "execution_count": 3,
   "id": "d6924067",
   "metadata": {},
   "outputs": [],
   "source": [
    "from bs4 import BeautifulSoup"
   ]
  },
  {
   "cell_type": "code",
   "execution_count": 4,
   "id": "ccecaefa",
   "metadata": {},
   "outputs": [],
   "source": [
    "html_doc = \"\"\"<html><head><title>The Dormouse's story</title></head>\n",
    "<body>\n",
    "<p class=\"title\"><b>The Dormouse's story</b></p>\n",
    "\n",
    "<p class=\"story\">Once upon a time there were three little sisters; and their names were\n",
    "    <a href=\"http://example.com/elsie\" class=\"sister\" id=\"link1\">Elsie</a>,\n",
    "    <a href=\"http://example.com/lacie\" class=\"sister\" id=\"link2\" data01=\"title_01\">Lacie</a>\n",
    "     and\n",
    "    <a href=\"http://example.com/tillie\" class=\"sister\" id=\"link3\" data02=\"title_02\">Tillie</a>;\n",
    "    and they lived at the bottom of a well.\n",
    "</p>\n",
    "\n",
    "<p class=\"story\">...</p>\n",
    "</body>\n",
    "</html>\n",
    "\"\"\"\n",
    "\n"
   ]
  },
  {
   "cell_type": "code",
   "execution_count": 5,
   "id": "db8d1973",
   "metadata": {},
   "outputs": [
    {
     "data": {
      "text/plain": [
       "<html><head><title>The Dormouse's story</title></head>\n",
       "<body>\n",
       "<p class=\"title\"><b>The Dormouse's story</b></p>\n",
       "<p class=\"story\">Once upon a time there were three little sisters; and their names were\n",
       "    <a class=\"sister\" href=\"http://example.com/elsie\" id=\"link1\">Elsie</a>,\n",
       "    <a class=\"sister\" data01=\"title_01\" href=\"http://example.com/lacie\" id=\"link2\">Lacie</a>\n",
       "     and\n",
       "    <a class=\"sister\" data02=\"title_02\" href=\"http://example.com/tillie\" id=\"link3\">Tillie</a>;\n",
       "    and they lived at the bottom of a well.\n",
       "</p>\n",
       "<p class=\"story\">...</p>\n",
       "</body>\n",
       "</html>"
      ]
     },
     "execution_count": 5,
     "metadata": {},
     "output_type": "execute_result"
    }
   ],
   "source": [
    "soup = BeautifulSoup(html_doc, 'html.parser')\n",
    "soup"
   ]
  },
  {
   "cell_type": "code",
   "execution_count": 6,
   "id": "734705eb",
   "metadata": {},
   "outputs": [
    {
     "name": "stdout",
     "output_type": "stream",
     "text": [
      "<html>\n",
      " <head>\n",
      "  <title>\n",
      "   The Dormouse's story\n",
      "  </title>\n",
      " </head>\n",
      " <body>\n",
      "  <p class=\"title\">\n",
      "   <b>\n",
      "    The Dormouse's story\n",
      "   </b>\n",
      "  </p>\n",
      "  <p class=\"story\">\n",
      "   Once upon a time there were three little sisters; and their names were\n",
      "   <a class=\"sister\" href=\"http://example.com/elsie\" id=\"link1\">\n",
      "    Elsie\n",
      "   </a>\n",
      "   ,\n",
      "   <a class=\"sister\" data01=\"title_01\" href=\"http://example.com/lacie\" id=\"link2\">\n",
      "    Lacie\n",
      "   </a>\n",
      "   and\n",
      "   <a class=\"sister\" data02=\"title_02\" href=\"http://example.com/tillie\" id=\"link3\">\n",
      "    Tillie\n",
      "   </a>\n",
      "   ;\n",
      "    and they lived at the bottom of a well.\n",
      "  </p>\n",
      "  <p class=\"story\">\n",
      "   ...\n",
      "  </p>\n",
      " </body>\n",
      "</html>\n",
      "\n"
     ]
    }
   ],
   "source": [
    "print(soup.prettify())"
   ]
  },
  {
   "cell_type": "code",
   "execution_count": 7,
   "id": "55843965",
   "metadata": {},
   "outputs": [
    {
     "data": {
      "text/plain": [
       "<title>The Dormouse's story</title>"
      ]
     },
     "execution_count": 7,
     "metadata": {},
     "output_type": "execute_result"
    }
   ],
   "source": [
    "# <title>\n",
    "soup.title"
   ]
  },
  {
   "cell_type": "code",
   "execution_count": 8,
   "id": "abe5b511",
   "metadata": {},
   "outputs": [
    {
     "data": {
      "text/plain": [
       "\"The Dormouse's story\""
      ]
     },
     "execution_count": 8,
     "metadata": {},
     "output_type": "execute_result"
    }
   ],
   "source": [
    "soup.title.string"
   ]
  },
  {
   "cell_type": "code",
   "execution_count": 9,
   "id": "edd78264",
   "metadata": {},
   "outputs": [
    {
     "data": {
      "text/plain": [
       "\"The Dormouse's story\""
      ]
     },
     "execution_count": 9,
     "metadata": {},
     "output_type": "execute_result"
    }
   ],
   "source": [
    "soup.title.text"
   ]
  },
  {
   "cell_type": "code",
   "execution_count": 10,
   "id": "0818163d",
   "metadata": {},
   "outputs": [
    {
     "data": {
      "text/plain": [
       "<p class=\"title\"><b>The Dormouse's story</b></p>"
      ]
     },
     "execution_count": 10,
     "metadata": {},
     "output_type": "execute_result"
    }
   ],
   "source": [
    "soup.p"
   ]
  },
  {
   "cell_type": "code",
   "execution_count": 11,
   "id": "7001144e",
   "metadata": {},
   "outputs": [
    {
     "data": {
      "text/plain": [
       "['title']"
      ]
     },
     "execution_count": 11,
     "metadata": {},
     "output_type": "execute_result"
    }
   ],
   "source": [
    "soup.p['class']"
   ]
  },
  {
   "cell_type": "code",
   "execution_count": 12,
   "id": "107c500a",
   "metadata": {},
   "outputs": [
    {
     "data": {
      "text/plain": [
       "<a class=\"sister\" href=\"http://example.com/elsie\" id=\"link1\">Elsie</a>"
      ]
     },
     "execution_count": 12,
     "metadata": {},
     "output_type": "execute_result"
    }
   ],
   "source": [
    "soup.a"
   ]
  },
  {
   "cell_type": "markdown",
   "id": "2f22803d",
   "metadata": {},
   "source": [
    "## find_all(), find()\n",
    "- 태그를 이용하여 검색"
   ]
  },
  {
   "cell_type": "markdown",
   "id": "c37125e1",
   "metadata": {},
   "source": [
    "## select(), select_one()\n",
    "- css선택자를 이용하여 검색"
   ]
  },
  {
   "cell_type": "markdown",
   "id": "13ef4a9f",
   "metadata": {},
   "source": [
    "- find()"
   ]
  },
  {
   "cell_type": "code",
   "execution_count": 14,
   "id": "f7ac1998",
   "metadata": {},
   "outputs": [
    {
     "data": {
      "text/plain": [
       "<p class=\"title\"><b>The Dormouse's story</b></p>"
      ]
     },
     "execution_count": 14,
     "metadata": {},
     "output_type": "execute_result"
    }
   ],
   "source": [
    "html2 = soup.find('p')\n",
    "html2"
   ]
  },
  {
   "cell_type": "code",
   "execution_count": 18,
   "id": "df002e75",
   "metadata": {},
   "outputs": [
    {
     "data": {
      "text/plain": [
       "<p class=\"title\"><b>The Dormouse's story</b></p>"
      ]
     },
     "execution_count": 18,
     "metadata": {},
     "output_type": "execute_result"
    }
   ],
   "source": [
    "html2 = soup.find('p', class_= 'title')\n",
    "html2"
   ]
  },
  {
   "cell_type": "code",
   "execution_count": 39,
   "id": "9d0f88bf",
   "metadata": {},
   "outputs": [
    {
     "data": {
      "text/plain": [
       "<p class=\"story\">Once upon a time there were three little sisters; and their names were\n",
       "    <a class=\"sister\" href=\"http://example.com/elsie\" id=\"link1\">Elsie</a>,\n",
       "    <a class=\"sister\" data01=\"title_01\" href=\"http://example.com/lacie\" id=\"link2\">Lacie</a>\n",
       "     and\n",
       "    <a class=\"sister\" data02=\"title_02\" href=\"http://example.com/tillie\" id=\"link3\">Tillie</a>;\n",
       "    and they lived at the bottom of a well.\n",
       "</p>"
      ]
     },
     "execution_count": 39,
     "metadata": {},
     "output_type": "execute_result"
    }
   ],
   "source": [
    "html2 = soup.find('p', class_='story')\n",
    "html2"
   ]
  },
  {
   "cell_type": "code",
   "execution_count": 41,
   "id": "e61dbc02",
   "metadata": {},
   "outputs": [
    {
     "data": {
      "text/plain": [
       "<a class=\"sister\" data02=\"title_02\" href=\"http://example.com/tillie\" id=\"link3\">Tillie</a>"
      ]
     },
     "execution_count": 41,
     "metadata": {},
     "output_type": "execute_result"
    }
   ],
   "source": [
    "html2 = soup.find('a', attrs= {'class' : 'sister', 'data02':'title_02'})\n",
    "html2"
   ]
  },
  {
   "cell_type": "code",
   "execution_count": 42,
   "id": "2408f267",
   "metadata": {},
   "outputs": [
    {
     "data": {
      "text/plain": [
       "[<p class=\"title\"><b>The Dormouse's story</b></p>,\n",
       " <p class=\"story\">Once upon a time there were three little sisters; and their names were\n",
       "     <a class=\"sister\" href=\"http://example.com/elsie\" id=\"link1\">Elsie</a>,\n",
       "     <a class=\"sister\" data01=\"title_01\" href=\"http://example.com/lacie\" id=\"link2\">Lacie</a>\n",
       "      and\n",
       "     <a class=\"sister\" data02=\"title_02\" href=\"http://example.com/tillie\" id=\"link3\">Tillie</a>;\n",
       "     and they lived at the bottom of a well.\n",
       " </p>,\n",
       " <p class=\"story\">...</p>]"
      ]
     },
     "execution_count": 42,
     "metadata": {},
     "output_type": "execute_result"
    }
   ],
   "source": [
    "html2 = soup.find_all('p')\n",
    "html2"
   ]
  },
  {
   "cell_type": "code",
   "execution_count": 43,
   "id": "30641e47",
   "metadata": {},
   "outputs": [
    {
     "data": {
      "text/plain": [
       "bs4.element.ResultSet"
      ]
     },
     "execution_count": 43,
     "metadata": {},
     "output_type": "execute_result"
    }
   ],
   "source": [
    "type(html2)"
   ]
  },
  {
   "cell_type": "code",
   "execution_count": 44,
   "id": "786b761d",
   "metadata": {},
   "outputs": [
    {
     "name": "stdout",
     "output_type": "stream",
     "text": [
      "<p class=\"title\"><b>The Dormouse's story</b></p>\n",
      "---------------\n",
      "<p class=\"story\">Once upon a time there were three little sisters; and their names were\n",
      "    <a class=\"sister\" href=\"http://example.com/elsie\" id=\"link1\">Elsie</a>,\n",
      "    <a class=\"sister\" data01=\"title_01\" href=\"http://example.com/lacie\" id=\"link2\">Lacie</a>\n",
      "     and\n",
      "    <a class=\"sister\" data02=\"title_02\" href=\"http://example.com/tillie\" id=\"link3\">Tillie</a>;\n",
      "    and they lived at the bottom of a well.\n",
      "</p>\n",
      "---------------\n",
      "<p class=\"story\">...</p>\n",
      "---------------\n"
     ]
    }
   ],
   "source": [
    "for html in html2:\n",
    "    print(html)\n",
    "    print('---------------')"
   ]
  },
  {
   "cell_type": "code",
   "execution_count": 48,
   "id": "5a218557",
   "metadata": {},
   "outputs": [
    {
     "data": {
      "text/plain": [
       "[<p class=\"story\">Once upon a time there were three little sisters; and their names were\n",
       "     <a class=\"sister\" href=\"http://example.com/elsie\" id=\"link1\">Elsie</a>,\n",
       "     <a class=\"sister\" data01=\"title_01\" href=\"http://example.com/lacie\" id=\"link2\">Lacie</a>\n",
       "      and\n",
       "     <a class=\"sister\" data02=\"title_02\" href=\"http://example.com/tillie\" id=\"link3\">Tillie</a>;\n",
       "     and they lived at the bottom of a well.\n",
       " </p>,\n",
       " <p class=\"story\">...</p>]"
      ]
     },
     "execution_count": 48,
     "metadata": {},
     "output_type": "execute_result"
    }
   ],
   "source": [
    "html2 = soup.find_all('p', class_='story')\n",
    "html2"
   ]
  },
  {
   "cell_type": "code",
   "execution_count": 49,
   "id": "a0c69054",
   "metadata": {
    "scrolled": false
   },
   "outputs": [
    {
     "name": "stdout",
     "output_type": "stream",
     "text": [
      "Once upon a time there were three little sisters; and their names were\n",
      "    Elsie,\n",
      "    Lacie\n",
      "     and\n",
      "    Tillie;\n",
      "    and they lived at the bottom of a well.\n",
      "\n",
      "---------\n",
      "...\n",
      "---------\n"
     ]
    }
   ],
   "source": [
    "html2 = soup.find_all('p', class_='story')\n",
    "for html in html2:\n",
    "    print(html.text)\n",
    "    print('---------')"
   ]
  },
  {
   "cell_type": "code",
   "execution_count": 53,
   "id": "72d5911f",
   "metadata": {},
   "outputs": [
    {
     "name": "stdout",
     "output_type": "stream",
     "text": [
      "<a class=\"sister\" href=\"http://example.com/elsie\" id=\"link1\">Elsie</a>\n",
      "---------\n"
     ]
    }
   ],
   "source": [
    "html2 = soup.find_all('a', id='link1')\n",
    "for html in html2:\n",
    "    print(html)\n",
    "    print('---------')"
   ]
  },
  {
   "cell_type": "code",
   "execution_count": null,
   "id": "f8f8c290",
   "metadata": {},
   "outputs": [],
   "source": [
    "html2 = soup.find_all('a', id='link1')\n",
    "for html in html2:\n",
    "    print(html)\n",
    "    print('---------')"
   ]
  },
  {
   "cell_type": "markdown",
   "id": "2d47634f",
   "metadata": {},
   "source": [
    "## select_one()"
   ]
  },
  {
   "cell_type": "code",
   "execution_count": 55,
   "id": "4cfadf23",
   "metadata": {},
   "outputs": [
    {
     "data": {
      "text/plain": [
       "<p class=\"title\"><b>The Dormouse's story</b></p>"
      ]
     },
     "execution_count": 55,
     "metadata": {},
     "output_type": "execute_result"
    }
   ],
   "source": [
    "html2 = soup.select_one('p')\n",
    "html2"
   ]
  },
  {
   "cell_type": "code",
   "execution_count": 56,
   "id": "23e17c72",
   "metadata": {},
   "outputs": [
    {
     "data": {
      "text/plain": [
       "<p class=\"title\"><b>The Dormouse's story</b></p>"
      ]
     },
     "execution_count": 56,
     "metadata": {},
     "output_type": "execute_result"
    }
   ],
   "source": [
    "html2 = soup.select_one('p.title')\n",
    "html2"
   ]
  },
  {
   "cell_type": "code",
   "execution_count": 57,
   "id": "6019f4e5",
   "metadata": {},
   "outputs": [
    {
     "data": {
      "text/plain": [
       "<p class=\"story\">Once upon a time there were three little sisters; and their names were\n",
       "    <a class=\"sister\" href=\"http://example.com/elsie\" id=\"link1\">Elsie</a>,\n",
       "    <a class=\"sister\" data01=\"title_01\" href=\"http://example.com/lacie\" id=\"link2\">Lacie</a>\n",
       "     and\n",
       "    <a class=\"sister\" data02=\"title_02\" href=\"http://example.com/tillie\" id=\"link3\">Tillie</a>;\n",
       "    and they lived at the bottom of a well.\n",
       "</p>"
      ]
     },
     "execution_count": 57,
     "metadata": {},
     "output_type": "execute_result"
    }
   ],
   "source": [
    "#'태그명.값'\n",
    "html2 = soup.select_one('p.story')\n",
    "html2"
   ]
  },
  {
   "cell_type": "code",
   "execution_count": 60,
   "id": "e80d7c19",
   "metadata": {},
   "outputs": [
    {
     "data": {
      "text/plain": [
       "<a class=\"sister\" href=\"http://example.com/elsie\" id=\"link1\">Elsie</a>"
      ]
     },
     "execution_count": 60,
     "metadata": {},
     "output_type": "execute_result"
    }
   ],
   "source": [
    "# a#link1 에서 '#'은 id를 뜻함\n",
    "html2 = soup.select_one('a#link1')\n",
    "html2"
   ]
  },
  {
   "cell_type": "code",
   "execution_count": 61,
   "id": "833b9790",
   "metadata": {
    "scrolled": true
   },
   "outputs": [
    {
     "data": {
      "text/plain": [
       "<a class=\"sister\" data01=\"title_01\" href=\"http://example.com/lacie\" id=\"link2\">Lacie</a>"
      ]
     },
     "execution_count": 61,
     "metadata": {},
     "output_type": "execute_result"
    }
   ],
   "source": [
    "html2 = soup.select_one('a[data01=\"title_01\"]')\n",
    "html2"
   ]
  },
  {
   "cell_type": "code",
   "execution_count": 62,
   "id": "dda51d1b",
   "metadata": {
    "scrolled": true
   },
   "outputs": [
    {
     "data": {
      "text/plain": [
       "<a class=\"sister\" data02=\"title_02\" href=\"http://example.com/tillie\" id=\"link3\">Tillie</a>"
      ]
     },
     "execution_count": 62,
     "metadata": {},
     "output_type": "execute_result"
    }
   ],
   "source": [
    "html2 = soup.select_one('a[data02]')\n",
    "html2"
   ]
  },
  {
   "cell_type": "code",
   "execution_count": 64,
   "id": "5470d985",
   "metadata": {},
   "outputs": [
    {
     "data": {
      "text/plain": [
       "<title>The Dormouse's story</title>"
      ]
     },
     "execution_count": 64,
     "metadata": {},
     "output_type": "execute_result"
    }
   ],
   "source": [
    "html2 = soup.select_one('html head title')\n",
    "html2"
   ]
  },
  {
   "cell_type": "code",
   "execution_count": 66,
   "id": "96e61a84",
   "metadata": {},
   "outputs": [
    {
     "data": {
      "text/plain": [
       "<a class=\"sister\" data01=\"title_01\" href=\"http://example.com/lacie\" id=\"link2\">Lacie</a>"
      ]
     },
     "execution_count": 66,
     "metadata": {},
     "output_type": "execute_result"
    }
   ],
   "source": [
    "html2 = soup.select_one('p.story > a#link2')\n",
    "html2"
   ]
  },
  {
   "cell_type": "code",
   "execution_count": 69,
   "id": "7ba3b883",
   "metadata": {},
   "outputs": [
    {
     "name": "stdout",
     "output_type": "stream",
     "text": [
      "The Dormouse's story\n"
     ]
    }
   ],
   "source": [
    "html2 = soup.select('p.title')\n",
    "for html in html2:\n",
    "    print(html.text)"
   ]
  },
  {
   "cell_type": "code",
   "execution_count": 70,
   "id": "6698df66",
   "metadata": {},
   "outputs": [
    {
     "data": {
      "text/plain": [
       "<a class=\"sister\" href=\"http://example.com/elsie\" id=\"link1\">Elsie</a>"
      ]
     },
     "execution_count": 70,
     "metadata": {},
     "output_type": "execute_result"
    }
   ],
   "source": [
    "html2 = soup.select_one('a#link1')\n",
    "html2"
   ]
  },
  {
   "cell_type": "code",
   "execution_count": 71,
   "id": "c96c0a6f",
   "metadata": {},
   "outputs": [
    {
     "data": {
      "text/plain": [
       "'Elsie'"
      ]
     },
     "execution_count": 71,
     "metadata": {},
     "output_type": "execute_result"
    }
   ],
   "source": [
    "html2.text"
   ]
  },
  {
   "cell_type": "code",
   "execution_count": 72,
   "id": "725c1d31",
   "metadata": {},
   "outputs": [
    {
     "data": {
      "text/plain": [
       "['sister']"
      ]
     },
     "execution_count": 72,
     "metadata": {},
     "output_type": "execute_result"
    }
   ],
   "source": [
    "html2['class']"
   ]
  },
  {
   "cell_type": "code",
   "execution_count": 74,
   "id": "90dd6eea",
   "metadata": {},
   "outputs": [
    {
     "data": {
      "text/plain": [
       "'http://example.com/elsie'"
      ]
     },
     "execution_count": 74,
     "metadata": {},
     "output_type": "execute_result"
    }
   ],
   "source": [
    "html2['href']"
   ]
  },
  {
   "cell_type": "code",
   "execution_count": 75,
   "id": "2e368017",
   "metadata": {},
   "outputs": [
    {
     "data": {
      "text/plain": [
       "'link1'"
      ]
     },
     "execution_count": 75,
     "metadata": {},
     "output_type": "execute_result"
    }
   ],
   "source": [
    "html2['id']"
   ]
  },
  {
   "cell_type": "code",
   "execution_count": 80,
   "id": "b5c6c2f7",
   "metadata": {},
   "outputs": [
    {
     "data": {
      "text/plain": [
       "<p class=\"title\"><b>The Dormouse's story</b></p>"
      ]
     },
     "execution_count": 80,
     "metadata": {},
     "output_type": "execute_result"
    }
   ],
   "source": [
    "html2 = soup.select('p.title')\n",
    "html3 = html2[0]\n",
    "html3"
   ]
  },
  {
   "cell_type": "code",
   "execution_count": 81,
   "id": "e63e81f9",
   "metadata": {},
   "outputs": [
    {
     "data": {
      "text/plain": [
       "\"The Dormouse's story\""
      ]
     },
     "execution_count": 81,
     "metadata": {},
     "output_type": "execute_result"
    }
   ],
   "source": [
    "html3.text"
   ]
  },
  {
   "cell_type": "code",
   "execution_count": 84,
   "id": "2ddbd2ce",
   "metadata": {},
   "outputs": [
    {
     "data": {
      "text/plain": [
       "['title']"
      ]
     },
     "execution_count": 84,
     "metadata": {},
     "output_type": "execute_result"
    }
   ],
   "source": [
    "html3['class']"
   ]
  },
  {
   "cell_type": "code",
   "execution_count": null,
   "id": "1d3dd0ba",
   "metadata": {},
   "outputs": [],
   "source": []
  }
 ],
 "metadata": {
  "kernelspec": {
   "display_name": "Python 3 (ipykernel)",
   "language": "python",
   "name": "python3"
  },
  "language_info": {
   "codemirror_mode": {
    "name": "ipython",
    "version": 3
   },
   "file_extension": ".py",
   "mimetype": "text/x-python",
   "name": "python",
   "nbconvert_exporter": "python",
   "pygments_lexer": "ipython3",
   "version": "3.9.6"
  }
 },
 "nbformat": 4,
 "nbformat_minor": 5
}
