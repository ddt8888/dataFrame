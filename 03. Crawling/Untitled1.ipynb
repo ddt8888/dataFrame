{
 "cells": [
  {
   "cell_type": "code",
   "execution_count": 1,
   "id": "ba41a742",
   "metadata": {},
   "outputs": [],
   "source": [
    "import requests\n",
    "from bs4 import BeautifulSoup"
   ]
  },
  {
   "cell_type": "code",
   "execution_count": 2,
   "id": "31389d10",
   "metadata": {},
   "outputs": [],
   "source": [
    "# with~ 자동으로 closed 시켜준다\n",
    "word_list= []\n",
    "with open('./word.txt','r', encoding='UTF-8') as file_data:\n",
    "    for line in file_data:\n",
    "        word_list.append(line.strip())"
   ]
  },
  {
   "cell_type": "code",
   "execution_count": 3,
   "id": "724cc98f",
   "metadata": {},
   "outputs": [],
   "source": [
    "def get_word_dic(lis, s_print=False):\n",
    "\n",
    "    result_list = []\n",
    "    \n",
    "    for li in lis:\n",
    "        result_dic = {}\n",
    "        li_a = li.find('a','t_blue1')\n",
    "        if li_a.find('sup') != None:\n",
    "            r_seq = li_a.find('sup').text.strip()#순번\n",
    "            result_dic['r_seq']= r_seq\n",
    "            li_a.find('sup').decompose()\n",
    "\n",
    "#         li.find('a','t_blue1').find('sup').decompose()#순번 삭제\n",
    "        r_word = li.find('a','t_blue1').text.strip()#검색\n",
    "        result_dic['r_word']=r_word\n",
    "\n",
    "\n",
    "        r_link = 'http://stdict.korean.go.kr'+li.find('a','t_blue1')['href']#링크 가져오는방법\n",
    "        result_dic['r_link']=r_link\n",
    "\n",
    "        r_chi = li.find('span','t_gray hanja_font').text.strip()#한자\n",
    "        result_dic['r_chi']=r_chi   \n",
    "\n",
    "        r_des = li.find('font','dataLine').text.strip()#설명\n",
    "        result_dic['r_des']=r_des   \n",
    "\n",
    "        li_dt = li.find('dt')#dt가져오기\n",
    "        li_dt.find('a','t_blue1').decompose()#a삭제\n",
    "        li_dt.find('span').decompose()#span 삭제\n",
    "        li_dt.find('span').decompose()#span 삭제\n",
    "        r_pos = li_dt.text.strip()\n",
    "        result_dic['r_pos']=r_pos\n",
    "\n",
    "        result_list.append(result_dic)\n",
    "\n",
    "    if s_print:\n",
    "        for result in result_list:\n",
    "            print(result['r_word'], end='')\n",
    "            if 'r_seq' in result.keys(): \n",
    "                print(result['r_seq'], end='')                    \n",
    "            print(result['r_chi'], end='')\n",
    "            print(result['r_des'], end='')\n",
    "            print(result['r_pos'] )\n",
    "            print('    ',result['r_link'])\n",
    "            print('--------------------------')\n",
    "    \n",
    "    return result_list"
   ]
  },
  {
   "cell_type": "code",
   "execution_count": 4,
   "id": "5ffa341e",
   "metadata": {},
   "outputs": [],
   "source": [
    "r_list = []\n",
    "\n",
    "for word in word_list:\n",
    "\n",
    "    url = 'https://stdict.korean.go.kr/search/searchResult.do?\\\n",
    "    pageSize=10&searchKeyword={}'.format(word)\n",
    "    res = requests.get(url)\n",
    "    soup = BeautifulSoup(res.content, 'html.parser')\n",
    "\n",
    "    ul = soup.find('ul', 'result')\n",
    "    # print(ul)\n",
    "\n",
    "    if ul != None:\n",
    "        lis = ul.find_all('li')\n",
    "        r_list = r_list + get_word_dic(lis, False)\n",
    "    else:\n",
    "        print('검색결과를 못찾았습니다.')"
   ]
  },
  {
   "cell_type": "code",
   "execution_count": 5,
   "id": "478db3ba",
   "metadata": {},
   "outputs": [],
   "source": [
    "from pymongo import MongoClient"
   ]
  },
  {
   "cell_type": "code",
   "execution_count": 6,
   "id": "1f09e828",
   "metadata": {},
   "outputs": [],
   "source": [
    "client = MongoClient('localhost', 27017)"
   ]
  },
  {
   "cell_type": "code",
   "execution_count": 7,
   "id": "dc6c6b40",
   "metadata": {},
   "outputs": [],
   "source": [
    "db = client['kor_dic_db2']"
   ]
  },
  {
   "cell_type": "code",
   "execution_count": 8,
   "id": "b07e4130",
   "metadata": {},
   "outputs": [],
   "source": [
    "kor_dic_coll = db['kor_dic_coll2']"
   ]
  },
  {
   "cell_type": "code",
   "execution_count": 9,
   "id": "a84c190e",
   "metadata": {},
   "outputs": [
    {
     "data": {
      "text/plain": [
       "<pymongo.results.InsertManyResult at 0x21393179900>"
      ]
     },
     "execution_count": 9,
     "metadata": {},
     "output_type": "execute_result"
    }
   ],
   "source": [
    "kor_dic_coll.insert_many(r_list)"
   ]
  },
  {
   "cell_type": "code",
   "execution_count": null,
   "id": "128bfce0",
   "metadata": {},
   "outputs": [],
   "source": []
  }
 ],
 "metadata": {
  "kernelspec": {
   "display_name": "Python 3 (ipykernel)",
   "language": "python",
   "name": "python3"
  },
  "language_info": {
   "codemirror_mode": {
    "name": "ipython",
    "version": 3
   },
   "file_extension": ".py",
   "mimetype": "text/x-python",
   "name": "python",
   "nbconvert_exporter": "python",
   "pygments_lexer": "ipython3",
   "version": "3.9.6"
  }
 },
 "nbformat": 4,
 "nbformat_minor": 5
}
