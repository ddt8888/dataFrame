{
 "cells": [
  {
   "cell_type": "code",
   "execution_count": 39,
   "id": "72ad89f1",
   "metadata": {},
   "outputs": [],
   "source": [
    "import numpy as np\n",
    "import pandas as pd"
   ]
  },
  {
   "cell_type": "code",
   "execution_count": 41,
   "id": "e259b7fb",
   "metadata": {
    "scrolled": false
   },
   "outputs": [
    {
     "data": {
      "text/html": [
       "<div>\n",
       "<style scoped>\n",
       "    .dataframe tbody tr th:only-of-type {\n",
       "        vertical-align: middle;\n",
       "    }\n",
       "\n",
       "    .dataframe tbody tr th {\n",
       "        vertical-align: top;\n",
       "    }\n",
       "\n",
       "    .dataframe thead th {\n",
       "        text-align: right;\n",
       "    }\n",
       "</style>\n",
       "<table border=\"1\" class=\"dataframe\">\n",
       "  <thead>\n",
       "    <tr style=\"text-align: right;\">\n",
       "      <th></th>\n",
       "      <th>지역</th>\n",
       "      <th>시군구</th>\n",
       "      <th>단지명</th>\n",
       "      <th>전용면적(㎡)</th>\n",
       "      <th>계약년월</th>\n",
       "      <th>거래금액(만원)</th>\n",
       "    </tr>\n",
       "  </thead>\n",
       "  <tbody>\n",
       "    <tr>\n",
       "      <th>0</th>\n",
       "      <td>대구광역시</td>\n",
       "      <td>남구 대명동</td>\n",
       "      <td>경일맨션</td>\n",
       "      <td>69.75</td>\n",
       "      <td>202103</td>\n",
       "      <td>12000</td>\n",
       "    </tr>\n",
       "    <tr>\n",
       "      <th>1</th>\n",
       "      <td>NaN</td>\n",
       "      <td>남구 대명동</td>\n",
       "      <td>교대역동서프라임36.5</td>\n",
       "      <td>76.24</td>\n",
       "      <td>202103</td>\n",
       "      <td>48800</td>\n",
       "    </tr>\n",
       "    <tr>\n",
       "      <th>2</th>\n",
       "      <td>NaN</td>\n",
       "      <td>남구 대명동</td>\n",
       "      <td>대명(3007-34)</td>\n",
       "      <td>84.98</td>\n",
       "      <td>202103</td>\n",
       "      <td>19000</td>\n",
       "    </tr>\n",
       "    <tr>\n",
       "      <th>3</th>\n",
       "      <td>NaN</td>\n",
       "      <td>남구 대명동</td>\n",
       "      <td>동아대덕</td>\n",
       "      <td>84.96</td>\n",
       "      <td>202103</td>\n",
       "      <td>22500</td>\n",
       "    </tr>\n",
       "    <tr>\n",
       "      <th>4</th>\n",
       "      <td>NaN</td>\n",
       "      <td>남구 대명동</td>\n",
       "      <td>보성청록타운</td>\n",
       "      <td>84.99</td>\n",
       "      <td>202103</td>\n",
       "      <td>29000</td>\n",
       "    </tr>\n",
       "    <tr>\n",
       "      <th>...</th>\n",
       "      <td>...</td>\n",
       "      <td>...</td>\n",
       "      <td>...</td>\n",
       "      <td>...</td>\n",
       "      <td>...</td>\n",
       "      <td>...</td>\n",
       "    </tr>\n",
       "    <tr>\n",
       "      <th>4213</th>\n",
       "      <td>NaN</td>\n",
       "      <td>중구 대봉동</td>\n",
       "      <td>대봉화성파크드림</td>\n",
       "      <td>84.05</td>\n",
       "      <td>202108</td>\n",
       "      <td>48500</td>\n",
       "    </tr>\n",
       "    <tr>\n",
       "      <th>4214</th>\n",
       "      <td>NaN</td>\n",
       "      <td>중구 대신동</td>\n",
       "      <td>대신센트럴자이</td>\n",
       "      <td>84.84</td>\n",
       "      <td>202108</td>\n",
       "      <td>68700</td>\n",
       "    </tr>\n",
       "    <tr>\n",
       "      <th>4215</th>\n",
       "      <td>NaN</td>\n",
       "      <td>중구 대신동</td>\n",
       "      <td>대신센트럴자이</td>\n",
       "      <td>84.84</td>\n",
       "      <td>202108</td>\n",
       "      <td>69200</td>\n",
       "    </tr>\n",
       "    <tr>\n",
       "      <th>4216</th>\n",
       "      <td>NaN</td>\n",
       "      <td>중구 대신동</td>\n",
       "      <td>동서</td>\n",
       "      <td>65.06</td>\n",
       "      <td>202108</td>\n",
       "      <td>33350</td>\n",
       "    </tr>\n",
       "    <tr>\n",
       "      <th>4217</th>\n",
       "      <td>NaN</td>\n",
       "      <td>중구 삼덕동3가</td>\n",
       "      <td>삼덕청아람</td>\n",
       "      <td>84.80</td>\n",
       "      <td>202108</td>\n",
       "      <td>64500</td>\n",
       "    </tr>\n",
       "  </tbody>\n",
       "</table>\n",
       "<p>4218 rows × 6 columns</p>\n",
       "</div>"
      ],
      "text/plain": [
       "         지역       시군구           단지명  전용면적(㎡)    계약년월  거래금액(만원)\n",
       "0     대구광역시    남구 대명동          경일맨션    69.75  202103     12000\n",
       "1       NaN    남구 대명동  교대역동서프라임36.5    76.24  202103     48800\n",
       "2       NaN    남구 대명동   대명(3007-34)    84.98  202103     19000\n",
       "3       NaN    남구 대명동          동아대덕    84.96  202103     22500\n",
       "4       NaN    남구 대명동        보성청록타운    84.99  202103     29000\n",
       "...     ...       ...           ...      ...     ...       ...\n",
       "4213    NaN    중구 대봉동      대봉화성파크드림    84.05  202108     48500\n",
       "4214    NaN    중구 대신동       대신센트럴자이    84.84  202108     68700\n",
       "4215    NaN    중구 대신동       대신센트럴자이    84.84  202108     69200\n",
       "4216    NaN    중구 대신동            동서    65.06  202108     33350\n",
       "4217    NaN  중구 삼덕동3가         삼덕청아람    84.80  202108     64500\n",
       "\n",
       "[4218 rows x 6 columns]"
      ]
     },
     "execution_count": 41,
     "metadata": {},
     "output_type": "execute_result"
    }
   ],
   "source": [
    "df = pd.read_csv('total.csv', encoding=\"CP949\")\n",
    "df"
   ]
  },
  {
   "cell_type": "code",
   "execution_count": 42,
   "id": "072e739b",
   "metadata": {},
   "outputs": [
    {
     "data": {
      "text/plain": [
       "Index(['지역', '시군구', '단지명', '전용면적(㎡)', '계약년월', '거래금액(만원)'], dtype='object')"
      ]
     },
     "execution_count": 42,
     "metadata": {},
     "output_type": "execute_result"
    }
   ],
   "source": [
    "df.columns"
   ]
  },
  {
   "cell_type": "code",
   "execution_count": 43,
   "id": "870931d1",
   "metadata": {},
   "outputs": [
    {
     "data": {
      "text/html": [
       "<div>\n",
       "<style scoped>\n",
       "    .dataframe tbody tr th:only-of-type {\n",
       "        vertical-align: middle;\n",
       "    }\n",
       "\n",
       "    .dataframe tbody tr th {\n",
       "        vertical-align: top;\n",
       "    }\n",
       "\n",
       "    .dataframe thead th {\n",
       "        text-align: right;\n",
       "    }\n",
       "</style>\n",
       "<table border=\"1\" class=\"dataframe\">\n",
       "  <thead>\n",
       "    <tr style=\"text-align: right;\">\n",
       "      <th></th>\n",
       "      <th>전용면적(㎡)</th>\n",
       "      <th>계약년월</th>\n",
       "      <th>거래금액(만원)</th>\n",
       "    </tr>\n",
       "  </thead>\n",
       "  <tbody>\n",
       "    <tr>\n",
       "      <th>전용면적(㎡)</th>\n",
       "      <td>1.000000</td>\n",
       "      <td>-0.020476</td>\n",
       "      <td>0.203605</td>\n",
       "    </tr>\n",
       "    <tr>\n",
       "      <th>계약년월</th>\n",
       "      <td>-0.020476</td>\n",
       "      <td>1.000000</td>\n",
       "      <td>0.010963</td>\n",
       "    </tr>\n",
       "    <tr>\n",
       "      <th>거래금액(만원)</th>\n",
       "      <td>0.203605</td>\n",
       "      <td>0.010963</td>\n",
       "      <td>1.000000</td>\n",
       "    </tr>\n",
       "  </tbody>\n",
       "</table>\n",
       "</div>"
      ],
      "text/plain": [
       "           전용면적(㎡)      계약년월  거래금액(만원)\n",
       "전용면적(㎡)   1.000000 -0.020476  0.203605\n",
       "계약년월     -0.020476  1.000000  0.010963\n",
       "거래금액(만원)  0.203605  0.010963  1.000000"
      ]
     },
     "execution_count": 43,
     "metadata": {},
     "output_type": "execute_result"
    }
   ],
   "source": [
    "df.corr()"
   ]
  },
  {
   "cell_type": "code",
   "execution_count": 46,
   "id": "bc9d2e6e",
   "metadata": {},
   "outputs": [
    {
     "data": {
      "text/html": [
       "<div>\n",
       "<style scoped>\n",
       "    .dataframe tbody tr th:only-of-type {\n",
       "        vertical-align: middle;\n",
       "    }\n",
       "\n",
       "    .dataframe tbody tr th {\n",
       "        vertical-align: top;\n",
       "    }\n",
       "\n",
       "    .dataframe thead th {\n",
       "        text-align: right;\n",
       "    }\n",
       "</style>\n",
       "<table border=\"1\" class=\"dataframe\">\n",
       "  <thead>\n",
       "    <tr style=\"text-align: right;\">\n",
       "      <th></th>\n",
       "      <th>계약년월</th>\n",
       "    </tr>\n",
       "  </thead>\n",
       "  <tbody>\n",
       "    <tr>\n",
       "      <th>0</th>\n",
       "      <td>202103</td>\n",
       "    </tr>\n",
       "    <tr>\n",
       "      <th>1</th>\n",
       "      <td>202103</td>\n",
       "    </tr>\n",
       "    <tr>\n",
       "      <th>2</th>\n",
       "      <td>202103</td>\n",
       "    </tr>\n",
       "    <tr>\n",
       "      <th>3</th>\n",
       "      <td>202103</td>\n",
       "    </tr>\n",
       "    <tr>\n",
       "      <th>4</th>\n",
       "      <td>202103</td>\n",
       "    </tr>\n",
       "    <tr>\n",
       "      <th>...</th>\n",
       "      <td>...</td>\n",
       "    </tr>\n",
       "    <tr>\n",
       "      <th>4213</th>\n",
       "      <td>202108</td>\n",
       "    </tr>\n",
       "    <tr>\n",
       "      <th>4214</th>\n",
       "      <td>202108</td>\n",
       "    </tr>\n",
       "    <tr>\n",
       "      <th>4215</th>\n",
       "      <td>202108</td>\n",
       "    </tr>\n",
       "    <tr>\n",
       "      <th>4216</th>\n",
       "      <td>202108</td>\n",
       "    </tr>\n",
       "    <tr>\n",
       "      <th>4217</th>\n",
       "      <td>202108</td>\n",
       "    </tr>\n",
       "  </tbody>\n",
       "</table>\n",
       "<p>4218 rows × 1 columns</p>\n",
       "</div>"
      ],
      "text/plain": [
       "        계약년월\n",
       "0     202103\n",
       "1     202103\n",
       "2     202103\n",
       "3     202103\n",
       "4     202103\n",
       "...      ...\n",
       "4213  202108\n",
       "4214  202108\n",
       "4215  202108\n",
       "4216  202108\n",
       "4217  202108\n",
       "\n",
       "[4218 rows x 1 columns]"
      ]
     },
     "execution_count": 46,
     "metadata": {},
     "output_type": "execute_result"
    }
   ],
   "source": [
    "df[['계약년월']]"
   ]
  },
  {
   "cell_type": "code",
   "execution_count": 51,
   "id": "570d8aab",
   "metadata": {},
   "outputs": [
    {
     "data": {
      "text/plain": [
       "0       남구 \n",
       "1       남구 \n",
       "2       남구 \n",
       "3       남구 \n",
       "4       남구 \n",
       "       ... \n",
       "4213    중구 \n",
       "4214    중구 \n",
       "4215    중구 \n",
       "4216    중구 \n",
       "4217    중구 \n",
       "Name: 구, Length: 4218, dtype: object"
      ]
     },
     "execution_count": 51,
     "metadata": {},
     "output_type": "execute_result"
    }
   ],
   "source": [
    "df['구'] = df['시군구'].str.slice(start=0, stop=3)\n",
    "df['구']"
   ]
  },
  {
   "cell_type": "code",
   "execution_count": 53,
   "id": "42efb8da",
   "metadata": {},
   "outputs": [
    {
     "data": {
      "text/plain": [
       "0         대명동\n",
       "1         대명동\n",
       "2         대명동\n",
       "3         대명동\n",
       "4         대명동\n",
       "        ...  \n",
       "4213      대봉동\n",
       "4214      대신동\n",
       "4215      대신동\n",
       "4216      대신동\n",
       "4217    삼덕동3가\n",
       "Name: 동, Length: 4218, dtype: object"
      ]
     },
     "execution_count": 53,
     "metadata": {},
     "output_type": "execute_result"
    }
   ],
   "source": [
    "df['동'] = df['시군구'].str.slice(start=3)\n",
    "df['동']"
   ]
  },
  {
   "cell_type": "code",
   "execution_count": null,
   "id": "0936f13b",
   "metadata": {},
   "outputs": [],
   "source": []
  }
 ],
 "metadata": {
  "kernelspec": {
   "display_name": "Python 3 (ipykernel)",
   "language": "python",
   "name": "python3"
  },
  "language_info": {
   "codemirror_mode": {
    "name": "ipython",
    "version": 3
   },
   "file_extension": ".py",
   "mimetype": "text/x-python",
   "name": "python",
   "nbconvert_exporter": "python",
   "pygments_lexer": "ipython3",
   "version": "3.9.6"
  }
 },
 "nbformat": 4,
 "nbformat_minor": 5
}
