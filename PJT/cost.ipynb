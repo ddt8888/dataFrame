{
 "cells": [
  {
   "cell_type": "code",
   "execution_count": 3,
   "id": "8f87ddf8",
   "metadata": {},
   "outputs": [],
   "source": [
    "import matplotlib.pyplot as plt\n",
    "import numpy as np\n",
    "import seaborn as sns\n",
    "import matplotlib.font_manager as fm\n",
    "import pandas as pd\n"
   ]
  },
  {
   "cell_type": "code",
   "execution_count": 18,
   "id": "2acc8ff0",
   "metadata": {
    "scrolled": true
   },
   "outputs": [
    {
     "data": {
      "text/html": [
       "<div>\n",
       "<style scoped>\n",
       "    .dataframe tbody tr th:only-of-type {\n",
       "        vertical-align: middle;\n",
       "    }\n",
       "\n",
       "    .dataframe tbody tr th {\n",
       "        vertical-align: top;\n",
       "    }\n",
       "\n",
       "    .dataframe thead th {\n",
       "        text-align: right;\n",
       "    }\n",
       "</style>\n",
       "<table border=\"1\" class=\"dataframe\">\n",
       "  <thead>\n",
       "    <tr style=\"text-align: right;\">\n",
       "      <th></th>\n",
       "      <th>지역</th>\n",
       "      <th>시군구</th>\n",
       "      <th>단지명</th>\n",
       "      <th>전용면적(㎡)</th>\n",
       "      <th>계약년월</th>\n",
       "      <th>거래금액(만원)</th>\n",
       "    </tr>\n",
       "  </thead>\n",
       "  <tbody>\n",
       "    <tr>\n",
       "      <th>0</th>\n",
       "      <td>대구광역시</td>\n",
       "      <td>남구 대명동</td>\n",
       "      <td>경일맨션</td>\n",
       "      <td>69.75</td>\n",
       "      <td>202103</td>\n",
       "      <td>12000</td>\n",
       "    </tr>\n",
       "    <tr>\n",
       "      <th>1</th>\n",
       "      <td>NaN</td>\n",
       "      <td>남구 대명동</td>\n",
       "      <td>교대역동서프라임36.5</td>\n",
       "      <td>76.24</td>\n",
       "      <td>202103</td>\n",
       "      <td>48800</td>\n",
       "    </tr>\n",
       "    <tr>\n",
       "      <th>2</th>\n",
       "      <td>NaN</td>\n",
       "      <td>남구 대명동</td>\n",
       "      <td>대명(3007-34)</td>\n",
       "      <td>84.98</td>\n",
       "      <td>202103</td>\n",
       "      <td>19000</td>\n",
       "    </tr>\n",
       "    <tr>\n",
       "      <th>3</th>\n",
       "      <td>NaN</td>\n",
       "      <td>남구 대명동</td>\n",
       "      <td>동아대덕</td>\n",
       "      <td>84.96</td>\n",
       "      <td>202103</td>\n",
       "      <td>22500</td>\n",
       "    </tr>\n",
       "    <tr>\n",
       "      <th>4</th>\n",
       "      <td>NaN</td>\n",
       "      <td>남구 대명동</td>\n",
       "      <td>보성청록타운</td>\n",
       "      <td>84.99</td>\n",
       "      <td>202103</td>\n",
       "      <td>29000</td>\n",
       "    </tr>\n",
       "    <tr>\n",
       "      <th>...</th>\n",
       "      <td>...</td>\n",
       "      <td>...</td>\n",
       "      <td>...</td>\n",
       "      <td>...</td>\n",
       "      <td>...</td>\n",
       "      <td>...</td>\n",
       "    </tr>\n",
       "    <tr>\n",
       "      <th>4213</th>\n",
       "      <td>NaN</td>\n",
       "      <td>중구 대봉동</td>\n",
       "      <td>대봉화성파크드림</td>\n",
       "      <td>84.05</td>\n",
       "      <td>202108</td>\n",
       "      <td>48500</td>\n",
       "    </tr>\n",
       "    <tr>\n",
       "      <th>4214</th>\n",
       "      <td>NaN</td>\n",
       "      <td>중구 대신동</td>\n",
       "      <td>대신센트럴자이</td>\n",
       "      <td>84.84</td>\n",
       "      <td>202108</td>\n",
       "      <td>68700</td>\n",
       "    </tr>\n",
       "    <tr>\n",
       "      <th>4215</th>\n",
       "      <td>NaN</td>\n",
       "      <td>중구 대신동</td>\n",
       "      <td>대신센트럴자이</td>\n",
       "      <td>84.84</td>\n",
       "      <td>202108</td>\n",
       "      <td>69200</td>\n",
       "    </tr>\n",
       "    <tr>\n",
       "      <th>4216</th>\n",
       "      <td>NaN</td>\n",
       "      <td>중구 대신동</td>\n",
       "      <td>동서</td>\n",
       "      <td>65.06</td>\n",
       "      <td>202108</td>\n",
       "      <td>33350</td>\n",
       "    </tr>\n",
       "    <tr>\n",
       "      <th>4217</th>\n",
       "      <td>NaN</td>\n",
       "      <td>중구 삼덕동3가</td>\n",
       "      <td>삼덕청아람</td>\n",
       "      <td>84.80</td>\n",
       "      <td>202108</td>\n",
       "      <td>64500</td>\n",
       "    </tr>\n",
       "  </tbody>\n",
       "</table>\n",
       "<p>4218 rows × 6 columns</p>\n",
       "</div>"
      ],
      "text/plain": [
       "         지역       시군구           단지명  전용면적(㎡)    계약년월  거래금액(만원)\n",
       "0     대구광역시    남구 대명동          경일맨션    69.75  202103     12000\n",
       "1       NaN    남구 대명동  교대역동서프라임36.5    76.24  202103     48800\n",
       "2       NaN    남구 대명동   대명(3007-34)    84.98  202103     19000\n",
       "3       NaN    남구 대명동          동아대덕    84.96  202103     22500\n",
       "4       NaN    남구 대명동        보성청록타운    84.99  202103     29000\n",
       "...     ...       ...           ...      ...     ...       ...\n",
       "4213    NaN    중구 대봉동      대봉화성파크드림    84.05  202108     48500\n",
       "4214    NaN    중구 대신동       대신센트럴자이    84.84  202108     68700\n",
       "4215    NaN    중구 대신동       대신센트럴자이    84.84  202108     69200\n",
       "4216    NaN    중구 대신동            동서    65.06  202108     33350\n",
       "4217    NaN  중구 삼덕동3가         삼덕청아람    84.80  202108     64500\n",
       "\n",
       "[4218 rows x 6 columns]"
      ]
     },
     "execution_count": 18,
     "metadata": {},
     "output_type": "execute_result"
    }
   ],
   "source": [
    "df = pd.read_csv('total.csv', encoding='CP949')\n",
    "df"
   ]
  },
  {
   "cell_type": "code",
   "execution_count": 10,
   "id": "6b34b04d",
   "metadata": {},
   "outputs": [
    {
     "data": {
      "text/plain": [
       "<pandas.core.groupby.generic.DataFrameGroupBy object at 0x000002D403DB2D30>"
      ]
     },
     "execution_count": 10,
     "metadata": {},
     "output_type": "execute_result"
    }
   ],
   "source": [
    "test1 = df.groupby(by='계약년월')\n",
    "test1"
   ]
  },
  {
   "cell_type": "code",
   "execution_count": 11,
   "id": "370abd82",
   "metadata": {
    "scrolled": true
   },
   "outputs": [
    {
     "name": "stdout",
     "output_type": "stream",
     "text": [
      "202103    838\n",
      "202105    800\n",
      "202104    706\n",
      "202107    660\n",
      "202106    627\n",
      "202108    587\n",
      "Name: 계약년월, dtype: int64\n"
     ]
    }
   ],
   "source": [
    "test1=df['계약년월'].value_counts()\n",
    "print(test1)"
   ]
  },
  {
   "cell_type": "code",
   "execution_count": 12,
   "id": "0c80eaf8",
   "metadata": {},
   "outputs": [
    {
     "data": {
      "text/plain": [
       "202103    838\n",
       "202104    706\n",
       "202105    800\n",
       "202106    627\n",
       "202107    660\n",
       "202108    587\n",
       "Name: 계약년월, dtype: int64"
      ]
     },
     "execution_count": 12,
     "metadata": {},
     "output_type": "execute_result"
    }
   ],
   "source": [
    "test1=test1.sort_index(axis=0, ascending=True)\n",
    "test1"
   ]
  },
  {
   "cell_type": "code",
   "execution_count": 13,
   "id": "62d753c8",
   "metadata": {},
   "outputs": [
    {
     "name": "stdout",
     "output_type": "stream",
     "text": [
      "['sans-serif']\n"
     ]
    }
   ],
   "source": [
    "print(plt.rcParams['font.family'])"
   ]
  },
  {
   "cell_type": "code",
   "execution_count": 20,
   "id": "f7279470",
   "metadata": {},
   "outputs": [
    {
     "data": {
      "text/plain": [
       "(array([0, 1, 2, 3, 4, 5]),\n",
       " [Text(0, 0, '202103'),\n",
       "  Text(1, 0, '202104'),\n",
       "  Text(2, 0, '202105'),\n",
       "  Text(3, 0, '202106'),\n",
       "  Text(4, 0, '202107'),\n",
       "  Text(5, 0, '202108')])"
      ]
     },
     "execution_count": 20,
     "metadata": {},
     "output_type": "execute_result"
    },
    {
     "data": {
      "image/png": "[encoded data removed]",
      "text/plain": [
       "<Figure size 360x360 with 1 Axes>"
      ]
     },
     "metadata": {
      "needs_background": "light"
     },
     "output_type": "display_data"
    }
   ],
   "source": [
    "test1.plot( kind='bar',label='거래량')\n",
    "plt.xlabel('계약년월')\n",
    "plt.rcParams['figure.figsize'] = (5, 5)\n",
    "plt.legend()\n",
    "plt.xticks(rotation=0)"
   ]
  },
  {
   "cell_type": "code",
   "execution_count": 223,
   "id": "acae31e0",
   "metadata": {},
   "outputs": [
    {
     "data": {
      "text/plain": [
       "<pandas.core.groupby.generic.DataFrameGroupBy object at 0x00000250B45E9D90>"
      ]
     },
     "execution_count": 223,
     "metadata": {},
     "output_type": "execute_result"
    }
   ],
   "source": [
    "gb2 = df.groupby(by='거래금액(만원)')\n",
    "gb2"
   ]
  },
  {
   "cell_type": "code",
   "execution_count": 224,
   "id": "5c4f39bf",
   "metadata": {
    "scrolled": true
   },
   "outputs": [
    {
     "name": "stdout",
     "output_type": "stream",
     "text": [
      "32000     84\n",
      "35000     73\n",
      "29000     58\n",
      "28000     58\n",
      "30000     57\n",
      "          ..\n",
      "34490      1\n",
      "95500      1\n",
      "97000      1\n",
      "154000     1\n",
      "33350      1\n",
      "Name: 거래금액(만원), Length: 698, dtype: int64\n"
     ]
    }
   ],
   "source": [
    "gb2=df['거래금액(만원)'].value_counts()\n",
    "print(gb2)"
   ]
  },
  {
   "cell_type": "code",
   "execution_count": 225,
   "id": "77d14857",
   "metadata": {
    "scrolled": true
   },
   "outputs": [
    {
     "data": {
      "text/plain": [
       "32000     84\n",
       "35000     73\n",
       "29000     58\n",
       "28000     58\n",
       "30000     57\n",
       "          ..\n",
       "34490      1\n",
       "95500      1\n",
       "97000      1\n",
       "154000     1\n",
       "33350      1\n",
       "Name: 거래금액(만원), Length: 698, dtype: int64"
      ]
     },
     "execution_count": 225,
     "metadata": {},
     "output_type": "execute_result"
    }
   ],
   "source": [
    "gb2"
   ]
  },
  {
   "cell_type": "code",
   "execution_count": 226,
   "id": "c1af8940",
   "metadata": {
    "scrolled": true
   },
   "outputs": [
    {
     "data": {
      "text/html": [
       "<div>\n",
       "<style scoped>\n",
       "    .dataframe tbody tr th:only-of-type {\n",
       "        vertical-align: middle;\n",
       "    }\n",
       "\n",
       "    .dataframe tbody tr th {\n",
       "        vertical-align: top;\n",
       "    }\n",
       "\n",
       "    .dataframe thead th {\n",
       "        text-align: right;\n",
       "    }\n",
       "</style>\n",
       "<table border=\"1\" class=\"dataframe\">\n",
       "  <thead>\n",
       "    <tr style=\"text-align: right;\">\n",
       "      <th></th>\n",
       "      <th>계약년월</th>\n",
       "      <th>거래금액(만원)</th>\n",
       "    </tr>\n",
       "  </thead>\n",
       "  <tbody>\n",
       "    <tr>\n",
       "      <th>0</th>\n",
       "      <td>3</td>\n",
       "      <td>12000</td>\n",
       "    </tr>\n",
       "    <tr>\n",
       "      <th>1</th>\n",
       "      <td>3</td>\n",
       "      <td>48800</td>\n",
       "    </tr>\n",
       "    <tr>\n",
       "      <th>2</th>\n",
       "      <td>3</td>\n",
       "      <td>19000</td>\n",
       "    </tr>\n",
       "    <tr>\n",
       "      <th>3</th>\n",
       "      <td>3</td>\n",
       "      <td>22500</td>\n",
       "    </tr>\n",
       "    <tr>\n",
       "      <th>4</th>\n",
       "      <td>3</td>\n",
       "      <td>29000</td>\n",
       "    </tr>\n",
       "    <tr>\n",
       "      <th>...</th>\n",
       "      <td>...</td>\n",
       "      <td>...</td>\n",
       "    </tr>\n",
       "    <tr>\n",
       "      <th>4213</th>\n",
       "      <td>8</td>\n",
       "      <td>48500</td>\n",
       "    </tr>\n",
       "    <tr>\n",
       "      <th>4214</th>\n",
       "      <td>8</td>\n",
       "      <td>68700</td>\n",
       "    </tr>\n",
       "    <tr>\n",
       "      <th>4215</th>\n",
       "      <td>8</td>\n",
       "      <td>69200</td>\n",
       "    </tr>\n",
       "    <tr>\n",
       "      <th>4216</th>\n",
       "      <td>8</td>\n",
       "      <td>33350</td>\n",
       "    </tr>\n",
       "    <tr>\n",
       "      <th>4217</th>\n",
       "      <td>8</td>\n",
       "      <td>64500</td>\n",
       "    </tr>\n",
       "  </tbody>\n",
       "</table>\n",
       "<p>4218 rows × 2 columns</p>\n",
       "</div>"
      ],
      "text/plain": [
       "      계약년월  거래금액(만원)\n",
       "0        3     12000\n",
       "1        3     48800\n",
       "2        3     19000\n",
       "3        3     22500\n",
       "4        3     29000\n",
       "...    ...       ...\n",
       "4213     8     48500\n",
       "4214     8     68700\n",
       "4215     8     69200\n",
       "4216     8     33350\n",
       "4217     8     64500\n",
       "\n",
       "[4218 rows x 2 columns]"
      ]
     },
     "execution_count": 226,
     "metadata": {},
     "output_type": "execute_result"
    }
   ],
   "source": [
    "df[['계약년월','거래금액(만원)']]"
   ]
  },
  {
   "cell_type": "code",
   "execution_count": 274,
   "id": "7e626a53",
   "metadata": {
    "scrolled": true
   },
   "outputs": [
    {
     "data": {
      "text/html": [
       "<div>\n",
       "<style scoped>\n",
       "    .dataframe tbody tr th:only-of-type {\n",
       "        vertical-align: middle;\n",
       "    }\n",
       "\n",
       "    .dataframe tbody tr th {\n",
       "        vertical-align: top;\n",
       "    }\n",
       "\n",
       "    .dataframe thead th {\n",
       "        text-align: right;\n",
       "    }\n",
       "</style>\n",
       "<table border=\"1\" class=\"dataframe\">\n",
       "  <thead>\n",
       "    <tr style=\"text-align: right;\">\n",
       "      <th></th>\n",
       "      <th>거래금액(만원)</th>\n",
       "    </tr>\n",
       "    <tr>\n",
       "      <th>계약년월</th>\n",
       "      <th></th>\n",
       "    </tr>\n",
       "  </thead>\n",
       "  <tbody>\n",
       "    <tr>\n",
       "      <th>3</th>\n",
       "      <td>28717300</td>\n",
       "    </tr>\n",
       "    <tr>\n",
       "      <th>4</th>\n",
       "      <td>25596540</td>\n",
       "    </tr>\n",
       "    <tr>\n",
       "      <th>5</th>\n",
       "      <td>29699995</td>\n",
       "    </tr>\n",
       "    <tr>\n",
       "      <th>6</th>\n",
       "      <td>21265590</td>\n",
       "    </tr>\n",
       "    <tr>\n",
       "      <th>7</th>\n",
       "      <td>23049305</td>\n",
       "    </tr>\n",
       "    <tr>\n",
       "      <th>8</th>\n",
       "      <td>21314459</td>\n",
       "    </tr>\n",
       "  </tbody>\n",
       "</table>\n",
       "</div>"
      ],
      "text/plain": [
       "      거래금액(만원)\n",
       "계약년월          \n",
       "3     28717300\n",
       "4     25596540\n",
       "5     29699995\n",
       "6     21265590\n",
       "7     23049305\n",
       "8     21314459"
      ]
     },
     "execution_count": 274,
     "metadata": {},
     "output_type": "execute_result"
    }
   ],
   "source": [
    "test2=df.groupby('계약년월')[['거래금액(만원)']].sum()\n",
    "test2"
   ]
  },
  {
   "cell_type": "code",
   "execution_count": 275,
   "id": "a40ce4b8",
   "metadata": {},
   "outputs": [
    {
     "data": {
      "text/plain": [
       "(array([0, 1, 2, 3, 4, 5]),\n",
       " [Text(0, 0, '3'),\n",
       "  Text(1, 0, '4'),\n",
       "  Text(2, 0, '5'),\n",
       "  Text(3, 0, '6'),\n",
       "  Text(4, 0, '7'),\n",
       "  Text(5, 0, '8')])"
      ]
     },
     "execution_count": 275,
     "metadata": {},
     "output_type": "execute_result"
    },
    {
     "data": {
      "image/png": "[encoded data removed]",
      "text/plain": [
       "<Figure size 360x360 with 1 Axes>"
      ]
     },
     "metadata": {
      "needs_background": "light"
     },
     "output_type": "display_data"
    }
   ],
   "source": [
    "test2.plot( kind='bar')\n",
    "plt.rcParams['figure.figsize'] = (5, 5)\n",
    "plt.xticks(rotation=0)"
   ]
  },
  {
   "cell_type": "code",
   "execution_count": 229,
   "id": "f030bbc4",
   "metadata": {
    "scrolled": false
   },
   "outputs": [
    {
     "name": "stdout",
     "output_type": "stream",
     "text": [
      "<class 'pandas.core.frame.DataFrame'>\n",
      "RangeIndex: 4218 entries, 0 to 4217\n",
      "Data columns (total 7 columns):\n",
      " #   Column    Non-Null Count  Dtype  \n",
      "---  ------    --------------  -----  \n",
      " 0   지역        1 non-null      object \n",
      " 1   시군구       4218 non-null   object \n",
      " 2   단지명       4218 non-null   object \n",
      " 3   전용면적      4218 non-null   float64\n",
      " 4   계약년월      4218 non-null   int64  \n",
      " 5   거래금액(만원)  4218 non-null   int64  \n",
      " 6   평수        4218 non-null   object \n",
      "dtypes: float64(1), int64(2), object(4)\n",
      "memory usage: 230.8+ KB\n"
     ]
    }
   ],
   "source": [
    "df.info()"
   ]
  },
  {
   "cell_type": "code",
   "execution_count": 331,
   "id": "a7b0ab4e",
   "metadata": {},
   "outputs": [],
   "source": [
    "def m(전용면적):\n",
    "    if math.isnan(전용면적):\n",
    "        return '미상'\n",
    "    else:\n",
    "        firstage = str(int(전용면적))\n",
    "        if firstage < '70':\n",
    "            return '10평대'\n",
    "        if firstage > '70':\n",
    "            return '20평대'\n",
    " \n",
    "        \n",
    "    \n",
    "    "
   ]
  },
  {
   "cell_type": "code",
   "execution_count": 332,
   "id": "9de927f7",
   "metadata": {
    "scrolled": true
   },
   "outputs": [
    {
     "data": {
      "text/plain": [
       "'10평대'"
      ]
     },
     "execution_count": 332,
     "metadata": {},
     "output_type": "execute_result"
    }
   ],
   "source": [
    "m(69.7500)"
   ]
  },
  {
   "cell_type": "code",
   "execution_count": 333,
   "id": "899a4522",
   "metadata": {
    "scrolled": true
   },
   "outputs": [
    {
     "data": {
      "text/html": [
       "<div>\n",
       "<style scoped>\n",
       "    .dataframe tbody tr th:only-of-type {\n",
       "        vertical-align: middle;\n",
       "    }\n",
       "\n",
       "    .dataframe tbody tr th {\n",
       "        vertical-align: top;\n",
       "    }\n",
       "\n",
       "    .dataframe thead th {\n",
       "        text-align: right;\n",
       "    }\n",
       "</style>\n",
       "<table border=\"1\" class=\"dataframe\">\n",
       "  <thead>\n",
       "    <tr style=\"text-align: right;\">\n",
       "      <th></th>\n",
       "      <th>지역</th>\n",
       "      <th>시군구</th>\n",
       "      <th>단지명</th>\n",
       "      <th>전용면적</th>\n",
       "      <th>계약년월</th>\n",
       "      <th>거래금액(만원)</th>\n",
       "      <th>평수</th>\n",
       "    </tr>\n",
       "  </thead>\n",
       "  <tbody>\n",
       "    <tr>\n",
       "      <th>0</th>\n",
       "      <td>대구광역시</td>\n",
       "      <td>남구 대명동</td>\n",
       "      <td>경일맨션</td>\n",
       "      <td>69.75</td>\n",
       "      <td>3</td>\n",
       "      <td>12000</td>\n",
       "      <td>10평대</td>\n",
       "    </tr>\n",
       "    <tr>\n",
       "      <th>1</th>\n",
       "      <td>NaN</td>\n",
       "      <td>남구 대명동</td>\n",
       "      <td>교대역동서프라임36.5</td>\n",
       "      <td>76.24</td>\n",
       "      <td>3</td>\n",
       "      <td>48800</td>\n",
       "      <td>20평대</td>\n",
       "    </tr>\n",
       "    <tr>\n",
       "      <th>2</th>\n",
       "      <td>NaN</td>\n",
       "      <td>남구 대명동</td>\n",
       "      <td>대명(3007-34)</td>\n",
       "      <td>84.98</td>\n",
       "      <td>3</td>\n",
       "      <td>19000</td>\n",
       "      <td>20평대</td>\n",
       "    </tr>\n",
       "    <tr>\n",
       "      <th>3</th>\n",
       "      <td>NaN</td>\n",
       "      <td>남구 대명동</td>\n",
       "      <td>동아대덕</td>\n",
       "      <td>84.96</td>\n",
       "      <td>3</td>\n",
       "      <td>22500</td>\n",
       "      <td>20평대</td>\n",
       "    </tr>\n",
       "    <tr>\n",
       "      <th>4</th>\n",
       "      <td>NaN</td>\n",
       "      <td>남구 대명동</td>\n",
       "      <td>보성청록타운</td>\n",
       "      <td>84.99</td>\n",
       "      <td>3</td>\n",
       "      <td>29000</td>\n",
       "      <td>20평대</td>\n",
       "    </tr>\n",
       "  </tbody>\n",
       "</table>\n",
       "</div>"
      ],
      "text/plain": [
       "      지역     시군구           단지명   전용면적  계약년월  거래금액(만원)    평수\n",
       "0  대구광역시  남구 대명동          경일맨션  69.75     3     12000  10평대\n",
       "1    NaN  남구 대명동  교대역동서프라임36.5  76.24     3     48800  20평대\n",
       "2    NaN  남구 대명동   대명(3007-34)  84.98     3     19000  20평대\n",
       "3    NaN  남구 대명동          동아대덕  84.96     3     22500  20평대\n",
       "4    NaN  남구 대명동        보성청록타운  84.99     3     29000  20평대"
      ]
     },
     "execution_count": 333,
     "metadata": {},
     "output_type": "execute_result"
    }
   ],
   "source": [
    "df['평수']=df['전용면적'].apply(m)\n",
    "df.head()"
   ]
  },
  {
   "cell_type": "code",
   "execution_count": 334,
   "id": "e7f9f9a0",
   "metadata": {
    "scrolled": true
   },
   "outputs": [
    {
     "name": "stdout",
     "output_type": "stream",
     "text": [
      "20평대    3787\n",
      "10평대     357\n",
      "Name: 평수, dtype: int64\n"
     ]
    }
   ],
   "source": [
    "test3=df['평수'].value_counts()\n",
    "print(test3)"
   ]
  },
  {
   "cell_type": "code",
   "execution_count": 335,
   "id": "d3f26e52",
   "metadata": {},
   "outputs": [
    {
     "data": {
      "text/plain": [
       "(array([0, 1]), [Text(0, 0, '20평대'), Text(1, 0, '10평대')])"
      ]
     },
     "execution_count": 335,
     "metadata": {},
     "output_type": "execute_result"
    },
    {
     "data": {
      "image/png": "[encoded data removed]",
      "text/plain": [
       "<Figure size 360x360 with 1 Axes>"
      ]
     },
     "metadata": {
      "needs_background": "light"
     },
     "output_type": "display_data"
    }
   ],
   "source": [
    "test3.plot( kind='bar',label='거래량')\n",
    "plt.xlabel('평수')\n",
    "plt.rcParams['figure.figsize'] = (5, 5)\n",
    "plt.legend()\n",
    "plt.xticks(rotation=0)"
   ]
  },
  {
   "cell_type": "code",
   "execution_count": 324,
   "id": "9e5c3af8",
   "metadata": {
    "scrolled": false
   },
   "outputs": [
    {
     "data": {
      "text/plain": [
       "계약년월  평수  \n",
       "3     20평     749\n",
       "5     20평     728\n",
       "4     20평     641\n",
       "7     20평     598\n",
       "6     20평     568\n",
       "8     20평     503\n",
       "3     10평대     74\n",
       "8     10평대     72\n",
       "5     10평대     57\n",
       "4     10평대     56\n",
       "7     10평대     51\n",
       "6     10평대     47\n",
       "dtype: int64"
      ]
     },
     "execution_count": 324,
     "metadata": {},
     "output_type": "execute_result"
    }
   ],
   "source": [
    "test0=df[['계약년월','평수']].value_counts()\n",
    "test0"
   ]
  },
  {
   "cell_type": "code",
   "execution_count": 325,
   "id": "755e12bb",
   "metadata": {},
   "outputs": [
    {
     "data": {
      "text/plain": [
       "계약년월  평수  \n",
       "3     10평대     74\n",
       "      20평     749\n",
       "4     10평대     56\n",
       "      20평     641\n",
       "5     10평대     57\n",
       "      20평     728\n",
       "6     10평대     47\n",
       "      20평     568\n",
       "7     10평대     51\n",
       "      20평     598\n",
       "8     10평대     72\n",
       "      20평     503\n",
       "dtype: int64"
      ]
     },
     "execution_count": 325,
     "metadata": {},
     "output_type": "execute_result"
    }
   ],
   "source": [
    "test4=test0.sort_index(axis=0, ascending=True)\n",
    "test4"
   ]
  },
  {
   "cell_type": "code",
   "execution_count": 337,
   "id": "33a1fe8e",
   "metadata": {},
   "outputs": [
    {
     "data": {
      "text/plain": [
       "(array([ 0,  1,  2,  3,  4,  5,  6,  7,  8,  9, 10, 11]),\n",
       " [Text(0, 0, '(3, 10평대)'),\n",
       "  Text(1, 0, '(3, 20평)'),\n",
       "  Text(2, 0, '(4, 10평대)'),\n",
       "  Text(3, 0, '(4, 20평)'),\n",
       "  Text(4, 0, '(5, 10평대)'),\n",
       "  Text(5, 0, '(5, 20평)'),\n",
       "  Text(6, 0, '(6, 10평대)'),\n",
       "  Text(7, 0, '(6, 20평)'),\n",
       "  Text(8, 0, '(7, 10평대)'),\n",
       "  Text(9, 0, '(7, 20평)'),\n",
       "  Text(10, 0, '(8, 10평대)'),\n",
       "  Text(11, 0, '(8, 20평)')])"
      ]
     },
     "execution_count": 337,
     "metadata": {},
     "output_type": "execute_result"
    },
    {
     "data": {
      "image/png": "[encoded data removed]",
      "text/plain": [
       "<Figure size 1440x360 with 1 Axes>"
      ]
     },
     "metadata": {
      "needs_background": "light"
     },
     "output_type": "display_data"
    }
   ],
   "source": [
    "## 월단위 평수별 거래량\n",
    "test4.plot( kind='bar')\n",
    "plt.rcParams['figure.figsize'] = (20, 5)\n",
    "\n",
    "plt.xticks(rotation=0)"
   ]
  },
  {
   "cell_type": "code",
   "execution_count": 328,
   "id": "29b86493",
   "metadata": {},
   "outputs": [
    {
     "data": {
      "text/plain": [
       "(array([0, 1, 2, 3, 4, 5]),\n",
       " [Text(0, 0, '3'),\n",
       "  Text(1, 0, '4'),\n",
       "  Text(2, 0, '5'),\n",
       "  Text(3, 0, '6'),\n",
       "  Text(4, 0, '7'),\n",
       "  Text(5, 0, '8')])"
      ]
     },
     "execution_count": 328,
     "metadata": {},
     "output_type": "execute_result"
    },
    {
     "data": {
      "image/png": "[encoded data removed]",
      "text/plain": [
       "<Figure size 1440x360 with 1 Axes>"
      ]
     },
     "metadata": {
      "needs_background": "light"
     },
     "output_type": "display_data"
    }
   ],
   "source": [
    "#월단위 거래량\n",
    "test1.plot( kind='bar',label='거래량')\n",
    "plt.xlabel('계약년월')\n",
    "plt.rcParams['figure.figsize'] = (5, 5)\n",
    "plt.legend()\n",
    "plt.xticks(rotation=0)"
   ]
  },
  {
   "cell_type": "code",
   "execution_count": 329,
   "id": "b6e81d59",
   "metadata": {},
   "outputs": [
    {
     "data": {
      "text/plain": [
       "(array([0, 1, 2, 3, 4, 5]),\n",
       " [Text(0, 0, '3'),\n",
       "  Text(1, 0, '4'),\n",
       "  Text(2, 0, '5'),\n",
       "  Text(3, 0, '6'),\n",
       "  Text(4, 0, '7'),\n",
       "  Text(5, 0, '8')])"
      ]
     },
     "execution_count": 329,
     "metadata": {},
     "output_type": "execute_result"
    },
    {
     "data": {
      "image/png": "[encoded data removed]",
      "text/plain": [
       "<Figure size 360x360 with 1 Axes>"
      ]
     },
     "metadata": {
      "needs_background": "light"
     },
     "output_type": "display_data"
    }
   ],
   "source": [
    "# 월단위 거래금액 합\n",
    "test2.plot( kind='bar')\n",
    "plt.rcParams['figure.figsize'] = (5, 5)\n",
    "plt.xticks(rotation=0)"
   ]
  },
  {
   "cell_type": "code",
   "execution_count": 330,
   "id": "aee50606",
   "metadata": {},
   "outputs": [
    {
     "data": {
      "text/plain": [
       "(array([], dtype=float64), [])"
      ]
     },
     "execution_count": 330,
     "metadata": {},
     "output_type": "execute_result"
    },
    {
     "data": {
      "image/png": "[encoded data removed]",
      "text/plain": [
       "<Figure size 360x360 with 1 Axes>"
      ]
     },
     "metadata": {},
     "output_type": "display_data"
    }
   ],
   "source": [
    "#평수별 거래량\n",
    "test3.plot( kind='pie')\n",
    "plt.rcParams['figure.figsize'] = (5, 5)\n",
    "plt.legend()\n",
    "plt.xticks(rotation=0)"
   ]
  },
  {
   "cell_type": "code",
   "execution_count": null,
   "id": "98982db9",
   "metadata": {},
   "outputs": [],
   "source": []
  }
 ],
 "metadata": {
  "kernelspec": {
   "display_name": "Python 3 (ipykernel)",
   "language": "python",
   "name": "python3"
  },
  "language_info": {
   "codemirror_mode": {
    "name": "ipython",
    "version": 3
   },
   "file_extension": ".py",
   "mimetype": "text/x-python",
   "name": "python",
   "nbconvert_exporter": "python",
   "pygments_lexer": "ipython3",
   "version": "3.9.7"
  }
 },
 "nbformat": 4,
 "nbformat_minor": 5
}
