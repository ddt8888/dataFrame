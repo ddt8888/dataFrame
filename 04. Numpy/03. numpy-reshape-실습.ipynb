{
 "cells": [
  {
   "cell_type": "code",
   "execution_count": 13,
   "id": "2d9375a7",
   "metadata": {},
   "outputs": [],
   "source": [
    "import numpy as np"
   ]
  },
  {
   "cell_type": "markdown",
   "id": "9898f8e2",
   "metadata": {},
   "source": [
    "#### reshape\n",
    "- 차원과 크기를 변경\n",
    "- 변경되는 전체의 수가 변경전의 전체수가 동일해야 함\n",
    "- ndim : 차원수"
   ]
  },
  {
   "cell_type": "code",
   "execution_count": 14,
   "id": "e8aa836d",
   "metadata": {},
   "outputs": [
    {
     "name": "stdout",
     "output_type": "stream",
     "text": [
      "[ 0  1  2  3  4  5  6  7  8  9 10 11]\n",
      "(12,)\n",
      "1\n"
     ]
    }
   ],
   "source": [
    "arr = np.arange(12)\n",
    "print(arr)\n",
    "print(arr.shape)\n",
    "print(arr.ndim)"
   ]
  },
  {
   "cell_type": "code",
   "execution_count": 15,
   "id": "6cb488c2",
   "metadata": {},
   "outputs": [
    {
     "name": "stdout",
     "output_type": "stream",
     "text": [
      "[[ 0  1  2  3]\n",
      " [ 4  5  6  7]\n",
      " [ 8  9 10 11]]\n",
      "(3, 4)\n",
      "2\n"
     ]
    }
   ],
   "source": [
    "# reshape함수를 사용할때 가장 처음만든 배열의 크기와\n",
    "#reshape(n,m)에서 n * m 의 크기가 같아야 한다.\n",
    "arr2 = arr.reshape(3,4)\n",
    "print(arr2)\n",
    "print(arr2.shape)\n",
    "print(arr2.ndim)"
   ]
  },
  {
   "cell_type": "code",
   "execution_count": 16,
   "id": "2deb8470",
   "metadata": {},
   "outputs": [
    {
     "name": "stdout",
     "output_type": "stream",
     "text": [
      "[[ 0  1]\n",
      " [ 2  3]\n",
      " [ 4  5]\n",
      " [ 6  7]\n",
      " [ 8  9]\n",
      " [10 11]]\n",
      "(6, 2)\n",
      "2\n"
     ]
    }
   ],
   "source": [
    "arr3 = arr.reshape(6,2)\n",
    "print(arr3)\n",
    "print(arr3.shape)\n",
    "print(arr3.ndim)"
   ]
  },
  {
   "cell_type": "code",
   "execution_count": 17,
   "id": "d0cd59e4",
   "metadata": {},
   "outputs": [
    {
     "name": "stdout",
     "output_type": "stream",
     "text": [
      "[[[ 0  1]\n",
      "  [ 2  3]\n",
      "  [ 4  5]]\n",
      "\n",
      " [[ 6  7]\n",
      "  [ 8  9]\n",
      "  [10 11]]]\n",
      "(2, 3, 2)\n",
      "3\n"
     ]
    }
   ],
   "source": [
    "arr4 = arr.reshape(2,3,2)\n",
    "print(arr4)\n",
    "print(arr4.shape)\n",
    "print(arr4.ndim)"
   ]
  },
  {
   "cell_type": "code",
   "execution_count": 19,
   "id": "74b466b9",
   "metadata": {},
   "outputs": [
    {
     "name": "stdout",
     "output_type": "stream",
     "text": [
      "[ 0  1  2  3  4  5  6  7  8  9 10 11]\n",
      "(12,)\n",
      "1\n"
     ]
    }
   ],
   "source": [
    "# 3차원에서 1차원으로도 변경가능하다\n",
    "arr5 = arr4.reshape(12)\n",
    "print(arr5)\n",
    "print(arr5.shape)\n",
    "print(arr5.ndim)"
   ]
  },
  {
   "cell_type": "markdown",
   "id": "043c066c",
   "metadata": {},
   "source": [
    "-1을 사용할수 있다."
   ]
  },
  {
   "cell_type": "code",
   "execution_count": 21,
   "id": "f7337cd7",
   "metadata": {},
   "outputs": [
    {
     "data": {
      "text/plain": [
       "array([[ 0,  1,  2],\n",
       "       [ 3,  4,  5],\n",
       "       [ 6,  7,  8],\n",
       "       [ 9, 10, 11]])"
      ]
     },
     "execution_count": 21,
     "metadata": {},
     "output_type": "execute_result"
    }
   ],
   "source": [
    "arr.reshape(-1,3)"
   ]
  },
  {
   "cell_type": "code",
   "execution_count": 22,
   "id": "443dce47",
   "metadata": {},
   "outputs": [
    {
     "data": {
      "text/plain": [
       "array([[ 0,  1,  2,  3,  4,  5],\n",
       "       [ 6,  7,  8,  9, 10, 11]])"
      ]
     },
     "execution_count": 22,
     "metadata": {},
     "output_type": "execute_result"
    }
   ],
   "source": [
    "arr.reshape(-1,6)"
   ]
  },
  {
   "cell_type": "markdown",
   "id": "6e4cf9ad",
   "metadata": {},
   "source": [
    "#### 다차원 배열을 1차원으로\n",
    "- ravel\n",
    "- flatten\n",
    "- reshape\n",
    "- flatten은 값을 복사해서 새로운 배열을 생성하고 ravel, reshape는 값을 참조하여 생성"
   ]
  },
  {
   "cell_type": "code",
   "execution_count": 25,
   "id": "54197c4c",
   "metadata": {},
   "outputs": [
    {
     "name": "stdout",
     "output_type": "stream",
     "text": [
      "[[ 0  1  2  3]\n",
      " [ 4  5  6  7]\n",
      " [ 8  9 10 11]]\n"
     ]
    }
   ],
   "source": [
    "arr1 = np.arange(12).reshape(3,4)\n",
    "print(arr1)"
   ]
  },
  {
   "cell_type": "code",
   "execution_count": 26,
   "id": "c08db4c8",
   "metadata": {},
   "outputs": [
    {
     "name": "stdout",
     "output_type": "stream",
     "text": [
      "[ 0  1  2  3  4  5  6  7  8  9 10 11]\n"
     ]
    }
   ],
   "source": [
    "arr2 = arr1.ravel()\n",
    "print(arr2)"
   ]
  },
  {
   "cell_type": "code",
   "execution_count": 27,
   "id": "fcc02469",
   "metadata": {},
   "outputs": [
    {
     "name": "stdout",
     "output_type": "stream",
     "text": [
      "[ 0  1  2  3  4  5  6  7  8  9 10 11]\n"
     ]
    }
   ],
   "source": [
    "arr3 = arr1.reshape(-1)\n",
    "print(arr3)"
   ]
  },
  {
   "cell_type": "code",
   "execution_count": 28,
   "id": "ea92df11",
   "metadata": {},
   "outputs": [
    {
     "name": "stdout",
     "output_type": "stream",
     "text": [
      "[ 0  1  2  3  4  5  6  7  8  9 10 11]\n"
     ]
    }
   ],
   "source": [
    "arr4 = arr1.flatten()\n",
    "print(arr4)"
   ]
  },
  {
   "cell_type": "markdown",
   "id": "645fd60b",
   "metadata": {},
   "source": [
    "- 원본값 변경"
   ]
  },
  {
   "cell_type": "code",
   "execution_count": 30,
   "id": "e49fc715",
   "metadata": {},
   "outputs": [],
   "source": [
    "arr4[0] = 33"
   ]
  },
  {
   "cell_type": "code",
   "execution_count": 31,
   "id": "73a96819",
   "metadata": {},
   "outputs": [
    {
     "data": {
      "text/plain": [
       "array([33,  1,  2,  3,  4,  5,  6,  7,  8,  9, 10, 11])"
      ]
     },
     "execution_count": 31,
     "metadata": {},
     "output_type": "execute_result"
    }
   ],
   "source": [
    "arr4"
   ]
  },
  {
   "cell_type": "code",
   "execution_count": null,
   "id": "6d038b9c",
   "metadata": {},
   "outputs": [],
   "source": []
  }
 ],
 "metadata": {
  "kernelspec": {
   "display_name": "Python 3 (ipykernel)",
   "language": "python",
   "name": "python3"
  },
  "language_info": {
   "codemirror_mode": {
    "name": "ipython",
    "version": 3
   },
   "file_extension": ".py",
   "mimetype": "text/x-python",
   "name": "python",
   "nbconvert_exporter": "python",
   "pygments_lexer": "ipython3",
   "version": "3.9.6"
  }
 },
 "nbformat": 4,
 "nbformat_minor": 5
}
