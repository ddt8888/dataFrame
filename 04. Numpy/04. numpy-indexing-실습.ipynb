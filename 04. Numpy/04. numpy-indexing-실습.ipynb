{
 "cells": [
  {
   "cell_type": "code",
   "execution_count": 1,
   "id": "e91c167e",
   "metadata": {},
   "outputs": [],
   "source": [
    "import numpy as np"
   ]
  },
  {
   "cell_type": "markdown",
   "id": "f206239d",
   "metadata": {},
   "source": [
    "#### 인덱싱\n",
    "- 단일값 : 인덱스를 이용하여 하나의 데이터에 접근\n",
    "- 슬라이싱: 연속된 인덱스를 이용하여 여러 데이터에 접근\n",
    "- 팬시 인덱싱 : 리스트 형태의 인덱스를 이용하여 여러 데이터에 접근\n",
    "- 불린 인덱싱 : 불린값의 리스트 형태의 인덱스를 이용하여 여러 데이터에 접근\n",
    "    - 인덱스를 주면 차원이 감소하고 슬라이싱을 하면 차원이 유지됨"
   ]
  },
  {
   "cell_type": "markdown",
   "id": "c3320232",
   "metadata": {},
   "source": [
    "#### 단일값\n",
    "- 1차원"
   ]
  },
  {
   "cell_type": "code",
   "execution_count": 2,
   "id": "e0f789b1",
   "metadata": {},
   "outputs": [
    {
     "name": "stdout",
     "output_type": "stream",
     "text": [
      "[ 1  2  3  4  5  6  7  8  9 10]\n"
     ]
    }
   ],
   "source": [
    "arr = np.arange(1,11)\n",
    "print(arr)"
   ]
  },
  {
   "cell_type": "code",
   "execution_count": 3,
   "id": "e28697d2",
   "metadata": {},
   "outputs": [
    {
     "data": {
      "text/plain": [
       "1"
      ]
     },
     "execution_count": 3,
     "metadata": {},
     "output_type": "execute_result"
    }
   ],
   "source": [
    "arr[0]"
   ]
  },
  {
   "cell_type": "code",
   "execution_count": 4,
   "id": "c2392a31",
   "metadata": {},
   "outputs": [
    {
     "data": {
      "text/plain": [
       "1"
      ]
     },
     "execution_count": 4,
     "metadata": {},
     "output_type": "execute_result"
    }
   ],
   "source": [
    "arr.ndim"
   ]
  },
  {
   "cell_type": "markdown",
   "id": "06e0a759",
   "metadata": {},
   "source": [
    "- 2차원"
   ]
  },
  {
   "cell_type": "code",
   "execution_count": 21,
   "id": "43328e0f",
   "metadata": {},
   "outputs": [
    {
     "name": "stdout",
     "output_type": "stream",
     "text": [
      "[[ 1  2  3  4]\n",
      " [ 5  6  7  8]\n",
      " [ 9 10 11 12]]\n",
      "[5 6 7 8]\n"
     ]
    }
   ],
   "source": [
    "arr = np.arange(1,13).reshape(3,4)\n",
    "print(arr)\n",
    "print(arr[1])"
   ]
  },
  {
   "cell_type": "code",
   "execution_count": 22,
   "id": "d85293ad",
   "metadata": {},
   "outputs": [
    {
     "name": "stdout",
     "output_type": "stream",
     "text": [
      "(4,)\n",
      "1\n"
     ]
    }
   ],
   "source": [
    "print(arr[1].shape)\n",
    "print(arr[1].ndim)"
   ]
  },
  {
   "cell_type": "code",
   "execution_count": 23,
   "id": "18aca70d",
   "metadata": {},
   "outputs": [
    {
     "name": "stdout",
     "output_type": "stream",
     "text": [
      "7\n"
     ]
    }
   ],
   "source": [
    "print(arr[1,2])"
   ]
  },
  {
   "cell_type": "code",
   "execution_count": 24,
   "id": "80b9bad8",
   "metadata": {},
   "outputs": [
    {
     "name": "stdout",
     "output_type": "stream",
     "text": [
      "8\n"
     ]
    }
   ],
   "source": [
    "print(arr[1,-1])"
   ]
  },
  {
   "cell_type": "code",
   "execution_count": 25,
   "id": "65631f5e",
   "metadata": {},
   "outputs": [
    {
     "name": "stdout",
     "output_type": "stream",
     "text": [
      "[[[1 2]\n",
      "  [3 4]]\n",
      "\n",
      " [[5 6]\n",
      "  [7 8]]]\n",
      "(2, 2, 2)\n"
     ]
    }
   ],
   "source": [
    "arr = np.arange(1,9).reshape(2,2,2)\n",
    "print(arr)\n",
    "print(arr.shape)"
   ]
  },
  {
   "cell_type": "code",
   "execution_count": 27,
   "id": "89fc66b9",
   "metadata": {},
   "outputs": [
    {
     "name": "stdout",
     "output_type": "stream",
     "text": [
      "[[5 6]\n",
      " [7 8]]\n"
     ]
    }
   ],
   "source": [
    "print(arr[1])"
   ]
  },
  {
   "cell_type": "code",
   "execution_count": 28,
   "id": "803e669d",
   "metadata": {},
   "outputs": [
    {
     "name": "stdout",
     "output_type": "stream",
     "text": [
      "[7 8]\n"
     ]
    }
   ],
   "source": [
    "print(arr[1,1])"
   ]
  },
  {
   "cell_type": "code",
   "execution_count": 29,
   "id": "4c480f19",
   "metadata": {},
   "outputs": [
    {
     "name": "stdout",
     "output_type": "stream",
     "text": [
      "8\n"
     ]
    }
   ],
   "source": [
    "print(arr[1,1,1])"
   ]
  },
  {
   "cell_type": "markdown",
   "id": "205d823b",
   "metadata": {},
   "source": [
    "#### 슬라이싱\n",
    "- 1차원"
   ]
  },
  {
   "cell_type": "code",
   "execution_count": 30,
   "id": "488de884",
   "metadata": {},
   "outputs": [
    {
     "name": "stdout",
     "output_type": "stream",
     "text": [
      "[ 1  2  3  4  5  6  7  8  9 10]\n"
     ]
    }
   ],
   "source": [
    "arr = np.arange(1,11)\n",
    "print(arr)"
   ]
  },
  {
   "cell_type": "code",
   "execution_count": 31,
   "id": "52dd5f79",
   "metadata": {},
   "outputs": [
    {
     "name": "stdout",
     "output_type": "stream",
     "text": [
      "[2 3 4 5]\n"
     ]
    }
   ],
   "source": [
    "print(arr[1:5])"
   ]
  },
  {
   "cell_type": "code",
   "execution_count": 32,
   "id": "b4ad4bf9",
   "metadata": {},
   "outputs": [
    {
     "name": "stdout",
     "output_type": "stream",
     "text": [
      "[ 3  4  5  6  7  8  9 10]\n"
     ]
    }
   ],
   "source": [
    "print(arr[2:])"
   ]
  },
  {
   "cell_type": "code",
   "execution_count": 33,
   "id": "63b74e37",
   "metadata": {},
   "outputs": [
    {
     "name": "stdout",
     "output_type": "stream",
     "text": [
      "[1 2 3 4 5 6 7 8]\n"
     ]
    }
   ],
   "source": [
    "print(arr[:8])"
   ]
  },
  {
   "cell_type": "code",
   "execution_count": 37,
   "id": "6fdbd3ac",
   "metadata": {},
   "outputs": [
    {
     "name": "stdout",
     "output_type": "stream",
     "text": [
      "[1 2 3 4 5 6 7 8]\n"
     ]
    }
   ],
   "source": [
    "print(arr[:-2])"
   ]
  },
  {
   "cell_type": "code",
   "execution_count": 38,
   "id": "6ddfea4b",
   "metadata": {},
   "outputs": [
    {
     "name": "stdout",
     "output_type": "stream",
     "text": [
      "1\n"
     ]
    }
   ],
   "source": [
    "print(arr[1:5].ndim)"
   ]
  },
  {
   "cell_type": "markdown",
   "id": "fd81ede8",
   "metadata": {},
   "source": [
    "- 2차원"
   ]
  },
  {
   "cell_type": "code",
   "execution_count": 51,
   "id": "d4a23f59",
   "metadata": {},
   "outputs": [
    {
     "name": "stdout",
     "output_type": "stream",
     "text": [
      "[[ 0  1  2  3]\n",
      " [ 4  5  6  7]\n",
      " [ 8  9 10 11]\n",
      " [12 13 14 15]]\n"
     ]
    }
   ],
   "source": [
    "arr = np.arange(16).reshape(4,-1)\n",
    "print(arr)"
   ]
  },
  {
   "cell_type": "code",
   "execution_count": 52,
   "id": "939398bd",
   "metadata": {},
   "outputs": [
    {
     "name": "stdout",
     "output_type": "stream",
     "text": [
      "[[1]\n",
      " [5]]\n",
      "(2, 1)\n",
      "2\n"
     ]
    }
   ],
   "source": [
    "print(arr[0:2, 1:2])\n",
    "print(arr[0:2, 1:2].shape)\n",
    "print(arr[0:2, 1:2].ndim)"
   ]
  },
  {
   "cell_type": "markdown",
   "id": "fcfc5554",
   "metadata": {},
   "source": [
    "4,5 / 7,8 가져오기"
   ]
  },
  {
   "cell_type": "code",
   "execution_count": 53,
   "id": "47a35869",
   "metadata": {},
   "outputs": [
    {
     "data": {
      "text/plain": [
       "array([[ 4,  5,  6,  7],\n",
       "       [ 8,  9, 10, 11]])"
      ]
     },
     "execution_count": 53,
     "metadata": {},
     "output_type": "execute_result"
    }
   ],
   "source": [
    "arr[1:3]"
   ]
  },
  {
   "cell_type": "code",
   "execution_count": 58,
   "id": "46792892",
   "metadata": {},
   "outputs": [
    {
     "name": "stdout",
     "output_type": "stream",
     "text": [
      "[[ 5  6]\n",
      " [ 9 10]]\n",
      "(2, 2)\n",
      "2\n"
     ]
    }
   ],
   "source": [
    "print(arr[1:3, 1:3])\n",
    "print(arr[1:3, 1:3].shape)\n",
    "print(arr[1:3, 1:3].ndim)"
   ]
  },
  {
   "cell_type": "code",
   "execution_count": 59,
   "id": "90c16993",
   "metadata": {},
   "outputs": [
    {
     "name": "stdout",
     "output_type": "stream",
     "text": [
      "[ 9 10]\n"
     ]
    }
   ],
   "source": [
    "print(arr[2, 1:3])"
   ]
  },
  {
   "cell_type": "code",
   "execution_count": 61,
   "id": "0e95560f",
   "metadata": {},
   "outputs": [
    {
     "data": {
      "text/plain": [
       "array([[10, 11],\n",
       "       [14, 15]])"
      ]
     },
     "execution_count": 61,
     "metadata": {},
     "output_type": "execute_result"
    }
   ],
   "source": [
    "arr[2:4, 2:4]"
   ]
  },
  {
   "cell_type": "markdown",
   "id": "5a10d0cb",
   "metadata": {},
   "source": [
    "10, 11, 14, 15 / 9, 10, 11 / 5, 9 / 4, 5, 6, 7"
   ]
  },
  {
   "cell_type": "markdown",
   "id": "8d48ed74",
   "metadata": {},
   "source": [
    "- 3차원"
   ]
  },
  {
   "cell_type": "code",
   "execution_count": 63,
   "id": "ee48d19a",
   "metadata": {},
   "outputs": [
    {
     "name": "stdout",
     "output_type": "stream",
     "text": [
      "[[[ 0  1  2]\n",
      "  [ 3  4  5]\n",
      "  [ 6  7  8]]\n",
      "\n",
      " [[ 9 10 11]\n",
      "  [12 13 14]\n",
      "  [15 16 17]]\n",
      "\n",
      " [[18 19 20]\n",
      "  [21 22 23]\n",
      "  [24 25 26]]]\n"
     ]
    }
   ],
   "source": [
    "arr = np.arange(27).reshape(3, 3, 3)\n",
    "print(arr)"
   ]
  },
  {
   "cell_type": "code",
   "execution_count": 64,
   "id": "b96d8321",
   "metadata": {},
   "outputs": [
    {
     "name": "stdout",
     "output_type": "stream",
     "text": [
      "[[[ 0  1]\n",
      "  [ 3  4]]\n",
      "\n",
      " [[ 9 10]\n",
      "  [12 13]]]\n"
     ]
    }
   ],
   "source": [
    "print(arr[0:2, 0:2, 0:2])"
   ]
  },
  {
   "cell_type": "code",
   "execution_count": 65,
   "id": "d071bf95",
   "metadata": {},
   "outputs": [
    {
     "name": "stdout",
     "output_type": "stream",
     "text": [
      "[[18 19]\n",
      " [21 22]]\n"
     ]
    }
   ],
   "source": [
    "print(arr[2, 0:2, 0:2])"
   ]
  },
  {
   "cell_type": "code",
   "execution_count": 68,
   "id": "c1934b47",
   "metadata": {},
   "outputs": [
    {
     "name": "stdout",
     "output_type": "stream",
     "text": [
      "[[[ 0  1  2]\n",
      "  [ 3  4  5]\n",
      "  [ 6  7  8]]\n",
      "\n",
      " [[ 9 10 11]\n",
      "  [12 13 14]\n",
      "  [15 16 17]]\n",
      "\n",
      " [[18 19 20]\n",
      "  [21 22 23]\n",
      "  [24 25 26]]]\n"
     ]
    }
   ],
   "source": [
    "print(arr[:, :, :])"
   ]
  },
  {
   "cell_type": "markdown",
   "id": "0c652894",
   "metadata": {},
   "source": [
    "#### 팬시인덱싱\n",
    "- 1차원"
   ]
  },
  {
   "cell_type": "code",
   "execution_count": 69,
   "id": "10e56a45",
   "metadata": {},
   "outputs": [
    {
     "name": "stdout",
     "output_type": "stream",
     "text": [
      "[ 1  2  3  4  5  6  7  8  9 10]\n"
     ]
    }
   ],
   "source": [
    "arr = np.arange(1,11)\n",
    "print(arr)"
   ]
  },
  {
   "cell_type": "code",
   "execution_count": 75,
   "id": "7e0fdf3d",
   "metadata": {},
   "outputs": [
    {
     "data": {
      "text/plain": [
       "9"
      ]
     },
     "execution_count": 75,
     "metadata": {},
     "output_type": "execute_result"
    }
   ],
   "source": [
    "arr[8]"
   ]
  },
  {
   "cell_type": "code",
   "execution_count": 78,
   "id": "61da1e32",
   "metadata": {},
   "outputs": [
    {
     "name": "stdout",
     "output_type": "stream",
     "text": [
      "[2 3 4 5]\n"
     ]
    }
   ],
   "source": [
    "print(arr[1:5])"
   ]
  },
  {
   "cell_type": "code",
   "execution_count": 79,
   "id": "88b4a924",
   "metadata": {},
   "outputs": [
    {
     "name": "stdout",
     "output_type": "stream",
     "text": [
      "[[1 2 3]\n",
      " [4 5 6]\n",
      " [7 8 9]]\n"
     ]
    }
   ],
   "source": [
    "arr = np.arange(1, 10).reshape(3,-1)\n",
    "print(arr)"
   ]
  },
  {
   "cell_type": "code",
   "execution_count": 85,
   "id": "7037af66",
   "metadata": {},
   "outputs": [
    {
     "name": "stdout",
     "output_type": "stream",
     "text": [
      "[3 9]\n"
     ]
    }
   ],
   "source": [
    "print(arr[[0,2], 2])"
   ]
  },
  {
   "cell_type": "markdown",
   "id": "9f02ac2a",
   "metadata": {},
   "source": [
    "#### 불린인덱싱"
   ]
  },
  {
   "cell_type": "code",
   "execution_count": 86,
   "id": "ba9b595b",
   "metadata": {},
   "outputs": [
    {
     "name": "stdout",
     "output_type": "stream",
     "text": [
      "[ 1  2  3  4  5  6  7  8  9 10]\n"
     ]
    }
   ],
   "source": [
    "arr = np.arange(1,11)\n",
    "print(arr)"
   ]
  },
  {
   "cell_type": "code",
   "execution_count": 88,
   "id": "15bd50e2",
   "metadata": {},
   "outputs": [
    {
     "name": "stdout",
     "output_type": "stream",
     "text": [
      "[False False False  True  True  True  True  True  True  True]\n"
     ]
    }
   ],
   "source": [
    "mask = arr > 3\n",
    "print(mask)"
   ]
  },
  {
   "cell_type": "code",
   "execution_count": 91,
   "id": "3bca7e88",
   "metadata": {},
   "outputs": [
    {
     "data": {
      "text/plain": [
       "array([ 4,  5,  6,  7,  8,  9, 10])"
      ]
     },
     "execution_count": 91,
     "metadata": {},
     "output_type": "execute_result"
    }
   ],
   "source": [
    "arr[mask]"
   ]
  },
  {
   "cell_type": "code",
   "execution_count": 94,
   "id": "f53170a3",
   "metadata": {},
   "outputs": [
    {
     "data": {
      "text/plain": [
       "array([ 2,  5,  6,  7,  8,  9, 10])"
      ]
     },
     "execution_count": 94,
     "metadata": {},
     "output_type": "execute_result"
    }
   ],
   "source": [
    "arr[[False, True, False, False,  True,  True,  True,  True,  True,  True]]"
   ]
  },
  {
   "cell_type": "code",
   "execution_count": 95,
   "id": "ead39d3c",
   "metadata": {},
   "outputs": [
    {
     "data": {
      "text/plain": [
       "array([ 4,  5,  6,  7,  8,  9, 10])"
      ]
     },
     "execution_count": 95,
     "metadata": {},
     "output_type": "execute_result"
    }
   ],
   "source": [
    "arr[arr>3]"
   ]
  },
  {
   "cell_type": "markdown",
   "id": "b7ffb9d1",
   "metadata": {},
   "source": [
    "#### 여러조건\n",
    "- and : &\n",
    "- or : |"
   ]
  },
  {
   "cell_type": "code",
   "execution_count": 98,
   "id": "0fa228ad",
   "metadata": {},
   "outputs": [
    {
     "name": "stdout",
     "output_type": "stream",
     "text": [
      "[False False False  True  True  True False False False False]\n"
     ]
    }
   ],
   "source": [
    "mask2 = (arr > 3) & (arr < 7)\n",
    "print(mask2)"
   ]
  },
  {
   "cell_type": "code",
   "execution_count": 100,
   "id": "e90bcb1f",
   "metadata": {},
   "outputs": [
    {
     "data": {
      "text/plain": [
       "array([4, 5, 6])"
      ]
     },
     "execution_count": 100,
     "metadata": {},
     "output_type": "execute_result"
    }
   ],
   "source": [
    "arr[(arr > 3) & (arr < 7)]"
   ]
  },
  {
   "cell_type": "code",
   "execution_count": null,
   "id": "2085bbb7",
   "metadata": {},
   "outputs": [],
   "source": []
  }
 ],
 "metadata": {
  "kernelspec": {
   "display_name": "Python 3 (ipykernel)",
   "language": "python",
   "name": "python3"
  },
  "language_info": {
   "codemirror_mode": {
    "name": "ipython",
    "version": 3
   },
   "file_extension": ".py",
   "mimetype": "text/x-python",
   "name": "python",
   "nbconvert_exporter": "python",
   "pygments_lexer": "ipython3",
   "version": "3.9.6"
  }
 },
 "nbformat": 4,
 "nbformat_minor": 5
}
