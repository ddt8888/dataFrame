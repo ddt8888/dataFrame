{
 "cells": [
  {
   "cell_type": "code",
   "execution_count": 1,
   "id": "01f0e439",
   "metadata": {},
   "outputs": [],
   "source": [
    "import numpy as np"
   ]
  },
  {
   "cell_type": "code",
   "execution_count": 19,
   "id": "e701e173",
   "metadata": {},
   "outputs": [
    {
     "name": "stdout",
     "output_type": "stream",
     "text": [
      "0.30066853980567754\n",
      "9\n",
      "2\n"
     ]
    }
   ],
   "source": [
    "#python 자체 내장함수 random패키지 import\n",
    "import random\n",
    "\n",
    "# 0과 1 미만 사이의 랜덤값\n",
    "print(random.random())\n",
    "\n",
    "#범위(1이상 10미만 중에 2간격으로 random 값 - 정수값 return)\n",
    "print(random.randrange(1,10,2))\n",
    "\n",
    "#범위(1이상 10이하 - 정수값 return)\n",
    "print(random.randint(1,10))"
   ]
  },
  {
   "cell_type": "markdown",
   "id": "a1355bbf",
   "metadata": {},
   "source": [
    "#### rand : 0과 1사이의 랜덤값(균등분포)"
   ]
  },
  {
   "cell_type": "code",
   "execution_count": 26,
   "id": "b54abf61",
   "metadata": {},
   "outputs": [
    {
     "name": "stdout",
     "output_type": "stream",
     "text": [
      "[[[0.61811893 0.89650941 0.38917426 0.18641303]\n",
      "  [0.88052209 0.673536   0.39418722 0.13593431]\n",
      "  [0.41515931 0.11376239 0.21003293 0.31922056]]\n",
      "\n",
      " [[0.97058373 0.18331641 0.81657702 0.33073192]\n",
      "  [0.10054519 0.73091517 0.7570996  0.18307443]\n",
      "  [0.49672042 0.37095991 0.21641698 0.37324661]]]\n"
     ]
    }
   ],
   "source": [
    "arr = np.random.rand(2,3,4)\n",
    "print(arr)"
   ]
  },
  {
   "cell_type": "markdown",
   "id": "9d93e4a5",
   "metadata": {},
   "source": [
    "#### randn : 정규분포, 가우시안 분포 난수값"
   ]
  },
  {
   "cell_type": "code",
   "execution_count": 32,
   "id": "74ccd8b7",
   "metadata": {},
   "outputs": [
    {
     "name": "stdout",
     "output_type": "stream",
     "text": [
      "[[[ 1.29134689  0.71872367  1.18492304 -0.9281431 ]\n",
      "  [ 0.0395439  -0.13696967 -0.43912481  0.86008782]\n",
      "  [ 0.12607289 -1.4299205  -0.01776823 -0.22231777]]\n",
      "\n",
      " [[-1.28641965 -0.5999137  -0.59351533 -0.31839544]\n",
      "  [ 0.41834518 -0.6957467  -0.27768063 -1.45363317]\n",
      "  [-0.29389454 -1.48377609 -1.36924133 -0.49288208]]]\n"
     ]
    }
   ],
   "source": [
    "arr = np.random.randn(2,3,4)\n",
    "print(arr)"
   ]
  },
  {
   "cell_type": "markdown",
   "id": "e5c69bcb",
   "metadata": {},
   "source": [
    "#### randint : 정수 난수값\n",
    "\n",
    "- numpy.random.randint(low, high=None, size = None, dtype=\"I\")\n",
    "- low : 범위의 가장 낮은 값, 파라미터가 1개일 경우 0~low까지\n",
    "- high : 가장 높은 정수(선택사항)\n",
    "- size : 반환 개수, array의 shape형태 가능 => size(3,5)\n",
    "- dtype : int"
   ]
  },
  {
   "cell_type": "code",
   "execution_count": 42,
   "id": "daa2f454",
   "metadata": {},
   "outputs": [
    {
     "name": "stdout",
     "output_type": "stream",
     "text": [
      "[2 0 2 1 2 1]\n"
     ]
    }
   ],
   "source": [
    "arr = np.random.randint(3, size=6)\n",
    "print(arr)"
   ]
  },
  {
   "cell_type": "code",
   "execution_count": 46,
   "id": "70e214eb",
   "metadata": {},
   "outputs": [
    {
     "name": "stdout",
     "output_type": "stream",
     "text": [
      "[[6 4 3 8 5]\n",
      " [5 9 5 9 3]\n",
      " [4 9 7 3 4]]\n"
     ]
    }
   ],
   "source": [
    "arr = np.random.randint(3,10,size=(3,5))\n",
    "print(arr)"
   ]
  },
  {
   "cell_type": "markdown",
   "id": "8d2a9e0d",
   "metadata": {},
   "source": [
    "- seed :  여러번 실행하여도 동일한 난수값"
   ]
  },
  {
   "cell_type": "code",
   "execution_count": 54,
   "id": "2cae90df",
   "metadata": {},
   "outputs": [
    {
     "name": "stdout",
     "output_type": "stream",
     "text": [
      "[[-1.88973671 -0.41359218 -0.76602601]\n",
      " [-0.92412667 -1.42159783  0.80525599]]\n"
     ]
    }
   ],
   "source": [
    "# 처음 출력된 난수값이 코드를 다시 실행시켜도 변하지 않는다\n",
    "np.random.seed(35)\n",
    "arr = np.random.randn(2,3)\n",
    "print(arr)"
   ]
  },
  {
   "cell_type": "code",
   "execution_count": 56,
   "id": "66bed27d",
   "metadata": {},
   "outputs": [],
   "source": [
    "# 처음 출력된 난수값이 코드를 다시 실행시켜도 변하지 않는다\n",
    "# 셀이 분리되면 seed가 적용되지않아 다음 셀에서 코드를 실행시킬때 난수값이 변한다.\n",
    "np.random.seed(35)"
   ]
  },
  {
   "cell_type": "code",
   "execution_count": 59,
   "id": "9c146f5a",
   "metadata": {},
   "outputs": [
    {
     "name": "stdout",
     "output_type": "stream",
     "text": [
      "[[-0.67615116 -0.16622659  0.46743519]\n",
      " [ 0.33371911 -0.84965782  0.06868276]]\n"
     ]
    }
   ],
   "source": [
    "arr = np.random.randn(2,3)\n",
    "print(arr)"
   ]
  },
  {
   "cell_type": "code",
   "execution_count": null,
   "id": "f60dce36",
   "metadata": {},
   "outputs": [],
   "source": []
  }
 ],
 "metadata": {
  "kernelspec": {
   "display_name": "Python 3 (ipykernel)",
   "language": "python",
   "name": "python3"
  },
  "language_info": {
   "codemirror_mode": {
    "name": "ipython",
    "version": 3
   },
   "file_extension": ".py",
   "mimetype": "text/x-python",
   "name": "python",
   "nbconvert_exporter": "python",
   "pygments_lexer": "ipython3",
   "version": "3.9.6"
  }
 },
 "nbformat": 4,
 "nbformat_minor": 5
}
