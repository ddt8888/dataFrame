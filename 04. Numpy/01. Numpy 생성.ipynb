{
 "cells": [
  {
   "cell_type": "markdown",
   "id": "acafaa61",
   "metadata": {},
   "source": [
    "### Numpy 설치\n",
    "- pip install numpy"
   ]
  },
  {
   "cell_type": "code",
   "execution_count": 3,
   "id": "fcdb01ac",
   "metadata": {},
   "outputs": [],
   "source": [
    "# as np 는 별명(관례적으로 np로 자주 씀)\n",
    "import numpy as np"
   ]
  },
  {
   "cell_type": "code",
   "execution_count": 4,
   "id": "d338d971",
   "metadata": {},
   "outputs": [
    {
     "data": {
      "text/plain": [
       "array([1, 2, 3])"
      ]
     },
     "execution_count": 4,
     "metadata": {},
     "output_type": "execute_result"
    }
   ],
   "source": [
    "# numpy-array(1차원배열)만드는 형태\n",
    "np.array([1,2,3])\n",
    "arr # 객체 자체를 출력"
   ]
  },
  {
   "cell_type": "code",
   "execution_count": 5,
   "id": "cd55cdd0",
   "metadata": {
    "scrolled": true
   },
   "outputs": [
    {
     "name": "stdout",
     "output_type": "stream",
     "text": [
      "[1 2 3]\n"
     ]
    }
   ],
   "source": [
    "arr = np.array([1,2,3])\n",
    "print(arr) # 객체 내부의 값을 출력"
   ]
  },
  {
   "cell_type": "code",
   "execution_count": 14,
   "id": "75e613e4",
   "metadata": {},
   "outputs": [
    {
     "data": {
      "text/plain": [
       "(3,)"
      ]
     },
     "execution_count": 14,
     "metadata": {},
     "output_type": "execute_result"
    }
   ],
   "source": [
    "arr.shape"
   ]
  },
  {
   "cell_type": "code",
   "execution_count": 6,
   "id": "9d69e5e5",
   "metadata": {},
   "outputs": [
    {
     "data": {
      "text/plain": [
       "numpy.ndarray"
      ]
     },
     "execution_count": 6,
     "metadata": {},
     "output_type": "execute_result"
    }
   ],
   "source": [
    "type(arr)"
   ]
  },
  {
   "cell_type": "code",
   "execution_count": 11,
   "id": "3a49f711",
   "metadata": {},
   "outputs": [],
   "source": [
    "# numpy-array(2차원배열)만드는 형태\n",
    "arr2 = np.array([[1,2,3],[4,5,6]])"
   ]
  },
  {
   "cell_type": "code",
   "execution_count": 12,
   "id": "200b867a",
   "metadata": {},
   "outputs": [
    {
     "name": "stdout",
     "output_type": "stream",
     "text": [
      "[[1 2 3]\n",
      " [4 5 6]]\n"
     ]
    }
   ],
   "source": [
    "print(arr2)"
   ]
  },
  {
   "cell_type": "code",
   "execution_count": 13,
   "id": "8ac708a9",
   "metadata": {},
   "outputs": [
    {
     "data": {
      "text/plain": [
       "(2, 3)"
      ]
     },
     "execution_count": 13,
     "metadata": {},
     "output_type": "execute_result"
    }
   ],
   "source": [
    "arr2.shape #shape는 배열의 행과 열을 나타내 준다"
   ]
  },
  {
   "cell_type": "code",
   "execution_count": 19,
   "id": "323f9492",
   "metadata": {},
   "outputs": [],
   "source": [
    "arr = np.array([[[1,2,3,4],[3,4,5,6],[5,6,7,8]],\n",
    "          [[7,8,9,10],[9,10,11,12],[11,12,13,14]]])"
   ]
  },
  {
   "cell_type": "code",
   "execution_count": 20,
   "id": "22a92a75",
   "metadata": {},
   "outputs": [
    {
     "data": {
      "text/plain": [
       "numpy.ndarray"
      ]
     },
     "execution_count": 20,
     "metadata": {},
     "output_type": "execute_result"
    }
   ],
   "source": [
    "type(arr)"
   ]
  },
  {
   "cell_type": "code",
   "execution_count": 21,
   "id": "330f3e32",
   "metadata": {},
   "outputs": [
    {
     "data": {
      "text/plain": [
       "(2, 3, 4)"
      ]
     },
     "execution_count": 21,
     "metadata": {},
     "output_type": "execute_result"
    }
   ],
   "source": [
    "arr.shape"
   ]
  },
  {
   "cell_type": "markdown",
   "id": "96b4b498",
   "metadata": {},
   "source": [
    "arr.shape가 (2,3,3)인 배열 만들기"
   ]
  },
  {
   "cell_type": "code",
   "execution_count": 25,
   "id": "04fdb337",
   "metadata": {},
   "outputs": [],
   "source": [
    "arr = np.array([[[1,2,3],[2,3,4],[3,4,5]],\n",
    "               [[5,6,7],[7,8,9],[8,9,10]]])"
   ]
  },
  {
   "cell_type": "code",
   "execution_count": 26,
   "id": "f5a2669c",
   "metadata": {},
   "outputs": [
    {
     "data": {
      "text/plain": [
       "numpy.ndarray"
      ]
     },
     "execution_count": 26,
     "metadata": {},
     "output_type": "execute_result"
    }
   ],
   "source": [
    "type(arr)"
   ]
  },
  {
   "cell_type": "code",
   "execution_count": 27,
   "id": "85a48838",
   "metadata": {},
   "outputs": [
    {
     "data": {
      "text/plain": [
       "(2, 3, 3)"
      ]
     },
     "execution_count": 27,
     "metadata": {},
     "output_type": "execute_result"
    }
   ],
   "source": [
    "arr.shape"
   ]
  },
  {
   "cell_type": "code",
   "execution_count": null,
   "id": "3adbe71c",
   "metadata": {},
   "outputs": [],
   "source": [
    "arr3 = np.array([[[1,2,3],[4,5,6],[7,8,9]],\n",
    "                [[1,2,3],[4,5,6],[7,8,9]],\n",
    "                [[1,2,3],[4,5,6],[7,8,9]]])"
   ]
  },
  {
   "cell_type": "code",
   "execution_count": null,
   "id": "6661ad4b",
   "metadata": {},
   "outputs": [],
   "source": [
    "print(arr3)"
   ]
  },
  {
   "cell_type": "markdown",
   "id": "3c54063d",
   "metadata": {},
   "source": [
    "#### ndarray 데이터 타입\n",
    "- https://velog.io/@fiifa92/ndarray%EC%9D%98-%EC%B0%A8%EC%9B%90%EA%B3%BC-%EB%8D%B0%EC%9D%B4%ED%84%B0-%ED%83%80%EC%9E%85\n",
    "- 숫자, 문자, boolean\n",
    "- 하나의 데이터 차입만 가짐"
   ]
  },
  {
   "cell_type": "code",
   "execution_count": 38,
   "id": "149f158e",
   "metadata": {},
   "outputs": [
    {
     "data": {
      "text/plain": [
       "dtype('int32')"
      ]
     },
     "execution_count": 38,
     "metadata": {},
     "output_type": "execute_result"
    }
   ],
   "source": [
    "arr = np.array([1,2,3])\n",
    "arr.dtype #dtype은 배열 안의 값의 데이터타입을 출력\n",
    "# dtype 출력할때 배열의 마지막 값에 대한 데이터타입 출력"
   ]
  },
  {
   "cell_type": "code",
   "execution_count": 39,
   "id": "bf2c1da9",
   "metadata": {},
   "outputs": [
    {
     "data": {
      "text/plain": [
       "dtype('float64')"
      ]
     },
     "execution_count": 39,
     "metadata": {},
     "output_type": "execute_result"
    }
   ],
   "source": [
    "arr = np.array([1.0,2.0,3.0])\n",
    "arr.dtype #dtype은 배열 안의 값의 데이터타입을 출력"
   ]
  },
  {
   "cell_type": "code",
   "execution_count": 40,
   "id": "e1cb09b7",
   "metadata": {},
   "outputs": [
    {
     "data": {
      "text/plain": [
       "dtype('<U3')"
      ]
     },
     "execution_count": 40,
     "metadata": {},
     "output_type": "execute_result"
    }
   ],
   "source": [
    "arr = np.array(['1.0','2.0','3.0'])\n",
    "arr.dtype #dtype은 배열 안의 값의 데이터타입을 출력"
   ]
  },
  {
   "cell_type": "code",
   "execution_count": 42,
   "id": "a6ecaab8",
   "metadata": {},
   "outputs": [
    {
     "data": {
      "text/plain": [
       "dtype('<U32')"
      ]
     },
     "execution_count": 42,
     "metadata": {},
     "output_type": "execute_result"
    }
   ],
   "source": [
    "arr = np.array([1,2.0,'3'])\n",
    "arr.dtype #dtype은 배열 안의 값의 데이터타입을 출력\n",
    "# dtype 출력할때 배열의 마지막 값에 대한 데이터타입 출력"
   ]
  },
  {
   "cell_type": "markdown",
   "id": "fe9ea7b1",
   "metadata": {},
   "source": [
    "- astype => 데이터 타입 변경"
   ]
  },
  {
   "cell_type": "code",
   "execution_count": 43,
   "id": "b4a81b27",
   "metadata": {},
   "outputs": [
    {
     "name": "stdout",
     "output_type": "stream",
     "text": [
      "int32\n",
      "[1. 2. 3.]\n",
      "float64\n"
     ]
    }
   ],
   "source": [
    "arr = np.array([1,2,3])\n",
    "print(arr.dtype)\n",
    "\n",
    "arr2 = arr.astype('float64')\n",
    "print(arr2)\n",
    "print(arr2.dtype)"
   ]
  },
  {
   "cell_type": "code",
   "execution_count": 44,
   "id": "e06b3983",
   "metadata": {},
   "outputs": [
    {
     "name": "stdout",
     "output_type": "stream",
     "text": [
      "<U1\n",
      "[1 2 3]\n",
      "int32\n"
     ]
    }
   ],
   "source": [
    "arr = np.array(['1','2','3'])\n",
    "print(arr.dtype)\n",
    "\n",
    "arr2 = arr.astype('int32')\n",
    "print(arr2)\n",
    "print(arr2.dtype)"
   ]
  },
  {
   "cell_type": "markdown",
   "id": "2b706d74",
   "metadata": {},
   "source": [
    "#### 여러가지 생성 방법"
   ]
  },
  {
   "cell_type": "markdown",
   "id": "2b342c69",
   "metadata": {},
   "source": [
    "- arange"
   ]
  },
  {
   "cell_type": "code",
   "execution_count": 46,
   "id": "1ff2bf3a",
   "metadata": {},
   "outputs": [
    {
     "name": "stdout",
     "output_type": "stream",
     "text": [
      "1\n",
      "2\n",
      "3\n",
      "4\n",
      "5\n",
      "6\n",
      "7\n",
      "8\n",
      "9\n"
     ]
    }
   ],
   "source": [
    "#range 문\n",
    "for i in range(1,10):\n",
    "    print(i)"
   ]
  },
  {
   "cell_type": "code",
   "execution_count": 47,
   "id": "6bf2df2a",
   "metadata": {},
   "outputs": [
    {
     "data": {
      "text/plain": [
       "array([1, 2, 3, 4, 5, 6, 7, 8, 9])"
      ]
     },
     "execution_count": 47,
     "metadata": {},
     "output_type": "execute_result"
    }
   ],
   "source": [
    "# arange(n,m) = n부터 (m-1)까지의 배열을 만들어라\n",
    "np.arange(1,10)"
   ]
  },
  {
   "cell_type": "code",
   "execution_count": 48,
   "id": "11232edc",
   "metadata": {},
   "outputs": [
    {
     "data": {
      "text/plain": [
       "numpy.ndarray"
      ]
     },
     "execution_count": 48,
     "metadata": {},
     "output_type": "execute_result"
    }
   ],
   "source": [
    "type(np.arange(1,10))"
   ]
  },
  {
   "cell_type": "code",
   "execution_count": 49,
   "id": "66efbff0",
   "metadata": {},
   "outputs": [
    {
     "name": "stdout",
     "output_type": "stream",
     "text": [
      "[1 2 3 4 5 6 7 8 9]\n"
     ]
    }
   ],
   "source": [
    "arr = np.array(np.arange(1,10))\n",
    "print(arr)"
   ]
  },
  {
   "cell_type": "markdown",
   "id": "c35aec02",
   "metadata": {},
   "source": [
    "- ones"
   ]
  },
  {
   "cell_type": "code",
   "execution_count": 50,
   "id": "8a726e38",
   "metadata": {},
   "outputs": [
    {
     "name": "stdout",
     "output_type": "stream",
     "text": [
      "[[1. 1. 1.]\n",
      " [1. 1. 1.]]\n"
     ]
    }
   ],
   "source": [
    "# ones(n,m)은 (n,m)형태의 배열을 만들어라\n",
    "# 기본형은 float 으로 만들어짐\n",
    "arr = np.ones((2,3))\n",
    "print(arr)"
   ]
  },
  {
   "cell_type": "code",
   "execution_count": 51,
   "id": "079f748d",
   "metadata": {},
   "outputs": [
    {
     "name": "stdout",
     "output_type": "stream",
     "text": [
      "[[1 1 1]\n",
      " [1 1 1]]\n"
     ]
    }
   ],
   "source": [
    "# ones함수에 dtype을 추가해서 데이터 타입 변경가능\n",
    "arr = np.ones((2,3), dtype=int)\n",
    "print(arr)"
   ]
  },
  {
   "cell_type": "code",
   "execution_count": 52,
   "id": "1a53bfae",
   "metadata": {},
   "outputs": [
    {
     "name": "stdout",
     "output_type": "stream",
     "text": [
      "[[1 1 1 1 1]\n",
      " [1 1 1 1 1]\n",
      " [1 1 1 1 1]\n",
      " [1 1 1 1 1]\n",
      " [1 1 1 1 1]\n",
      " [1 1 1 1 1]]\n"
     ]
    }
   ],
   "source": [
    "# ones함수에 dtype을 추가해서 데이터 타입 변경가능\n",
    "arr = np.ones((6,5), dtype=int)\n",
    "print(arr)"
   ]
  },
  {
   "cell_type": "markdown",
   "id": "91bc85d7",
   "metadata": {},
   "source": [
    "- zeros"
   ]
  },
  {
   "cell_type": "code",
   "execution_count": 54,
   "id": "fd49dc49",
   "metadata": {},
   "outputs": [
    {
     "name": "stdout",
     "output_type": "stream",
     "text": [
      "[[0. 0. 0.]\n",
      " [0. 0. 0.]]\n"
     ]
    }
   ],
   "source": [
    "arr = np.zeros((2,3))\n",
    "print(arr)"
   ]
  },
  {
   "cell_type": "code",
   "execution_count": 55,
   "id": "aadec51d",
   "metadata": {},
   "outputs": [
    {
     "name": "stdout",
     "output_type": "stream",
     "text": [
      "[[0 0 0]\n",
      " [0 0 0]]\n"
     ]
    }
   ],
   "source": [
    "arr = np.zeros((2,3), dtype=int)\n",
    "print(arr)"
   ]
  },
  {
   "cell_type": "markdown",
   "id": "9a327376",
   "metadata": {},
   "source": [
    "- empty"
   ]
  },
  {
   "cell_type": "code",
   "execution_count": 56,
   "id": "d1478460",
   "metadata": {},
   "outputs": [
    {
     "name": "stdout",
     "output_type": "stream",
     "text": [
      "[[0. 0. 0.]\n",
      " [0. 0. 0.]]\n"
     ]
    }
   ],
   "source": [
    "# zeros는 0의 값을 만들어서 배열생성하지만\n",
    "# empty는 메모리 자체의 데이터를 가져와서 배열 생성\n",
    "arr = np.empty((2,3))\n",
    "print(arr)"
   ]
  },
  {
   "cell_type": "code",
   "execution_count": 57,
   "id": "8b7fe7e8",
   "metadata": {},
   "outputs": [
    {
     "name": "stdout",
     "output_type": "stream",
     "text": [
      "[[[1.11587377e-311 1.01283457e-321 0.00000000e+000 0.00000000e+000\n",
      "   8.90105596e-307]\n",
      "  [5.02034658e+175 2.12815986e+160 1.34994874e+161 1.00465404e-070\n",
      "   1.57402002e+161]\n",
      "  [2.59027864e-144 3.80985069e+180 1.14428494e+243 2.59027907e-144\n",
      "   7.79952704e-143]]\n",
      "\n",
      " [[1.02236848e+166 3.21679618e-057 1.39317672e+165 4.08235434e-033\n",
      "   4.99874559e+217]\n",
      "  [5.49419094e-143 2.91237123e+257 5.56111702e+180 5.74015544e+180\n",
      "   1.94919988e-153]\n",
      "  [2.59027858e-144 2.59903818e-144 4.96803199e-091 1.66050316e-076\n",
      "   1.45190549e-047]]]\n"
     ]
    }
   ],
   "source": [
    "arr = np.empty((2,3,5))\n",
    "print(arr)"
   ]
  },
  {
   "cell_type": "markdown",
   "id": "9aa7dd34",
   "metadata": {},
   "source": [
    "- full"
   ]
  },
  {
   "cell_type": "code",
   "execution_count": 58,
   "id": "a8e2d49c",
   "metadata": {},
   "outputs": [
    {
     "name": "stdout",
     "output_type": "stream",
     "text": [
      "[[5 5 5]\n",
      " [5 5 5]]\n"
     ]
    }
   ],
   "source": [
    "# full((n,m),k) => (2,3)형태의 배열을 k로 채워서 생성\n",
    "arr = np.full((2,3), 5, dtype=int)\n",
    "print(arr)"
   ]
  },
  {
   "cell_type": "code",
   "execution_count": 60,
   "id": "dbb86970",
   "metadata": {},
   "outputs": [
    {
     "name": "stdout",
     "output_type": "stream",
     "text": [
      "[[4 5]\n",
      " [4 5]]\n"
     ]
    }
   ],
   "source": [
    "# full((n,m),k) => (2,3)형태의 배열을 k로 채워서 생성\n",
    "# k값은 배열로 지정해도 상관없으나 m의 숫자만큼의 배열 생성가능\n",
    "arr = np.full((2,2), [4,5], dtype=int)\n",
    "print(arr)"
   ]
  },
  {
   "cell_type": "code",
   "execution_count": null,
   "id": "f8e1c1f0",
   "metadata": {},
   "outputs": [],
   "source": []
  }
 ],
 "metadata": {
  "kernelspec": {
   "display_name": "Python 3 (ipykernel)",
   "language": "python",
   "name": "python3"
  },
  "language_info": {
   "codemirror_mode": {
    "name": "ipython",
    "version": 3
   },
   "file_extension": ".py",
   "mimetype": "text/x-python",
   "name": "python",
   "nbconvert_exporter": "python",
   "pygments_lexer": "ipython3",
   "version": "3.9.6"
  }
 },
 "nbformat": 4,
 "nbformat_minor": 5
}
