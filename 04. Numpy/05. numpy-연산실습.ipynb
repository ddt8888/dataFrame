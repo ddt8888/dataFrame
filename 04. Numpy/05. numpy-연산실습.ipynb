{
 "cells": [
  {
   "cell_type": "code",
   "execution_count": 1,
   "id": "d3cc61cd",
   "metadata": {},
   "outputs": [],
   "source": [
    "import numpy as np"
   ]
  },
  {
   "cell_type": "markdown",
   "id": "990675fc",
   "metadata": {},
   "source": [
    "#### 연산\n",
    "- add\n",
    "- subtract\n",
    "- multiply\n",
    "- divide"
   ]
  },
  {
   "cell_type": "markdown",
   "id": "4ffca501",
   "metadata": {},
   "source": [
    "- add"
   ]
  },
  {
   "cell_type": "code",
   "execution_count": 8,
   "id": "0cb6d101",
   "metadata": {},
   "outputs": [
    {
     "name": "stdout",
     "output_type": "stream",
     "text": [
      "[[ 1  2  3  4  5]\n",
      " [ 6  7  8  9 10]]\n",
      "[[4 6 3 7 6]\n",
      " [6 9 6 4 1]]\n"
     ]
    }
   ],
   "source": [
    "arr = np.arange(1, 11).reshape(2,5)\n",
    "print(arr)\n",
    "ranarr = np.random.randint(1, 10, size=10).reshape(2, 5)\n",
    "print(ranarr)"
   ]
  },
  {
   "cell_type": "code",
   "execution_count": 9,
   "id": "a3c3114d",
   "metadata": {},
   "outputs": [
    {
     "name": "stdout",
     "output_type": "stream",
     "text": [
      "[[ 5  8  6 11 11]\n",
      " [12 16 14 13 11]]\n"
     ]
    }
   ],
   "source": [
    "print(arr + ranarr)"
   ]
  },
  {
   "cell_type": "code",
   "execution_count": 10,
   "id": "ee161bcb",
   "metadata": {},
   "outputs": [
    {
     "name": "stdout",
     "output_type": "stream",
     "text": [
      "[[ 5  8  6 11 11]\n",
      " [12 16 14 13 11]]\n"
     ]
    }
   ],
   "source": [
    "print(np.add(arr, ranarr))"
   ]
  },
  {
   "cell_type": "code",
   "execution_count": 11,
   "id": "613fbce6",
   "metadata": {},
   "outputs": [],
   "source": [
    "arr3 = ranarr.reshape(2,5)"
   ]
  },
  {
   "cell_type": "code",
   "execution_count": 12,
   "id": "222b22a7",
   "metadata": {},
   "outputs": [
    {
     "name": "stdout",
     "output_type": "stream",
     "text": [
      "[[4 6 3 7 6]\n",
      " [6 9 6 4 1]]\n"
     ]
    }
   ],
   "source": [
    "print(arr3)"
   ]
  },
  {
   "cell_type": "code",
   "execution_count": 13,
   "id": "259e7e6e",
   "metadata": {},
   "outputs": [
    {
     "data": {
      "text/plain": [
       "array([[-3, -4,  0, -3, -1],\n",
       "       [ 0, -2,  2,  5,  9]])"
      ]
     },
     "execution_count": 13,
     "metadata": {},
     "output_type": "execute_result"
    }
   ],
   "source": [
    "arr-ranarr"
   ]
  },
  {
   "cell_type": "code",
   "execution_count": 14,
   "id": "a924557f",
   "metadata": {},
   "outputs": [
    {
     "data": {
      "text/plain": [
       "array([[-3, -4,  0, -3, -1],\n",
       "       [ 0, -2,  2,  5,  9]])"
      ]
     },
     "execution_count": 14,
     "metadata": {},
     "output_type": "execute_result"
    }
   ],
   "source": [
    "np.subtract(arr, ranarr)"
   ]
  },
  {
   "cell_type": "code",
   "execution_count": 15,
   "id": "b615149b",
   "metadata": {},
   "outputs": [
    {
     "data": {
      "text/plain": [
       "array([[ 4, 12,  9, 28, 30],\n",
       "       [36, 63, 48, 36, 10]])"
      ]
     },
     "execution_count": 15,
     "metadata": {},
     "output_type": "execute_result"
    }
   ],
   "source": [
    "arr * ranarr"
   ]
  },
  {
   "cell_type": "code",
   "execution_count": 16,
   "id": "787a1fc6",
   "metadata": {},
   "outputs": [
    {
     "data": {
      "text/plain": [
       "array([[ 4, 12,  9, 28, 30],\n",
       "       [36, 63, 48, 36, 10]])"
      ]
     },
     "execution_count": 16,
     "metadata": {},
     "output_type": "execute_result"
    }
   ],
   "source": [
    "np.multiply(arr, ranarr)"
   ]
  },
  {
   "cell_type": "code",
   "execution_count": 17,
   "id": "23caecc2",
   "metadata": {},
   "outputs": [
    {
     "data": {
      "text/plain": [
       "array([[ 0.25      ,  0.33333333,  1.        ,  0.57142857,  0.83333333],\n",
       "       [ 1.        ,  0.77777778,  1.33333333,  2.25      , 10.        ]])"
      ]
     },
     "execution_count": 17,
     "metadata": {},
     "output_type": "execute_result"
    }
   ],
   "source": [
    "arr / ranarr"
   ]
  },
  {
   "cell_type": "code",
   "execution_count": 18,
   "id": "a1f8479d",
   "metadata": {},
   "outputs": [
    {
     "data": {
      "text/plain": [
       "array([[ 0.25      ,  0.33333333,  1.        ,  0.57142857,  0.83333333],\n",
       "       [ 1.        ,  0.77777778,  1.33333333,  2.25      , 10.        ]])"
      ]
     },
     "execution_count": 18,
     "metadata": {},
     "output_type": "execute_result"
    }
   ],
   "source": [
    "np.divide(arr, ranarr)"
   ]
  },
  {
   "cell_type": "markdown",
   "id": "b7c9b905",
   "metadata": {},
   "source": [
    "sacko.tistory.com/38"
   ]
  },
  {
   "cell_type": "code",
   "execution_count": 20,
   "id": "ff51c96a",
   "metadata": {},
   "outputs": [
    {
     "name": "stdout",
     "output_type": "stream",
     "text": [
      "[0 1 2]\n"
     ]
    }
   ],
   "source": [
    "arr1 = np.arange(3)\n",
    "print(arr1)"
   ]
  },
  {
   "cell_type": "code",
   "execution_count": 21,
   "id": "4287b097",
   "metadata": {},
   "outputs": [
    {
     "data": {
      "text/plain": [
       "array([5, 6, 7])"
      ]
     },
     "execution_count": 21,
     "metadata": {},
     "output_type": "execute_result"
    }
   ],
   "source": [
    "arr1 + 5"
   ]
  },
  {
   "cell_type": "code",
   "execution_count": null,
   "id": "863c5e5c",
   "metadata": {},
   "outputs": [],
   "source": []
  }
 ],
 "metadata": {
  "kernelspec": {
   "display_name": "Python 3 (ipykernel)",
   "language": "python",
   "name": "python3"
  },
  "language_info": {
   "codemirror_mode": {
    "name": "ipython",
    "version": 3
   },
   "file_extension": ".py",
   "mimetype": "text/x-python",
   "name": "python",
   "nbconvert_exporter": "python",
   "pygments_lexer": "ipython3",
   "version": "3.9.6"
  }
 },
 "nbformat": 4,
 "nbformat_minor": 5
}
