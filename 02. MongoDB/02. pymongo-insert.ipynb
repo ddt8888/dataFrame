{
 "cells": [
  {
   "cell_type": "code",
   "execution_count": 2,
   "id": "a2fd74a4",
   "metadata": {},
   "outputs": [],
   "source": [
    "#import pymongo\n",
    "from pymongo import MongoClient"
   ]
  },
  {
   "cell_type": "markdown",
   "id": "3c0adffb",
   "metadata": {},
   "source": [
    "#client = MongoClient('localhost', 27017)\n",
    "client = MongoClient('mongodb://localhost:27017')"
   ]
  },
  {
   "cell_type": "code",
   "execution_count": 7,
   "id": "bd7dde10",
   "metadata": {},
   "outputs": [],
   "source": [
    "#db = client.test_database\n",
    "db = client['test_database']"
   ]
  },
  {
   "cell_type": "code",
   "execution_count": 8,
   "id": "48db7879",
   "metadata": {},
   "outputs": [],
   "source": [
    "collection = db['test_collection']"
   ]
  },
  {
   "cell_type": "markdown",
   "id": "eedc77e3",
   "metadata": {},
   "source": [
    "- insert_one: 한 건 입력"
   ]
  },
  {
   "cell_type": "code",
   "execution_count": 14,
   "id": "846e9b62",
   "metadata": {},
   "outputs": [],
   "source": [
    "data_dic = {'name' : '홍길동', 'age': 17}"
   ]
  },
  {
   "cell_type": "code",
   "execution_count": null,
   "id": "252e51db",
   "metadata": {},
   "outputs": [],
   "source": [
    "# 아래 코드를 2번이상 컴파일하면 duplicate 에러 뜸\n",
    "re_data_dic = collection.insert_one(data_dic)"
   ]
  },
  {
   "cell_type": "code",
   "execution_count": 16,
   "id": "a2cf90cd",
   "metadata": {},
   "outputs": [
    {
     "name": "stdout",
     "output_type": "stream",
     "text": [
      "<pymongo.results.InsertOneResult object at 0x00000218E95C0F40>\n"
     ]
    },
    {
     "data": {
      "text/plain": [
       "ObjectId('6168ec502ae707fd870eff19')"
      ]
     },
     "execution_count": 16,
     "metadata": {},
     "output_type": "execute_result"
    }
   ],
   "source": [
    "print(re_data_dic)\n",
    "re_data_dic.inserted_id"
   ]
  },
  {
   "cell_type": "code",
   "execution_count": 18,
   "id": "e0457781",
   "metadata": {},
   "outputs": [],
   "source": [
    "data_dic2 = {'name' : '김길동', 'age': 27}"
   ]
  },
  {
   "cell_type": "code",
   "execution_count": 19,
   "id": "34d33bad",
   "metadata": {},
   "outputs": [],
   "source": [
    "re_data_dic2 = collection.insert_one(data_dic2)"
   ]
  },
  {
   "cell_type": "code",
   "execution_count": 20,
   "id": "0f592df1",
   "metadata": {},
   "outputs": [
    {
     "name": "stdout",
     "output_type": "stream",
     "text": [
      "<pymongo.results.InsertOneResult object at 0x00000218EADA7640>\n"
     ]
    },
    {
     "data": {
      "text/plain": [
       "ObjectId('6168ec722ae707fd870eff1a')"
      ]
     },
     "execution_count": 20,
     "metadata": {},
     "output_type": "execute_result"
    }
   ],
   "source": [
    "print(re_data_dic2)\n",
    "re_data_dic2.inserted_id"
   ]
  },
  {
   "cell_type": "markdown",
   "id": "a5d0ce01",
   "metadata": {},
   "source": [
    "- insert_many - 여러 건 insert"
   ]
  },
  {
   "cell_type": "code",
   "execution_count": 21,
   "id": "40cb4772",
   "metadata": {},
   "outputs": [],
   "source": [
    "data_list = [\n",
    "    {'name' : '제갈길동', 'age': 95},\n",
    "    {'name' : '황보길동', 'age': 82},\n",
    "    {'name' : '피길동', 'age': 63}\n",
    "]"
   ]
  },
  {
   "cell_type": "code",
   "execution_count": 22,
   "id": "668372ef",
   "metadata": {},
   "outputs": [],
   "source": [
    "re_3 = collection.insert_many(data_list)"
   ]
  },
  {
   "cell_type": "code",
   "execution_count": 23,
   "id": "555c300f",
   "metadata": {},
   "outputs": [
    {
     "data": {
      "text/plain": [
       "[ObjectId('6168ed432ae707fd870eff1b'),\n",
       " ObjectId('6168ed432ae707fd870eff1c'),\n",
       " ObjectId('6168ed432ae707fd870eff1d')]"
      ]
     },
     "execution_count": 23,
     "metadata": {},
     "output_type": "execute_result"
    }
   ],
   "source": [
    "re_3.inserted_ids"
   ]
  },
  {
   "cell_type": "markdown",
   "id": "e624024f",
   "metadata": {},
   "source": [
    "find_one, find"
   ]
  },
  {
   "cell_type": "code",
   "execution_count": 25,
   "id": "ce11d618",
   "metadata": {},
   "outputs": [
    {
     "data": {
      "text/plain": [
       "{'_id': ObjectId('6168ea562ae707fd870eff18'), 'name': '홍길동', 'age': 17}"
      ]
     },
     "execution_count": 25,
     "metadata": {},
     "output_type": "execute_result"
    }
   ],
   "source": [
    "sr1 = collection.find_one()\n",
    "sr1"
   ]
  },
  {
   "cell_type": "code",
   "execution_count": 32,
   "id": "51d08d0a",
   "metadata": {},
   "outputs": [
    {
     "data": {
      "text/plain": [
       "<pymongo.cursor.Cursor at 0x218ea9ded30>"
      ]
     },
     "execution_count": 32,
     "metadata": {},
     "output_type": "execute_result"
    }
   ],
   "source": [
    "sr2 = collection.find()\n",
    "sr2"
   ]
  },
  {
   "cell_type": "code",
   "execution_count": 33,
   "id": "ac67e340",
   "metadata": {},
   "outputs": [
    {
     "name": "stdout",
     "output_type": "stream",
     "text": [
      "{'_id': ObjectId('6168ea562ae707fd870eff18'), 'name': '홍길동', 'age': 17}\n",
      "{'_id': ObjectId('6168ec722ae707fd870eff1a'), 'name': '김길동', 'age': 27}\n",
      "{'_id': ObjectId('6168ed432ae707fd870eff1b'), 'name': '제갈길동', 'age': 95}\n",
      "{'_id': ObjectId('6168ed432ae707fd870eff1c'), 'name': '황보길동', 'age': 82}\n",
      "{'_id': ObjectId('6168ed432ae707fd870eff1d'), 'name': '피길동', 'age': 63}\n"
     ]
    }
   ],
   "source": [
    "for row in sr2:\n",
    "    print(row)"
   ]
  },
  {
   "cell_type": "markdown",
   "id": "4e807741",
   "metadata": {},
   "source": [
    "참조자료 : http://sikaleo.tistory.com/51\n",
    "- 조건"
   ]
  },
  {
   "cell_type": "code",
   "execution_count": 36,
   "id": "6a29209f",
   "metadata": {},
   "outputs": [
    {
     "name": "stdout",
     "output_type": "stream",
     "text": [
      "{'_id': ObjectId('6168ea562ae707fd870eff18'), 'name': '홍길동', 'age': 17}\n"
     ]
    }
   ],
   "source": [
    "#where name = '홍길동'\n",
    "srs = collection.find({'name' : '홍길동'})\n",
    "for fi in srs:\n",
    "    print(fi)"
   ]
  },
  {
   "cell_type": "code",
   "execution_count": 44,
   "id": "48128577",
   "metadata": {},
   "outputs": [
    {
     "name": "stdout",
     "output_type": "stream",
     "text": [
      "{'_id': ObjectId('6168ea562ae707fd870eff18'), 'name': '홍길동', 'age': 17}\n"
     ]
    }
   ],
   "source": [
    "#where name='홍길동' and age=17\n",
    "sry = collection.find({'name' : '홍길동', 'age':17})\n",
    "for sy in sry:\n",
    "    print(sy)"
   ]
  },
  {
   "cell_type": "code",
   "execution_count": 48,
   "id": "048bb31e",
   "metadata": {},
   "outputs": [
    {
     "name": "stdout",
     "output_type": "stream",
     "text": [
      "{'_id': ObjectId('6168ea562ae707fd870eff18'), 'name': '홍길동', 'age': 17}\n",
      "{'_id': ObjectId('6168ec722ae707fd870eff1a'), 'name': '김길동', 'age': 27}\n",
      "{'_id': ObjectId('6168ed432ae707fd870eff1b'), 'name': '제갈길동', 'age': 95}\n",
      "{'_id': ObjectId('6168ed432ae707fd870eff1c'), 'name': '황보길동', 'age': 82}\n",
      "{'_id': ObjectId('6168ed432ae707fd870eff1d'), 'name': '피길동', 'age': 63}\n"
     ]
    }
   ],
   "source": [
    "#where  age>=17\n",
    "sry2 = collection.find({'age' : {'$gte' : 17}})\n",
    "for sy2 in sry2:\n",
    "    print(sy2)"
   ]
  },
  {
   "cell_type": "code",
   "execution_count": 49,
   "id": "fd97b50f",
   "metadata": {},
   "outputs": [
    {
     "name": "stdout",
     "output_type": "stream",
     "text": [
      "{'name': '홍길동'}\n",
      "{'name': '김길동'}\n",
      "{'name': '제갈길동'}\n",
      "{'name': '황보길동'}\n",
      "{'name': '피길동'}\n"
     ]
    }
   ],
   "source": [
    "#select name from collection where and age\n",
    "sry3 = collection.find({'age' : {'$gte' : 17}}, {'name': 1, '_id':0})\n",
    "for sy3 in sry3:\n",
    "    print(sy3)"
   ]
  },
  {
   "cell_type": "markdown",
   "id": "7933aed4",
   "metadata": {},
   "source": [
    "- update_one, update_many"
   ]
  },
  {
   "cell_type": "code",
   "execution_count": 50,
   "id": "9314eb39",
   "metadata": {},
   "outputs": [
    {
     "data": {
      "text/plain": [
       "<pymongo.results.UpdateResult at 0x218e9218380>"
      ]
     },
     "execution_count": 50,
     "metadata": {},
     "output_type": "execute_result"
    }
   ],
   "source": [
    "collection.update_one({'name': '홍길동'}, {'$set' : {'age' : 20}})"
   ]
  },
  {
   "cell_type": "code",
   "execution_count": 52,
   "id": "21cf7159",
   "metadata": {},
   "outputs": [
    {
     "name": "stdout",
     "output_type": "stream",
     "text": [
      "{'_id': ObjectId('6168ea562ae707fd870eff18'), 'name': '홍길동', 'age': 20}\n"
     ]
    }
   ],
   "source": [
    "srname = collection.find({'name' : '홍길동'})\n",
    "for srn in srname:\n",
    "    print(srn)"
   ]
  },
  {
   "cell_type": "code",
   "execution_count": 53,
   "id": "0748df69",
   "metadata": {},
   "outputs": [
    {
     "data": {
      "text/plain": [
       "<pymongo.results.UpdateResult at 0x218ea227b40>"
      ]
     },
     "execution_count": 53,
     "metadata": {},
     "output_type": "execute_result"
    }
   ],
   "source": [
    "#나이가 30보다 많은 사람들의 나이를 31로 update하세요\n",
    "collection.update_many({'age' : {'$gt':30}}, {'$set': {'age' : 31}})"
   ]
  },
  {
   "cell_type": "code",
   "execution_count": 55,
   "id": "f491a2e0",
   "metadata": {},
   "outputs": [
    {
     "name": "stdout",
     "output_type": "stream",
     "text": [
      "{'_id': ObjectId('6168ea562ae707fd870eff18'), 'name': '홍길동', 'age': 20}\n",
      "{'_id': ObjectId('6168ec722ae707fd870eff1a'), 'name': '김길동', 'age': 27}\n",
      "{'_id': ObjectId('6168ed432ae707fd870eff1b'), 'name': '제갈길동', 'age': 31}\n",
      "{'_id': ObjectId('6168ed432ae707fd870eff1c'), 'name': '황보길동', 'age': 31}\n",
      "{'_id': ObjectId('6168ed432ae707fd870eff1d'), 'name': '피길동', 'age': 31}\n"
     ]
    }
   ],
   "source": [
    "srage = collection.find()\n",
    "for sage in srage:\n",
    "    print(sage)"
   ]
  },
  {
   "cell_type": "markdown",
   "id": "55862161",
   "metadata": {},
   "source": [
    "- delete, delete_many"
   ]
  },
  {
   "cell_type": "code",
   "execution_count": 56,
   "id": "fb2d9474",
   "metadata": {},
   "outputs": [
    {
     "data": {
      "text/plain": [
       "<pymongo.results.DeleteResult at 0x218eb045ec0>"
      ]
     },
     "execution_count": 56,
     "metadata": {},
     "output_type": "execute_result"
    }
   ],
   "source": [
    "collection.delete_many({'name' : '홍길동'})"
   ]
  },
  {
   "cell_type": "code",
   "execution_count": 57,
   "id": "65505d80",
   "metadata": {},
   "outputs": [
    {
     "name": "stdout",
     "output_type": "stream",
     "text": [
      "{'_id': ObjectId('6168ec722ae707fd870eff1a'), 'name': '김길동', 'age': 27}\n",
      "{'_id': ObjectId('6168ed432ae707fd870eff1b'), 'name': '제갈길동', 'age': 31}\n",
      "{'_id': ObjectId('6168ed432ae707fd870eff1c'), 'name': '황보길동', 'age': 31}\n",
      "{'_id': ObjectId('6168ed432ae707fd870eff1d'), 'name': '피길동', 'age': 31}\n"
     ]
    }
   ],
   "source": [
    "s = collection.find()\n",
    "for a in s:\n",
    "    print(a)"
   ]
  },
  {
   "cell_type": "code",
   "execution_count": 58,
   "id": "64c2b080",
   "metadata": {},
   "outputs": [
    {
     "data": {
      "text/plain": [
       "<pymongo.results.DeleteResult at 0x218eada7040>"
      ]
     },
     "execution_count": 58,
     "metadata": {},
     "output_type": "execute_result"
    }
   ],
   "source": [
    "collection.delete_many({'age' : 31})"
   ]
  },
  {
   "cell_type": "code",
   "execution_count": 59,
   "id": "9cdce759",
   "metadata": {},
   "outputs": [
    {
     "name": "stdout",
     "output_type": "stream",
     "text": [
      "{'_id': ObjectId('6168ec722ae707fd870eff1a'), 'name': '김길동', 'age': 27}\n"
     ]
    }
   ],
   "source": [
    "q = collection.find()\n",
    "for p in q:\n",
    "    print(p)"
   ]
  },
  {
   "cell_type": "code",
   "execution_count": 60,
   "id": "53d3911b",
   "metadata": {},
   "outputs": [],
   "source": [
    "data_list2 = [\n",
    "    {'name' : '대갈장군', 'age' : 95},\n",
    "    {'name' : '아갈장군', 'age' : 195},\n",
    "    {'name' : '머머리', 'age' : 87},\n",
    "    {'name' : '시바스대갈', 'age' : 99}\n",
    "]"
   ]
  },
  {
   "cell_type": "code",
   "execution_count": 61,
   "id": "fd3d7506",
   "metadata": {},
   "outputs": [],
   "source": [
    "data2 = collection.insert_many(data_list2)"
   ]
  },
  {
   "cell_type": "code",
   "execution_count": 62,
   "id": "3a8d8c1d",
   "metadata": {},
   "outputs": [
    {
     "name": "stdout",
     "output_type": "stream",
     "text": [
      "{'_id': ObjectId('6168ec722ae707fd870eff1a'), 'name': '김길동', 'age': 27}\n",
      "{'_id': ObjectId('6168faec2ae707fd870eff1e'), 'name': '대갈장군', 'age': 95}\n",
      "{'_id': ObjectId('6168faec2ae707fd870eff1f'), 'name': '아갈장군', 'age': 195}\n",
      "{'_id': ObjectId('6168faec2ae707fd870eff20'), 'name': '머머리', 'age': 87}\n",
      "{'_id': ObjectId('6168faec2ae707fd870eff21'), 'name': '시바스대갈', 'age': 99}\n"
     ]
    }
   ],
   "source": [
    "qwer = collection.find()\n",
    "for k in qwer:\n",
    "    print(k)"
   ]
  },
  {
   "cell_type": "code",
   "execution_count": null,
   "id": "1db559d8",
   "metadata": {},
   "outputs": [],
   "source": []
  }
 ],
 "metadata": {
  "kernelspec": {
   "display_name": "Python 3 (ipykernel)",
   "language": "python",
   "name": "python3"
  },
  "language_info": {
   "codemirror_mode": {
    "name": "ipython",
    "version": 3
   },
   "file_extension": ".py",
   "mimetype": "text/x-python",
   "name": "python",
   "nbconvert_exporter": "python",
   "pygments_lexer": "ipython3",
   "version": "3.9.6"
  }
 },
 "nbformat": 4,
 "nbformat_minor": 5
}
