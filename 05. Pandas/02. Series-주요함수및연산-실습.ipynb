{
 "cells": [
  {
   "cell_type": "code",
   "execution_count": 1,
   "id": "d97c6df8",
   "metadata": {},
   "outputs": [],
   "source": [
    "import numpy as np\n",
    "import pandas as pd"
   ]
  },
  {
   "cell_type": "markdown",
   "id": "e8e00f06",
   "metadata": {},
   "source": [
    "#### 주요 속성 및 함수"
   ]
  },
  {
   "cell_type": "code",
   "execution_count": 5,
   "id": "e44d3b0f",
   "metadata": {},
   "outputs": [
    {
     "data": {
      "text/plain": [
       "0     1.0\n",
       "1     2.0\n",
       "2     3.0\n",
       "3     1.0\n",
       "4     2.0\n",
       "5     3.0\n",
       "6     NaN\n",
       "7     4.0\n",
       "8     5.0\n",
       "9     6.0\n",
       "10    4.0\n",
       "11    5.0\n",
       "12    6.0\n",
       "dtype: float64"
      ]
     },
     "execution_count": 5,
     "metadata": {},
     "output_type": "execute_result"
    }
   ],
   "source": [
    "s = pd.Series([1,2,3,1,2,3,np.NaN, 4,5,6,4,5,6])\n",
    "s"
   ]
  },
  {
   "cell_type": "code",
   "execution_count": 6,
   "id": "90d496db",
   "metadata": {},
   "outputs": [
    {
     "data": {
      "text/plain": [
       "13"
      ]
     },
     "execution_count": 6,
     "metadata": {},
     "output_type": "execute_result"
    }
   ],
   "source": [
    "# 개수(NaN포함)\n",
    "s.size"
   ]
  },
  {
   "cell_type": "code",
   "execution_count": 7,
   "id": "2f5a77cc",
   "metadata": {},
   "outputs": [
    {
     "ename": "NameError",
     "evalue": "name 'S' is not defined",
     "output_type": "error",
     "traceback": [
      "\u001b[1;31m---------------------------------------------------------------------------\u001b[0m",
      "\u001b[1;31mNameError\u001b[0m                                 Traceback (most recent call last)",
      "\u001b[1;32m~\\AppData\\Local\\Temp/ipykernel_15932/2264610793.py\u001b[0m in \u001b[0;36m<module>\u001b[1;34m\u001b[0m\n\u001b[1;32m----> 1\u001b[1;33m \u001b[0mlen\u001b[0m\u001b[1;33m(\u001b[0m\u001b[0mS\u001b[0m\u001b[1;33m)\u001b[0m\u001b[1;33m\u001b[0m\u001b[1;33m\u001b[0m\u001b[0m\n\u001b[0m",
      "\u001b[1;31mNameError\u001b[0m: name 'S' is not defined"
     ]
    }
   ],
   "source": [
    "len(S)"
   ]
  },
  {
   "cell_type": "code",
   "execution_count": 8,
   "id": "f92827aa",
   "metadata": {},
   "outputs": [
    {
     "data": {
      "text/plain": [
       "13"
      ]
     },
     "execution_count": 8,
     "metadata": {},
     "output_type": "execute_result"
    }
   ],
   "source": [
    "len(s)"
   ]
  },
  {
   "cell_type": "code",
   "execution_count": 9,
   "id": "47c65b01",
   "metadata": {},
   "outputs": [
    {
     "data": {
      "text/plain": [
       "(13,)"
      ]
     },
     "execution_count": 9,
     "metadata": {},
     "output_type": "execute_result"
    }
   ],
   "source": [
    "s.shape"
   ]
  },
  {
   "cell_type": "code",
   "execution_count": 10,
   "id": "8009bd28",
   "metadata": {},
   "outputs": [
    {
     "data": {
      "text/plain": [
       "array([ 1.,  2.,  3., nan,  4.,  5.,  6.])"
      ]
     },
     "execution_count": 10,
     "metadata": {},
     "output_type": "execute_result"
    }
   ],
   "source": [
    "#unique 는 중복없이 유일 값으로 반환\n",
    "s.unique()"
   ]
  },
  {
   "cell_type": "code",
   "execution_count": 13,
   "id": "ae23aa97",
   "metadata": {},
   "outputs": [
    {
     "data": {
      "text/plain": [
       "12"
      ]
     },
     "execution_count": 13,
     "metadata": {},
     "output_type": "execute_result"
    }
   ],
   "source": [
    "# count : 개수(NaN제외)\n",
    "s.count()"
   ]
  },
  {
   "cell_type": "code",
   "execution_count": 16,
   "id": "d6758f16",
   "metadata": {},
   "outputs": [
    {
     "data": {
      "text/plain": [
       "3.5"
      ]
     },
     "execution_count": 16,
     "metadata": {},
     "output_type": "execute_result"
    }
   ],
   "source": [
    "#mean : 평균(NaN제외)\n",
    "s.mean()"
   ]
  },
  {
   "cell_type": "code",
   "execution_count": 17,
   "id": "fe60679e",
   "metadata": {},
   "outputs": [
    {
     "data": {
      "text/plain": [
       "1.0    2\n",
       "2.0    2\n",
       "3.0    2\n",
       "4.0    2\n",
       "5.0    2\n",
       "6.0    2\n",
       "dtype: int64"
      ]
     },
     "execution_count": 17,
     "metadata": {},
     "output_type": "execute_result"
    }
   ],
   "source": [
    "# value_counts() : 각 값의 중복 횟수(NaN 제외)\n",
    "s.value_counts()"
   ]
  },
  {
   "cell_type": "code",
   "execution_count": 18,
   "id": "75cc8ad4",
   "metadata": {},
   "outputs": [
    {
     "data": {
      "text/plain": [
       "0    1.0\n",
       "1    2.0\n",
       "2    3.0\n",
       "3    1.0\n",
       "4    2.0\n",
       "dtype: float64"
      ]
     },
     "execution_count": 18,
     "metadata": {},
     "output_type": "execute_result"
    }
   ],
   "source": [
    "# head() : 앞의 5개만 반환(index로는 0~4까지 / 괄호 안에 숫자를 넣으면 그 숫자만큼 반환)\n",
    "s.head()"
   ]
  },
  {
   "cell_type": "code",
   "execution_count": 26,
   "id": "82abf855",
   "metadata": {
    "scrolled": true
   },
   "outputs": [
    {
     "data": {
      "text/plain": [
       "8     5.0\n",
       "9     6.0\n",
       "10    4.0\n",
       "11    5.0\n",
       "12    6.0\n",
       "dtype: float64"
      ]
     },
     "execution_count": 26,
     "metadata": {},
     "output_type": "execute_result"
    }
   ],
   "source": [
    "# tail() : 하위 5개만 반환\n",
    "s.tail()"
   ]
  },
  {
   "cell_type": "markdown",
   "id": "95302c08",
   "metadata": {},
   "source": [
    "#### 연산\n",
    "- index : "
   ]
  },
  {
   "cell_type": "code",
   "execution_count": 27,
   "id": "f9c8b4f9",
   "metadata": {},
   "outputs": [
    {
     "name": "stdout",
     "output_type": "stream",
     "text": [
      "a    1\n",
      "b    2\n",
      "c    3\n",
      "d    4\n",
      "e    5\n",
      "dtype: int64\n",
      " \n",
      "c     6\n",
      "d     7\n",
      "e     8\n",
      "f     9\n",
      "g    10\n",
      "dtype: int64\n"
     ]
    }
   ],
   "source": [
    "s1 = pd.Series([1,2,3,4,5], ['a', 'b', 'c', 'd', 'e'])\n",
    "s2 = pd.Series([6,7,8,9,10], ['c', 'd', 'e', 'f', 'g'])\n",
    "print(s1)\n",
    "print(' ')\n",
    "print(s2)"
   ]
  },
  {
   "cell_type": "code",
   "execution_count": 28,
   "id": "2370ef21",
   "metadata": {},
   "outputs": [
    {
     "data": {
      "text/plain": [
       "a     NaN\n",
       "b     NaN\n",
       "c     9.0\n",
       "d    11.0\n",
       "e    13.0\n",
       "f     NaN\n",
       "g     NaN\n",
       "dtype: float64"
      ]
     },
     "execution_count": 28,
     "metadata": {},
     "output_type": "execute_result"
    }
   ],
   "source": [
    "# index가 동일한 값만 연산\n",
    "s1 + s2"
   ]
  },
  {
   "cell_type": "markdown",
   "id": "941169b4",
   "metadata": {},
   "source": [
    "- scala"
   ]
  },
  {
   "cell_type": "code",
   "execution_count": 29,
   "id": "a1be62fb",
   "metadata": {},
   "outputs": [
    {
     "data": {
      "text/plain": [
       "a     7\n",
       "b     8\n",
       "c     9\n",
       "d    10\n",
       "e    11\n",
       "dtype: int64"
      ]
     },
     "execution_count": 29,
     "metadata": {},
     "output_type": "execute_result"
    }
   ],
   "source": [
    "s1+ 6"
   ]
  },
  {
   "cell_type": "code",
   "execution_count": 30,
   "id": "907aac75",
   "metadata": {},
   "outputs": [
    {
     "data": {
      "text/plain": [
       "a   -4\n",
       "b   -3\n",
       "c   -2\n",
       "d   -1\n",
       "e    0\n",
       "dtype: int64"
      ]
     },
     "execution_count": 30,
     "metadata": {},
     "output_type": "execute_result"
    }
   ],
   "source": [
    "s1 -5"
   ]
  },
  {
   "cell_type": "code",
   "execution_count": null,
   "id": "35796e31",
   "metadata": {},
   "outputs": [],
   "source": []
  }
 ],
 "metadata": {
  "kernelspec": {
   "display_name": "Python 3 (ipykernel)",
   "language": "python",
   "name": "python3"
  },
  "language_info": {
   "codemirror_mode": {
    "name": "ipython",
    "version": 3
   },
   "file_extension": ".py",
   "mimetype": "text/x-python",
   "name": "python",
   "nbconvert_exporter": "python",
   "pygments_lexer": "ipython3",
   "version": "3.9.6"
  }
 },
 "nbformat": 4,
 "nbformat_minor": 5
}
